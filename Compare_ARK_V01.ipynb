{
 "cells": [
  {
   "cell_type": "code",
   "execution_count": 1,
   "metadata": {},
   "outputs": [],
   "source": [
    "import os \n",
    "os.chdir ('D:\\Scripts\\Test1')"
   ]
  },
  {
   "cell_type": "code",
   "execution_count": 2,
   "metadata": {},
   "outputs": [],
   "source": [
    "import datetime\n",
    "\n",
    "today=datetime.date.today()"
   ]
  },
  {
   "cell_type": "markdown",
   "metadata": {},
   "source": [
    "import requests\n",
    "\n",
    "url = 'https://ark-funds.com/wp-content/fundsiteliterature/csv/ARK_INNOVATION_ETF_ARKK_HOLDINGS.csv'\n",
    "geturl = requests.get(url)\n",
    "\n",
    "filename=('ARKK_'+str(today)+'.csv')\n",
    "open(filename, 'wb').write(geturl.content)"
   ]
  },
  {
   "cell_type": "code",
   "execution_count": 3,
   "metadata": {},
   "outputs": [],
   "source": [
    "import pandas, numpy\n",
    "data_new=pandas.read_csv('ARKK_2020-12-26.csv')\n",
    "data_old=pandas.read_csv('ARKK_2020-12-24.csv')"
   ]
  },
  {
   "cell_type": "code",
   "execution_count": 4,
   "metadata": {},
   "outputs": [
    {
     "data": {
      "text/html": [
       "<div>\n",
       "<style scoped>\n",
       "    .dataframe tbody tr th:only-of-type {\n",
       "        vertical-align: middle;\n",
       "    }\n",
       "\n",
       "    .dataframe tbody tr th {\n",
       "        vertical-align: top;\n",
       "    }\n",
       "\n",
       "    .dataframe thead th {\n",
       "        text-align: right;\n",
       "    }\n",
       "</style>\n",
       "<table border=\"1\" class=\"dataframe\">\n",
       "  <thead>\n",
       "    <tr style=\"text-align: right;\">\n",
       "      <th></th>\n",
       "      <th>date</th>\n",
       "      <th>fund</th>\n",
       "      <th>company</th>\n",
       "      <th>ticker</th>\n",
       "      <th>cusip</th>\n",
       "      <th>shares</th>\n",
       "      <th>market value($)</th>\n",
       "      <th>weight(%)</th>\n",
       "    </tr>\n",
       "  </thead>\n",
       "  <tbody>\n",
       "    <tr>\n",
       "      <th>0</th>\n",
       "      <td>12/24/2020</td>\n",
       "      <td>ARKK</td>\n",
       "      <td>TESLA INC</td>\n",
       "      <td>TSLA</td>\n",
       "      <td>88160R101</td>\n",
       "      <td>2835023.0</td>\n",
       "      <td>1.876133e+09</td>\n",
       "      <td>9.98</td>\n",
       "    </tr>\n",
       "    <tr>\n",
       "      <th>1</th>\n",
       "      <td>12/24/2020</td>\n",
       "      <td>ARKK</td>\n",
       "      <td>ROKU INC</td>\n",
       "      <td>ROKU</td>\n",
       "      <td>77543R102</td>\n",
       "      <td>3696600.0</td>\n",
       "      <td>1.319649e+09</td>\n",
       "      <td>7.02</td>\n",
       "    </tr>\n",
       "    <tr>\n",
       "      <th>2</th>\n",
       "      <td>12/24/2020</td>\n",
       "      <td>ARKK</td>\n",
       "      <td>CRISPR THERAPEUTICS AG</td>\n",
       "      <td>CRSP</td>\n",
       "      <td>H17182108</td>\n",
       "      <td>6434266.0</td>\n",
       "      <td>1.084174e+09</td>\n",
       "      <td>5.77</td>\n",
       "    </tr>\n",
       "    <tr>\n",
       "      <th>3</th>\n",
       "      <td>12/24/2020</td>\n",
       "      <td>ARKK</td>\n",
       "      <td>SQUARE INC - A</td>\n",
       "      <td>SQ</td>\n",
       "      <td>852234103</td>\n",
       "      <td>4294874.0</td>\n",
       "      <td>9.804338e+08</td>\n",
       "      <td>5.22</td>\n",
       "    </tr>\n",
       "    <tr>\n",
       "      <th>4</th>\n",
       "      <td>12/24/2020</td>\n",
       "      <td>ARKK</td>\n",
       "      <td>INVITAE CORP</td>\n",
       "      <td>NVTA</td>\n",
       "      <td>46185L103</td>\n",
       "      <td>17598486.0</td>\n",
       "      <td>8.283607e+08</td>\n",
       "      <td>4.41</td>\n",
       "    </tr>\n",
       "  </tbody>\n",
       "</table>\n",
       "</div>"
      ],
      "text/plain": [
       "         date  fund                 company ticker      cusip      shares  \\\n",
       "0  12/24/2020  ARKK               TESLA INC   TSLA  88160R101   2835023.0   \n",
       "1  12/24/2020  ARKK                ROKU INC   ROKU  77543R102   3696600.0   \n",
       "2  12/24/2020  ARKK  CRISPR THERAPEUTICS AG   CRSP  H17182108   6434266.0   \n",
       "3  12/24/2020  ARKK          SQUARE INC - A     SQ  852234103   4294874.0   \n",
       "4  12/24/2020  ARKK            INVITAE CORP   NVTA  46185L103  17598486.0   \n",
       "\n",
       "   market value($)  weight(%)  \n",
       "0     1.876133e+09       9.98  \n",
       "1     1.319649e+09       7.02  \n",
       "2     1.084174e+09       5.77  \n",
       "3     9.804338e+08       5.22  \n",
       "4     8.283607e+08       4.41  "
      ]
     },
     "execution_count": 4,
     "metadata": {},
     "output_type": "execute_result"
    }
   ],
   "source": [
    "data_new['ticker']=data_new['ticker'].fillna(data_new['company'].str.slice(stop=5))\n",
    "data_new=data_new.dropna(subset=['fund'])\n",
    "data_new.head()"
   ]
  },
  {
   "cell_type": "code",
   "execution_count": 5,
   "metadata": {},
   "outputs": [
    {
     "data": {
      "text/html": [
       "<div>\n",
       "<style scoped>\n",
       "    .dataframe tbody tr th:only-of-type {\n",
       "        vertical-align: middle;\n",
       "    }\n",
       "\n",
       "    .dataframe tbody tr th {\n",
       "        vertical-align: top;\n",
       "    }\n",
       "\n",
       "    .dataframe thead th {\n",
       "        text-align: right;\n",
       "    }\n",
       "</style>\n",
       "<table border=\"1\" class=\"dataframe\">\n",
       "  <thead>\n",
       "    <tr style=\"text-align: right;\">\n",
       "      <th></th>\n",
       "      <th>date</th>\n",
       "      <th>fund</th>\n",
       "      <th>company</th>\n",
       "      <th>ticker</th>\n",
       "      <th>cusip</th>\n",
       "      <th>shares</th>\n",
       "      <th>market value($)</th>\n",
       "      <th>weight(%)</th>\n",
       "    </tr>\n",
       "  </thead>\n",
       "  <tbody>\n",
       "    <tr>\n",
       "      <th>0</th>\n",
       "      <td>12/23/2020</td>\n",
       "      <td>ARKK</td>\n",
       "      <td>TESLA INC</td>\n",
       "      <td>TSLA</td>\n",
       "      <td>88160R101</td>\n",
       "      <td>2823071.0</td>\n",
       "      <td>1.823647e+09</td>\n",
       "      <td>9.66</td>\n",
       "    </tr>\n",
       "    <tr>\n",
       "      <th>1</th>\n",
       "      <td>12/23/2020</td>\n",
       "      <td>ARKK</td>\n",
       "      <td>ROKU INC</td>\n",
       "      <td>ROKU</td>\n",
       "      <td>77543R102</td>\n",
       "      <td>3681012.0</td>\n",
       "      <td>1.327226e+09</td>\n",
       "      <td>7.03</td>\n",
       "    </tr>\n",
       "    <tr>\n",
       "      <th>2</th>\n",
       "      <td>12/23/2020</td>\n",
       "      <td>ARKK</td>\n",
       "      <td>CRISPR THERAPEUTICS AG</td>\n",
       "      <td>CRSP</td>\n",
       "      <td>H17182108</td>\n",
       "      <td>6434266.0</td>\n",
       "      <td>1.114608e+09</td>\n",
       "      <td>5.91</td>\n",
       "    </tr>\n",
       "    <tr>\n",
       "      <th>3</th>\n",
       "      <td>12/23/2020</td>\n",
       "      <td>ARKK</td>\n",
       "      <td>SQUARE INC - A</td>\n",
       "      <td>SQ</td>\n",
       "      <td>852234103</td>\n",
       "      <td>4276766.0</td>\n",
       "      <td>9.865644e+08</td>\n",
       "      <td>5.23</td>\n",
       "    </tr>\n",
       "    <tr>\n",
       "      <th>4</th>\n",
       "      <td>12/23/2020</td>\n",
       "      <td>ARKK</td>\n",
       "      <td>INVITAE CORP</td>\n",
       "      <td>NVTA</td>\n",
       "      <td>46185L103</td>\n",
       "      <td>17598486.0</td>\n",
       "      <td>8.973468e+08</td>\n",
       "      <td>4.76</td>\n",
       "    </tr>\n",
       "  </tbody>\n",
       "</table>\n",
       "</div>"
      ],
      "text/plain": [
       "         date  fund                 company ticker      cusip      shares  \\\n",
       "0  12/23/2020  ARKK               TESLA INC   TSLA  88160R101   2823071.0   \n",
       "1  12/23/2020  ARKK                ROKU INC   ROKU  77543R102   3681012.0   \n",
       "2  12/23/2020  ARKK  CRISPR THERAPEUTICS AG   CRSP  H17182108   6434266.0   \n",
       "3  12/23/2020  ARKK          SQUARE INC - A     SQ  852234103   4276766.0   \n",
       "4  12/23/2020  ARKK            INVITAE CORP   NVTA  46185L103  17598486.0   \n",
       "\n",
       "   market value($)  weight(%)  \n",
       "0     1.823647e+09       9.66  \n",
       "1     1.327226e+09       7.03  \n",
       "2     1.114608e+09       5.91  \n",
       "3     9.865644e+08       5.23  \n",
       "4     8.973468e+08       4.76  "
      ]
     },
     "execution_count": 5,
     "metadata": {},
     "output_type": "execute_result"
    }
   ],
   "source": [
    "data_old['ticker']=data_old['ticker'].fillna(data_old['company'].str.slice(stop=5))\n",
    "data_old=data_old.dropna(subset=['fund'])\n",
    "data_old.head()"
   ]
  },
  {
   "cell_type": "code",
   "execution_count": 6,
   "metadata": {},
   "outputs": [
    {
     "data": {
      "text/html": [
       "<div>\n",
       "<style scoped>\n",
       "    .dataframe tbody tr th:only-of-type {\n",
       "        vertical-align: middle;\n",
       "    }\n",
       "\n",
       "    .dataframe tbody tr th {\n",
       "        vertical-align: top;\n",
       "    }\n",
       "\n",
       "    .dataframe thead th {\n",
       "        text-align: right;\n",
       "    }\n",
       "</style>\n",
       "<table border=\"1\" class=\"dataframe\">\n",
       "  <thead>\n",
       "    <tr style=\"text-align: right;\">\n",
       "      <th></th>\n",
       "      <th>date</th>\n",
       "      <th>fund</th>\n",
       "      <th>company</th>\n",
       "      <th>ticker</th>\n",
       "      <th>cusip</th>\n",
       "      <th>shares</th>\n",
       "      <th>market value($)</th>\n",
       "      <th>weight(%)</th>\n",
       "    </tr>\n",
       "  </thead>\n",
       "  <tbody>\n",
       "    <tr>\n",
       "      <th>0</th>\n",
       "      <td>12/24/2020</td>\n",
       "      <td>ARKK</td>\n",
       "      <td>TESLA INC</td>\n",
       "      <td>TSLA</td>\n",
       "      <td>88160R101</td>\n",
       "      <td>2835023.0</td>\n",
       "      <td>1.876133e+09</td>\n",
       "      <td>9.98</td>\n",
       "    </tr>\n",
       "    <tr>\n",
       "      <th>1</th>\n",
       "      <td>12/24/2020</td>\n",
       "      <td>ARKK</td>\n",
       "      <td>ROKU INC</td>\n",
       "      <td>ROKU</td>\n",
       "      <td>77543R102</td>\n",
       "      <td>3696600.0</td>\n",
       "      <td>1.319649e+09</td>\n",
       "      <td>7.02</td>\n",
       "    </tr>\n",
       "    <tr>\n",
       "      <th>2</th>\n",
       "      <td>12/24/2020</td>\n",
       "      <td>ARKK</td>\n",
       "      <td>CRISPR THERAPEUTICS AG</td>\n",
       "      <td>CRSP</td>\n",
       "      <td>H17182108</td>\n",
       "      <td>6434266.0</td>\n",
       "      <td>1.084174e+09</td>\n",
       "      <td>5.77</td>\n",
       "    </tr>\n",
       "    <tr>\n",
       "      <th>3</th>\n",
       "      <td>12/24/2020</td>\n",
       "      <td>ARKK</td>\n",
       "      <td>SQUARE INC - A</td>\n",
       "      <td>SQ</td>\n",
       "      <td>852234103</td>\n",
       "      <td>4294874.0</td>\n",
       "      <td>9.804338e+08</td>\n",
       "      <td>5.22</td>\n",
       "    </tr>\n",
       "    <tr>\n",
       "      <th>4</th>\n",
       "      <td>12/24/2020</td>\n",
       "      <td>ARKK</td>\n",
       "      <td>INVITAE CORP</td>\n",
       "      <td>NVTA</td>\n",
       "      <td>46185L103</td>\n",
       "      <td>17598486.0</td>\n",
       "      <td>8.283607e+08</td>\n",
       "      <td>4.41</td>\n",
       "    </tr>\n",
       "  </tbody>\n",
       "</table>\n",
       "</div>"
      ],
      "text/plain": [
       "         date  fund                 company ticker      cusip      shares  \\\n",
       "0  12/24/2020  ARKK               TESLA INC   TSLA  88160R101   2835023.0   \n",
       "1  12/24/2020  ARKK                ROKU INC   ROKU  77543R102   3696600.0   \n",
       "2  12/24/2020  ARKK  CRISPR THERAPEUTICS AG   CRSP  H17182108   6434266.0   \n",
       "3  12/24/2020  ARKK          SQUARE INC - A     SQ  852234103   4294874.0   \n",
       "4  12/24/2020  ARKK            INVITAE CORP   NVTA  46185L103  17598486.0   \n",
       "\n",
       "   market value($)  weight(%)  \n",
       "0     1.876133e+09       9.98  \n",
       "1     1.319649e+09       7.02  \n",
       "2     1.084174e+09       5.77  \n",
       "3     9.804338e+08       5.22  \n",
       "4     8.283607e+08       4.41  "
      ]
     },
     "execution_count": 6,
     "metadata": {},
     "output_type": "execute_result"
    }
   ],
   "source": [
    "for index_j,row_j in data_old.iterrows():\n",
    "\n",
    "    ticker_j=data_old.loc[index_j,'ticker']\n",
    "\n",
    "    if data_new.loc[data_new['ticker']==ticker_j].empty:\n",
    "        data_new=data_new.append(data_old.loc[index_j], ignore_index=True)\n",
    "        data_new.at[data_new['ticker']==ticker_j,['shares','market value($)','weight(%)']]=[0,0,0]\n",
    "\n",
    "data_new.head()"
   ]
  },
  {
   "cell_type": "code",
   "execution_count": 7,
   "metadata": {},
   "outputs": [
    {
     "data": {
      "text/html": [
       "<div>\n",
       "<style scoped>\n",
       "    .dataframe tbody tr th:only-of-type {\n",
       "        vertical-align: middle;\n",
       "    }\n",
       "\n",
       "    .dataframe tbody tr th {\n",
       "        vertical-align: top;\n",
       "    }\n",
       "\n",
       "    .dataframe thead th {\n",
       "        text-align: right;\n",
       "    }\n",
       "</style>\n",
       "<table border=\"1\" class=\"dataframe\">\n",
       "  <thead>\n",
       "    <tr style=\"text-align: right;\">\n",
       "      <th></th>\n",
       "      <th>company</th>\n",
       "      <th>ticker</th>\n",
       "      <th>pos old</th>\n",
       "      <th>pos new</th>\n",
       "      <th>shares old</th>\n",
       "      <th>shares new</th>\n",
       "      <th>value old</th>\n",
       "      <th>value new</th>\n",
       "    </tr>\n",
       "  </thead>\n",
       "  <tbody>\n",
       "    <tr>\n",
       "      <th>0</th>\n",
       "      <td>TESLA INC</td>\n",
       "      <td>TSLA</td>\n",
       "      <td>1</td>\n",
       "      <td>1</td>\n",
       "      <td>2823071.0</td>\n",
       "      <td>2835023.0</td>\n",
       "      <td>1.823647e+09</td>\n",
       "      <td>1.876133e+09</td>\n",
       "    </tr>\n",
       "    <tr>\n",
       "      <th>1</th>\n",
       "      <td>ROKU INC</td>\n",
       "      <td>ROKU</td>\n",
       "      <td>2</td>\n",
       "      <td>2</td>\n",
       "      <td>3681012.0</td>\n",
       "      <td>3696600.0</td>\n",
       "      <td>1.327226e+09</td>\n",
       "      <td>1.319649e+09</td>\n",
       "    </tr>\n",
       "    <tr>\n",
       "      <th>2</th>\n",
       "      <td>CRISPR THERAPEUTICS AG</td>\n",
       "      <td>CRSP</td>\n",
       "      <td>3</td>\n",
       "      <td>3</td>\n",
       "      <td>6434266.0</td>\n",
       "      <td>6434266.0</td>\n",
       "      <td>1.114608e+09</td>\n",
       "      <td>1.084174e+09</td>\n",
       "    </tr>\n",
       "    <tr>\n",
       "      <th>3</th>\n",
       "      <td>SQUARE INC - A</td>\n",
       "      <td>SQ</td>\n",
       "      <td>4</td>\n",
       "      <td>4</td>\n",
       "      <td>4276766.0</td>\n",
       "      <td>4294874.0</td>\n",
       "      <td>9.865644e+08</td>\n",
       "      <td>9.804338e+08</td>\n",
       "    </tr>\n",
       "    <tr>\n",
       "      <th>4</th>\n",
       "      <td>INVITAE CORP</td>\n",
       "      <td>NVTA</td>\n",
       "      <td>5</td>\n",
       "      <td>5</td>\n",
       "      <td>17598486.0</td>\n",
       "      <td>17598486.0</td>\n",
       "      <td>8.973468e+08</td>\n",
       "      <td>8.283607e+08</td>\n",
       "    </tr>\n",
       "  </tbody>\n",
       "</table>\n",
       "</div>"
      ],
      "text/plain": [
       "                  company ticker  pos old  pos new  shares old  shares new  \\\n",
       "0               TESLA INC   TSLA        1        1   2823071.0   2835023.0   \n",
       "1                ROKU INC   ROKU        2        2   3681012.0   3696600.0   \n",
       "2  CRISPR THERAPEUTICS AG   CRSP        3        3   6434266.0   6434266.0   \n",
       "3          SQUARE INC - A     SQ        4        4   4276766.0   4294874.0   \n",
       "4            INVITAE CORP   NVTA        5        5  17598486.0  17598486.0   \n",
       "\n",
       "      value old     value new  \n",
       "0  1.823647e+09  1.876133e+09  \n",
       "1  1.327226e+09  1.319649e+09  \n",
       "2  1.114608e+09  1.084174e+09  \n",
       "3  9.865644e+08  9.804338e+08  \n",
       "4  8.973468e+08  8.283607e+08  "
      ]
     },
     "execution_count": 7,
     "metadata": {},
     "output_type": "execute_result"
    }
   ],
   "source": [
    "data_out=pandas.DataFrame()\n",
    "\n",
    "for index,row in data_new.iterrows():\n",
    "    \n",
    "    ticker_i=data_new.loc[index,'ticker']\n",
    "    company_i=data_new.loc[index,'company']\n",
    "    shares_i_new=data_new.loc[index,'shares']\n",
    "    value_i_new=data_new.loc[index,'market value($)']\n",
    "    #print(ticker_i, shares_i_new, value_i_new)\n",
    "    \n",
    "    loc_i_old=data_old.loc[data_old['ticker']==ticker_i]\n",
    "    if loc_i_old.empty:\n",
    "        index_i_old=99\n",
    "        shares_i_old=0\n",
    "        value_i_old=0\n",
    "    else:    \n",
    "        index_i_old=loc_i_old.index[0]\n",
    "        shares_i_old=data_old.loc[index_i_old,'shares']\n",
    "        value_i_old=data_old.loc[index_i_old,'market value($)']\n",
    "    \n",
    "    #print(ticker_i, shares_i_old, value_i_old)\n",
    "    \n",
    "    pos_i_new=index+1\n",
    "    pos_i_old=index_i_old+1\n",
    "    \n",
    "    data_out_i=pandas.DataFrame([[company_i,ticker_i,pos_i_old,pos_i_new,shares_i_old,shares_i_new,value_i_old,value_i_new]],\n",
    "                          columns=['company','ticker','pos old','pos new','shares old','shares new','value old','value new'])\n",
    "    \n",
    "    data_out=data_out.append(data_out_i, ignore_index=True)\n",
    "\n",
    "data_out.head()"
   ]
  },
  {
   "cell_type": "code",
   "execution_count": 8,
   "metadata": {},
   "outputs": [
    {
     "data": {
      "text/html": [
       "<div>\n",
       "<style scoped>\n",
       "    .dataframe tbody tr th:only-of-type {\n",
       "        vertical-align: middle;\n",
       "    }\n",
       "\n",
       "    .dataframe tbody tr th {\n",
       "        vertical-align: top;\n",
       "    }\n",
       "\n",
       "    .dataframe thead th {\n",
       "        text-align: right;\n",
       "    }\n",
       "</style>\n",
       "<table border=\"1\" class=\"dataframe\">\n",
       "  <thead>\n",
       "    <tr style=\"text-align: right;\">\n",
       "      <th></th>\n",
       "      <th>company</th>\n",
       "      <th>ticker</th>\n",
       "      <th>pos old</th>\n",
       "      <th>pos new</th>\n",
       "      <th>shares old</th>\n",
       "      <th>shares new</th>\n",
       "      <th>value old</th>\n",
       "      <th>value new</th>\n",
       "      <th>price old</th>\n",
       "      <th>price new</th>\n",
       "      <th>...</th>\n",
       "      <th>delta shares %</th>\n",
       "      <th>delta value</th>\n",
       "      <th>delta value %</th>\n",
       "      <th>delta price</th>\n",
       "      <th>delta price %</th>\n",
       "      <th>value invest</th>\n",
       "      <th>value grow</th>\n",
       "      <th>value invest %</th>\n",
       "      <th>value grow %</th>\n",
       "      <th>delta value % TOT</th>\n",
       "    </tr>\n",
       "  </thead>\n",
       "  <tbody>\n",
       "    <tr>\n",
       "      <th>0</th>\n",
       "      <td>TESLA INC</td>\n",
       "      <td>TSLA</td>\n",
       "      <td>1</td>\n",
       "      <td>1</td>\n",
       "      <td>2.823071e+06</td>\n",
       "      <td>2.835023e+06</td>\n",
       "      <td>1.823647e+09</td>\n",
       "      <td>1.876133e+09</td>\n",
       "      <td>645.98</td>\n",
       "      <td>661.77</td>\n",
       "      <td>...</td>\n",
       "      <td>0.423369</td>\n",
       "      <td>52485766.13</td>\n",
       "      <td>2.878065</td>\n",
       "      <td>15.79</td>\n",
       "      <td>2.444348</td>\n",
       "      <td>7815114.00</td>\n",
       "      <td>44670652.13</td>\n",
       "      <td>0.041577</td>\n",
       "      <td>0.237651</td>\n",
       "      <td>0.279228</td>\n",
       "    </tr>\n",
       "    <tr>\n",
       "      <th>1</th>\n",
       "      <td>ROKU INC</td>\n",
       "      <td>ROKU</td>\n",
       "      <td>2</td>\n",
       "      <td>2</td>\n",
       "      <td>3.681012e+06</td>\n",
       "      <td>3.696600e+06</td>\n",
       "      <td>1.327226e+09</td>\n",
       "      <td>1.319649e+09</td>\n",
       "      <td>360.56</td>\n",
       "      <td>356.99</td>\n",
       "      <td>...</td>\n",
       "      <td>0.423471</td>\n",
       "      <td>-7576452.72</td>\n",
       "      <td>-0.570849</td>\n",
       "      <td>-3.57</td>\n",
       "      <td>-0.990126</td>\n",
       "      <td>5592584.70</td>\n",
       "      <td>-13169037.42</td>\n",
       "      <td>0.029753</td>\n",
       "      <td>-0.070060</td>\n",
       "      <td>-0.040307</td>\n",
       "    </tr>\n",
       "    <tr>\n",
       "      <th>2</th>\n",
       "      <td>CRISPR THERAPEUTICS AG</td>\n",
       "      <td>CRSP</td>\n",
       "      <td>3</td>\n",
       "      <td>3</td>\n",
       "      <td>6.434266e+06</td>\n",
       "      <td>6.434266e+06</td>\n",
       "      <td>1.114608e+09</td>\n",
       "      <td>1.084174e+09</td>\n",
       "      <td>173.23</td>\n",
       "      <td>168.50</td>\n",
       "      <td>...</td>\n",
       "      <td>0.000000</td>\n",
       "      <td>-30434078.18</td>\n",
       "      <td>-2.730474</td>\n",
       "      <td>-4.73</td>\n",
       "      <td>-2.730474</td>\n",
       "      <td>0.00</td>\n",
       "      <td>-30434078.18</td>\n",
       "      <td>0.000000</td>\n",
       "      <td>-0.161911</td>\n",
       "      <td>-0.161911</td>\n",
       "    </tr>\n",
       "    <tr>\n",
       "      <th>3</th>\n",
       "      <td>SQUARE INC - A</td>\n",
       "      <td>SQ</td>\n",
       "      <td>4</td>\n",
       "      <td>4</td>\n",
       "      <td>4.276766e+06</td>\n",
       "      <td>4.294874e+06</td>\n",
       "      <td>9.865644e+08</td>\n",
       "      <td>9.804338e+08</td>\n",
       "      <td>230.68</td>\n",
       "      <td>228.28</td>\n",
       "      <td>...</td>\n",
       "      <td>0.423404</td>\n",
       "      <td>-6130544.16</td>\n",
       "      <td>-0.621403</td>\n",
       "      <td>-2.40</td>\n",
       "      <td>-1.040402</td>\n",
       "      <td>4155423.84</td>\n",
       "      <td>-10285968.00</td>\n",
       "      <td>0.022107</td>\n",
       "      <td>-0.054722</td>\n",
       "      <td>-0.032615</td>\n",
       "    </tr>\n",
       "    <tr>\n",
       "      <th>4</th>\n",
       "      <td>INVITAE CORP</td>\n",
       "      <td>NVTA</td>\n",
       "      <td>5</td>\n",
       "      <td>5</td>\n",
       "      <td>1.759849e+07</td>\n",
       "      <td>1.759849e+07</td>\n",
       "      <td>8.973468e+08</td>\n",
       "      <td>8.283607e+08</td>\n",
       "      <td>50.99</td>\n",
       "      <td>47.07</td>\n",
       "      <td>...</td>\n",
       "      <td>0.000000</td>\n",
       "      <td>-68986065.12</td>\n",
       "      <td>-7.687782</td>\n",
       "      <td>-3.92</td>\n",
       "      <td>-7.687782</td>\n",
       "      <td>0.00</td>\n",
       "      <td>-68986065.12</td>\n",
       "      <td>0.000000</td>\n",
       "      <td>-0.367011</td>\n",
       "      <td>-0.367011</td>\n",
       "    </tr>\n",
       "    <tr>\n",
       "      <th>5</th>\n",
       "      <td>TELADOC HEALTH INC</td>\n",
       "      <td>TDOC</td>\n",
       "      <td>6</td>\n",
       "      <td>6</td>\n",
       "      <td>3.873023e+06</td>\n",
       "      <td>3.889415e+06</td>\n",
       "      <td>8.110885e+08</td>\n",
       "      <td>8.088038e+08</td>\n",
       "      <td>209.42</td>\n",
       "      <td>207.95</td>\n",
       "      <td>...</td>\n",
       "      <td>0.423235</td>\n",
       "      <td>-2284627.41</td>\n",
       "      <td>-0.281674</td>\n",
       "      <td>-1.47</td>\n",
       "      <td>-0.701939</td>\n",
       "      <td>3420764.52</td>\n",
       "      <td>-5705391.93</td>\n",
       "      <td>0.018199</td>\n",
       "      <td>-0.030353</td>\n",
       "      <td>-0.012154</td>\n",
       "    </tr>\n",
       "    <tr>\n",
       "      <th>6</th>\n",
       "      <td>ZILLOW GROUP INC - C</td>\n",
       "      <td>Z</td>\n",
       "      <td>8</td>\n",
       "      <td>7</td>\n",
       "      <td>4.199362e+06</td>\n",
       "      <td>4.217146e+06</td>\n",
       "      <td>5.930759e+08</td>\n",
       "      <td>5.846651e+08</td>\n",
       "      <td>141.23</td>\n",
       "      <td>138.64</td>\n",
       "      <td>...</td>\n",
       "      <td>0.423493</td>\n",
       "      <td>-8410773.82</td>\n",
       "      <td>-1.418161</td>\n",
       "      <td>-2.59</td>\n",
       "      <td>-1.833888</td>\n",
       "      <td>2488604.04</td>\n",
       "      <td>-10899377.86</td>\n",
       "      <td>0.013240</td>\n",
       "      <td>-0.057985</td>\n",
       "      <td>-0.044746</td>\n",
       "    </tr>\n",
       "    <tr>\n",
       "      <th>7</th>\n",
       "      <td>EDITAS MEDICINE INC</td>\n",
       "      <td>EDIT</td>\n",
       "      <td>9</td>\n",
       "      <td>8</td>\n",
       "      <td>6.825245e+06</td>\n",
       "      <td>6.825245e+06</td>\n",
       "      <td>5.569400e+08</td>\n",
       "      <td>5.701127e+08</td>\n",
       "      <td>81.60</td>\n",
       "      <td>83.53</td>\n",
       "      <td>...</td>\n",
       "      <td>0.000000</td>\n",
       "      <td>13172722.85</td>\n",
       "      <td>2.365196</td>\n",
       "      <td>1.93</td>\n",
       "      <td>2.365196</td>\n",
       "      <td>0.00</td>\n",
       "      <td>13172722.85</td>\n",
       "      <td>0.000000</td>\n",
       "      <td>0.070080</td>\n",
       "      <td>0.070080</td>\n",
       "    </tr>\n",
       "    <tr>\n",
       "      <th>8</th>\n",
       "      <td>PROTO LABS INC</td>\n",
       "      <td>PRLB</td>\n",
       "      <td>7</td>\n",
       "      <td>9</td>\n",
       "      <td>3.240390e+06</td>\n",
       "      <td>3.240390e+06</td>\n",
       "      <td>6.103923e+08</td>\n",
       "      <td>5.591293e+08</td>\n",
       "      <td>188.37</td>\n",
       "      <td>172.55</td>\n",
       "      <td>...</td>\n",
       "      <td>0.000000</td>\n",
       "      <td>-51262969.80</td>\n",
       "      <td>-8.398365</td>\n",
       "      <td>-15.82</td>\n",
       "      <td>-8.398365</td>\n",
       "      <td>0.00</td>\n",
       "      <td>-51262969.80</td>\n",
       "      <td>0.000000</td>\n",
       "      <td>-0.272722</td>\n",
       "      <td>-0.272722</td>\n",
       "    </tr>\n",
       "    <tr>\n",
       "      <th>9</th>\n",
       "      <td>PURE STORAGE INC - CLASS A</td>\n",
       "      <td>PSTG</td>\n",
       "      <td>10</td>\n",
       "      <td>10</td>\n",
       "      <td>2.189223e+07</td>\n",
       "      <td>2.198492e+07</td>\n",
       "      <td>5.297920e+08</td>\n",
       "      <td>5.271984e+08</td>\n",
       "      <td>24.20</td>\n",
       "      <td>23.98</td>\n",
       "      <td>...</td>\n",
       "      <td>0.423383</td>\n",
       "      <td>-2593632.58</td>\n",
       "      <td>-0.489557</td>\n",
       "      <td>-0.22</td>\n",
       "      <td>-0.909091</td>\n",
       "      <td>2232853.92</td>\n",
       "      <td>-4826486.50</td>\n",
       "      <td>0.011879</td>\n",
       "      <td>-0.025677</td>\n",
       "      <td>-0.013798</td>\n",
       "    </tr>\n",
       "    <tr>\n",
       "      <th>10</th>\n",
       "      <td>SPOTIFY TECHNOLOGY SA</td>\n",
       "      <td>SPOT</td>\n",
       "      <td>11</td>\n",
       "      <td>11</td>\n",
       "      <td>1.537846e+06</td>\n",
       "      <td>1.544362e+06</td>\n",
       "      <td>5.087041e+08</td>\n",
       "      <td>5.071530e+08</td>\n",
       "      <td>330.79</td>\n",
       "      <td>328.39</td>\n",
       "      <td>...</td>\n",
       "      <td>0.423710</td>\n",
       "      <td>-1551041.16</td>\n",
       "      <td>-0.304900</td>\n",
       "      <td>-2.40</td>\n",
       "      <td>-0.725536</td>\n",
       "      <td>2147608.44</td>\n",
       "      <td>-3698649.60</td>\n",
       "      <td>0.011425</td>\n",
       "      <td>-0.019677</td>\n",
       "      <td>-0.008252</td>\n",
       "    </tr>\n",
       "    <tr>\n",
       "      <th>11</th>\n",
       "      <td>IOVANCE BIOTHERAPEUTICS INC</td>\n",
       "      <td>IOVA</td>\n",
       "      <td>12</td>\n",
       "      <td>12</td>\n",
       "      <td>8.611208e+06</td>\n",
       "      <td>8.647664e+06</td>\n",
       "      <td>4.280631e+08</td>\n",
       "      <td>4.284918e+08</td>\n",
       "      <td>49.71</td>\n",
       "      <td>49.55</td>\n",
       "      <td>...</td>\n",
       "      <td>0.423355</td>\n",
       "      <td>428601.52</td>\n",
       "      <td>0.100126</td>\n",
       "      <td>-0.16</td>\n",
       "      <td>-0.321867</td>\n",
       "      <td>1809311.28</td>\n",
       "      <td>-1380709.76</td>\n",
       "      <td>0.009626</td>\n",
       "      <td>-0.007345</td>\n",
       "      <td>0.002280</td>\n",
       "    </tr>\n",
       "    <tr>\n",
       "      <th>12</th>\n",
       "      <td>TWILIO INC - A</td>\n",
       "      <td>TWLO</td>\n",
       "      <td>15</td>\n",
       "      <td>13</td>\n",
       "      <td>1.141553e+06</td>\n",
       "      <td>1.146389e+06</td>\n",
       "      <td>4.147034e+08</td>\n",
       "      <td>4.160016e+08</td>\n",
       "      <td>363.28</td>\n",
       "      <td>362.88</td>\n",
       "      <td>...</td>\n",
       "      <td>0.423633</td>\n",
       "      <td>1298266.48</td>\n",
       "      <td>0.313059</td>\n",
       "      <td>-0.40</td>\n",
       "      <td>-0.110108</td>\n",
       "      <td>1755854.88</td>\n",
       "      <td>-457588.40</td>\n",
       "      <td>0.009341</td>\n",
       "      <td>-0.002434</td>\n",
       "      <td>0.006907</td>\n",
       "    </tr>\n",
       "    <tr>\n",
       "      <th>13</th>\n",
       "      <td>INTELLIA THERAPEUTICS INC</td>\n",
       "      <td>NTLA</td>\n",
       "      <td>13</td>\n",
       "      <td>14</td>\n",
       "      <td>6.654627e+06</td>\n",
       "      <td>6.654627e+06</td>\n",
       "      <td>4.215706e+08</td>\n",
       "      <td>4.135185e+08</td>\n",
       "      <td>63.35</td>\n",
       "      <td>62.14</td>\n",
       "      <td>...</td>\n",
       "      <td>0.000000</td>\n",
       "      <td>-8052098.67</td>\n",
       "      <td>-1.910024</td>\n",
       "      <td>-1.21</td>\n",
       "      <td>-1.910024</td>\n",
       "      <td>0.00</td>\n",
       "      <td>-8052098.67</td>\n",
       "      <td>0.000000</td>\n",
       "      <td>-0.042838</td>\n",
       "      <td>-0.042838</td>\n",
       "    </tr>\n",
       "    <tr>\n",
       "      <th>14</th>\n",
       "      <td>TWIST BIOSCIENCE CORP</td>\n",
       "      <td>TWST</td>\n",
       "      <td>14</td>\n",
       "      <td>15</td>\n",
       "      <td>2.488283e+06</td>\n",
       "      <td>2.498819e+06</td>\n",
       "      <td>4.149461e+08</td>\n",
       "      <td>4.099063e+08</td>\n",
       "      <td>166.76</td>\n",
       "      <td>164.04</td>\n",
       "      <td>...</td>\n",
       "      <td>0.423425</td>\n",
       "      <td>-5039804.32</td>\n",
       "      <td>-1.214569</td>\n",
       "      <td>-2.72</td>\n",
       "      <td>-1.631087</td>\n",
       "      <td>1742654.40</td>\n",
       "      <td>-6782458.72</td>\n",
       "      <td>0.009271</td>\n",
       "      <td>-0.036083</td>\n",
       "      <td>-0.026812</td>\n",
       "    </tr>\n",
       "    <tr>\n",
       "      <th>15</th>\n",
       "      <td>EXACT SCIENCES CORP</td>\n",
       "      <td>EXAS</td>\n",
       "      <td>16</td>\n",
       "      <td>16</td>\n",
       "      <td>2.704746e+06</td>\n",
       "      <td>2.716194e+06</td>\n",
       "      <td>3.813692e+08</td>\n",
       "      <td>3.790720e+08</td>\n",
       "      <td>141.00</td>\n",
       "      <td>139.56</td>\n",
       "      <td>...</td>\n",
       "      <td>0.423256</td>\n",
       "      <td>-2297151.36</td>\n",
       "      <td>-0.602343</td>\n",
       "      <td>-1.44</td>\n",
       "      <td>-1.021277</td>\n",
       "      <td>1605925.44</td>\n",
       "      <td>-3903076.80</td>\n",
       "      <td>0.008544</td>\n",
       "      <td>-0.020765</td>\n",
       "      <td>-0.012221</td>\n",
       "    </tr>\n",
       "    <tr>\n",
       "      <th>16</th>\n",
       "      <td>DOCUSIGN INC</td>\n",
       "      <td>DOCU</td>\n",
       "      <td>17</td>\n",
       "      <td>17</td>\n",
       "      <td>1.504752e+06</td>\n",
       "      <td>1.511124e+06</td>\n",
       "      <td>3.672347e+08</td>\n",
       "      <td>3.701196e+08</td>\n",
       "      <td>244.05</td>\n",
       "      <td>244.93</td>\n",
       "      <td>...</td>\n",
       "      <td>0.423458</td>\n",
       "      <td>2884875.72</td>\n",
       "      <td>0.785567</td>\n",
       "      <td>0.88</td>\n",
       "      <td>0.360582</td>\n",
       "      <td>1557890.28</td>\n",
       "      <td>1326985.44</td>\n",
       "      <td>0.008288</td>\n",
       "      <td>0.007060</td>\n",
       "      <td>0.015348</td>\n",
       "    </tr>\n",
       "    <tr>\n",
       "      <th>17</th>\n",
       "      <td>PAYPAL HOLDINGS INC</td>\n",
       "      <td>PYPL</td>\n",
       "      <td>18</td>\n",
       "      <td>18</td>\n",
       "      <td>1.521653e+06</td>\n",
       "      <td>1.528097e+06</td>\n",
       "      <td>3.643446e+08</td>\n",
       "      <td>3.646651e+08</td>\n",
       "      <td>239.44</td>\n",
       "      <td>238.64</td>\n",
       "      <td>...</td>\n",
       "      <td>0.423487</td>\n",
       "      <td>320473.76</td>\n",
       "      <td>0.087959</td>\n",
       "      <td>-0.80</td>\n",
       "      <td>-0.334113</td>\n",
       "      <td>1540373.76</td>\n",
       "      <td>-1219900.00</td>\n",
       "      <td>0.008195</td>\n",
       "      <td>-0.006490</td>\n",
       "      <td>0.001705</td>\n",
       "    </tr>\n",
       "    <tr>\n",
       "      <th>18</th>\n",
       "      <td>SHOPIFY INC - CLASS A</td>\n",
       "      <td>SHOP</td>\n",
       "      <td>24</td>\n",
       "      <td>19</td>\n",
       "      <td>2.730280e+05</td>\n",
       "      <td>2.879810e+05</td>\n",
       "      <td>3.270766e+08</td>\n",
       "      <td>3.529265e+08</td>\n",
       "      <td>1197.96</td>\n",
       "      <td>1225.52</td>\n",
       "      <td>...</td>\n",
       "      <td>5.476728</td>\n",
       "      <td>25849852.24</td>\n",
       "      <td>7.903302</td>\n",
       "      <td>27.56</td>\n",
       "      <td>2.300578</td>\n",
       "      <td>18119148.22</td>\n",
       "      <td>7730704.02</td>\n",
       "      <td>0.096395</td>\n",
       "      <td>0.041128</td>\n",
       "      <td>0.137523</td>\n",
       "    </tr>\n",
       "    <tr>\n",
       "      <th>19</th>\n",
       "      <td>PAGERDUTY INC</td>\n",
       "      <td>PD</td>\n",
       "      <td>20</td>\n",
       "      <td>20</td>\n",
       "      <td>7.613933e+06</td>\n",
       "      <td>7.613933e+06</td>\n",
       "      <td>3.520683e+08</td>\n",
       "      <td>3.506978e+08</td>\n",
       "      <td>46.24</td>\n",
       "      <td>46.06</td>\n",
       "      <td>...</td>\n",
       "      <td>0.000000</td>\n",
       "      <td>-1370507.94</td>\n",
       "      <td>-0.389273</td>\n",
       "      <td>-0.18</td>\n",
       "      <td>-0.389273</td>\n",
       "      <td>0.00</td>\n",
       "      <td>-1370507.94</td>\n",
       "      <td>0.000000</td>\n",
       "      <td>-0.007291</td>\n",
       "      <td>-0.007291</td>\n",
       "    </tr>\n",
       "    <tr>\n",
       "      <th>20</th>\n",
       "      <td>TAIWAN SEMICONDUCTOR-SP ADR</td>\n",
       "      <td>TSM</td>\n",
       "      <td>23</td>\n",
       "      <td>21</td>\n",
       "      <td>3.257358e+06</td>\n",
       "      <td>3.271158e+06</td>\n",
       "      <td>3.379835e+08</td>\n",
       "      <td>3.466446e+08</td>\n",
       "      <td>103.76</td>\n",
       "      <td>105.97</td>\n",
       "      <td>...</td>\n",
       "      <td>0.423656</td>\n",
       "      <td>8661147.18</td>\n",
       "      <td>2.562595</td>\n",
       "      <td>2.21</td>\n",
       "      <td>2.129915</td>\n",
       "      <td>1447137.00</td>\n",
       "      <td>7214010.18</td>\n",
       "      <td>0.007699</td>\n",
       "      <td>0.038379</td>\n",
       "      <td>0.046078</td>\n",
       "    </tr>\n",
       "    <tr>\n",
       "      <th>21</th>\n",
       "      <td>MATERIALISE NV-ADR</td>\n",
       "      <td>MTLS</td>\n",
       "      <td>19</td>\n",
       "      <td>22</td>\n",
       "      <td>6.055685e+06</td>\n",
       "      <td>6.055685e+06</td>\n",
       "      <td>3.560137e+08</td>\n",
       "      <td>3.416012e+08</td>\n",
       "      <td>58.79</td>\n",
       "      <td>56.41</td>\n",
       "      <td>...</td>\n",
       "      <td>0.000000</td>\n",
       "      <td>-14412530.30</td>\n",
       "      <td>-4.048308</td>\n",
       "      <td>-2.38</td>\n",
       "      <td>-4.048308</td>\n",
       "      <td>0.00</td>\n",
       "      <td>-14412530.30</td>\n",
       "      <td>0.000000</td>\n",
       "      <td>-0.076676</td>\n",
       "      <td>-0.076676</td>\n",
       "    </tr>\n",
       "    <tr>\n",
       "      <th>22</th>\n",
       "      <td>LENDINGTREE INC</td>\n",
       "      <td>TREE UW</td>\n",
       "      <td>22</td>\n",
       "      <td>23</td>\n",
       "      <td>1.234173e+06</td>\n",
       "      <td>1.234173e+06</td>\n",
       "      <td>3.406564e+08</td>\n",
       "      <td>3.424213e+08</td>\n",
       "      <td>276.02</td>\n",
       "      <td>277.45</td>\n",
       "      <td>...</td>\n",
       "      <td>0.000000</td>\n",
       "      <td>1764867.39</td>\n",
       "      <td>0.518078</td>\n",
       "      <td>1.43</td>\n",
       "      <td>0.518078</td>\n",
       "      <td>0.00</td>\n",
       "      <td>1764867.39</td>\n",
       "      <td>0.000000</td>\n",
       "      <td>0.009389</td>\n",
       "      <td>0.009389</td>\n",
       "    </tr>\n",
       "    <tr>\n",
       "      <th>23</th>\n",
       "      <td>2U INC</td>\n",
       "      <td>TWOU</td>\n",
       "      <td>21</td>\n",
       "      <td>24</td>\n",
       "      <td>8.120745e+06</td>\n",
       "      <td>8.120745e+06</td>\n",
       "      <td>3.457001e+08</td>\n",
       "      <td>3.409901e+08</td>\n",
       "      <td>42.57</td>\n",
       "      <td>41.99</td>\n",
       "      <td>...</td>\n",
       "      <td>0.000000</td>\n",
       "      <td>-4710032.10</td>\n",
       "      <td>-1.362462</td>\n",
       "      <td>-0.58</td>\n",
       "      <td>-1.362462</td>\n",
       "      <td>0.00</td>\n",
       "      <td>-4710032.10</td>\n",
       "      <td>0.000000</td>\n",
       "      <td>-0.025058</td>\n",
       "      <td>-0.025058</td>\n",
       "    </tr>\n",
       "    <tr>\n",
       "      <th>24</th>\n",
       "      <td>MORGAN STANLEY GOVT INSTL 8035</td>\n",
       "      <td>MORGA</td>\n",
       "      <td>33</td>\n",
       "      <td>25</td>\n",
       "      <td>2.091574e+08</td>\n",
       "      <td>3.057989e+08</td>\n",
       "      <td>2.091574e+08</td>\n",
       "      <td>3.057989e+08</td>\n",
       "      <td>1.00</td>\n",
       "      <td>1.00</td>\n",
       "      <td>...</td>\n",
       "      <td>46.205118</td>\n",
       "      <td>96641436.07</td>\n",
       "      <td>46.205118</td>\n",
       "      <td>0.00</td>\n",
       "      <td>0.000000</td>\n",
       "      <td>96641436.07</td>\n",
       "      <td>0.00</td>\n",
       "      <td>0.514139</td>\n",
       "      <td>0.000000</td>\n",
       "      <td>0.514139</td>\n",
       "    </tr>\n",
       "    <tr>\n",
       "      <th>25</th>\n",
       "      <td>INTERCONTINENTAL EXCHANGE IN</td>\n",
       "      <td>ICE</td>\n",
       "      <td>25</td>\n",
       "      <td>26</td>\n",
       "      <td>2.589907e+06</td>\n",
       "      <td>2.600875e+06</td>\n",
       "      <td>2.905358e+08</td>\n",
       "      <td>2.930926e+08</td>\n",
       "      <td>112.18</td>\n",
       "      <td>112.69</td>\n",
       "      <td>...</td>\n",
       "      <td>0.423490</td>\n",
       "      <td>2556836.49</td>\n",
       "      <td>0.880042</td>\n",
       "      <td>0.51</td>\n",
       "      <td>0.454626</td>\n",
       "      <td>1233187.08</td>\n",
       "      <td>1323649.41</td>\n",
       "      <td>0.006561</td>\n",
       "      <td>0.007042</td>\n",
       "      <td>0.013603</td>\n",
       "    </tr>\n",
       "    <tr>\n",
       "      <th>26</th>\n",
       "      <td>VERACYTE INC</td>\n",
       "      <td>VCYT</td>\n",
       "      <td>26</td>\n",
       "      <td>27</td>\n",
       "      <td>5.032228e+06</td>\n",
       "      <td>5.032228e+06</td>\n",
       "      <td>2.866860e+08</td>\n",
       "      <td>2.807983e+08</td>\n",
       "      <td>56.97</td>\n",
       "      <td>55.80</td>\n",
       "      <td>...</td>\n",
       "      <td>0.000000</td>\n",
       "      <td>-5887706.76</td>\n",
       "      <td>-2.053712</td>\n",
       "      <td>-1.17</td>\n",
       "      <td>-2.053712</td>\n",
       "      <td>0.00</td>\n",
       "      <td>-5887706.76</td>\n",
       "      <td>0.000000</td>\n",
       "      <td>-0.031323</td>\n",
       "      <td>-0.031323</td>\n",
       "    </tr>\n",
       "    <tr>\n",
       "      <th>27</th>\n",
       "      <td>UNITY SOFTWARE INC</td>\n",
       "      <td>U</td>\n",
       "      <td>27</td>\n",
       "      <td>28</td>\n",
       "      <td>1.557657e+06</td>\n",
       "      <td>1.564257e+06</td>\n",
       "      <td>2.616085e+08</td>\n",
       "      <td>2.579773e+08</td>\n",
       "      <td>167.95</td>\n",
       "      <td>164.92</td>\n",
       "      <td>...</td>\n",
       "      <td>0.423713</td>\n",
       "      <td>-3631228.71</td>\n",
       "      <td>-1.388039</td>\n",
       "      <td>-3.03</td>\n",
       "      <td>-1.804108</td>\n",
       "      <td>1098471.00</td>\n",
       "      <td>-4729699.71</td>\n",
       "      <td>0.005844</td>\n",
       "      <td>-0.025162</td>\n",
       "      <td>-0.019318</td>\n",
       "    </tr>\n",
       "    <tr>\n",
       "      <th>28</th>\n",
       "      <td>KE HOLDINGS INC</td>\n",
       "      <td>BEKE</td>\n",
       "      <td>28</td>\n",
       "      <td>29</td>\n",
       "      <td>3.755775e+06</td>\n",
       "      <td>3.785205e+06</td>\n",
       "      <td>2.552800e+08</td>\n",
       "      <td>2.473253e+08</td>\n",
       "      <td>67.97</td>\n",
       "      <td>65.34</td>\n",
       "      <td>...</td>\n",
       "      <td>0.783593</td>\n",
       "      <td>-7954732.05</td>\n",
       "      <td>-3.116081</td>\n",
       "      <td>-2.63</td>\n",
       "      <td>-3.869354</td>\n",
       "      <td>1961656.65</td>\n",
       "      <td>-9916388.70</td>\n",
       "      <td>0.010436</td>\n",
       "      <td>-0.052756</td>\n",
       "      <td>-0.042320</td>\n",
       "    </tr>\n",
       "    <tr>\n",
       "      <th>29</th>\n",
       "      <td>NINTENDO CO LTD-UNSPONS ADR</td>\n",
       "      <td>NTDOY</td>\n",
       "      <td>32</td>\n",
       "      <td>30</td>\n",
       "      <td>2.747835e+06</td>\n",
       "      <td>2.765236e+06</td>\n",
       "      <td>2.147158e+08</td>\n",
       "      <td>2.172922e+08</td>\n",
       "      <td>78.14</td>\n",
       "      <td>78.58</td>\n",
       "      <td>...</td>\n",
       "      <td>0.633262</td>\n",
       "      <td>2576417.98</td>\n",
       "      <td>1.199920</td>\n",
       "      <td>0.44</td>\n",
       "      <td>0.563092</td>\n",
       "      <td>1363542.36</td>\n",
       "      <td>1212875.62</td>\n",
       "      <td>0.007254</td>\n",
       "      <td>0.006453</td>\n",
       "      <td>0.013707</td>\n",
       "    </tr>\n",
       "    <tr>\n",
       "      <th>30</th>\n",
       "      <td>ZOOM VIDEO COMMUNICATIONS-A</td>\n",
       "      <td>ZM</td>\n",
       "      <td>29</td>\n",
       "      <td>31</td>\n",
       "      <td>5.641670e+05</td>\n",
       "      <td>5.665550e+05</td>\n",
       "      <td>2.165724e+08</td>\n",
       "      <td>2.125544e+08</td>\n",
       "      <td>383.88</td>\n",
       "      <td>375.17</td>\n",
       "      <td>...</td>\n",
       "      <td>0.423279</td>\n",
       "      <td>-4017988.61</td>\n",
       "      <td>-1.855263</td>\n",
       "      <td>-8.71</td>\n",
       "      <td>-2.268938</td>\n",
       "      <td>906305.70</td>\n",
       "      <td>-4924294.31</td>\n",
       "      <td>0.004822</td>\n",
       "      <td>-0.026198</td>\n",
       "      <td>-0.021376</td>\n",
       "    </tr>\n",
       "    <tr>\n",
       "      <th>31</th>\n",
       "      <td>SERES THERAPEUTICS INC</td>\n",
       "      <td>MCRB</td>\n",
       "      <td>31</td>\n",
       "      <td>32</td>\n",
       "      <td>8.501171e+06</td>\n",
       "      <td>8.501171e+06</td>\n",
       "      <td>2.170349e+08</td>\n",
       "      <td>2.064084e+08</td>\n",
       "      <td>25.53</td>\n",
       "      <td>24.28</td>\n",
       "      <td>...</td>\n",
       "      <td>0.000000</td>\n",
       "      <td>-10626463.75</td>\n",
       "      <td>-4.896201</td>\n",
       "      <td>-1.25</td>\n",
       "      <td>-4.896201</td>\n",
       "      <td>0.00</td>\n",
       "      <td>-10626463.75</td>\n",
       "      <td>0.000000</td>\n",
       "      <td>-0.056534</td>\n",
       "      <td>-0.056534</td>\n",
       "    </tr>\n",
       "    <tr>\n",
       "      <th>32</th>\n",
       "      <td>PACIFIC BIOSCIENCES OF CALIF</td>\n",
       "      <td>PACB</td>\n",
       "      <td>30</td>\n",
       "      <td>33</td>\n",
       "      <td>7.617703e+06</td>\n",
       "      <td>7.617703e+06</td>\n",
       "      <td>2.171045e+08</td>\n",
       "      <td>2.066683e+08</td>\n",
       "      <td>28.50</td>\n",
       "      <td>27.13</td>\n",
       "      <td>...</td>\n",
       "      <td>0.000000</td>\n",
       "      <td>-10436253.11</td>\n",
       "      <td>-4.807018</td>\n",
       "      <td>-1.37</td>\n",
       "      <td>-4.807018</td>\n",
       "      <td>0.00</td>\n",
       "      <td>-10436253.11</td>\n",
       "      <td>0.000000</td>\n",
       "      <td>-0.055522</td>\n",
       "      <td>-0.055522</td>\n",
       "    </tr>\n",
       "    <tr>\n",
       "      <th>33</th>\n",
       "      <td>BAIDU INC - SPON ADR</td>\n",
       "      <td>BIDU</td>\n",
       "      <td>34</td>\n",
       "      <td>34</td>\n",
       "      <td>1.061100e+06</td>\n",
       "      <td>1.065588e+06</td>\n",
       "      <td>2.051743e+08</td>\n",
       "      <td>2.035486e+08</td>\n",
       "      <td>193.36</td>\n",
       "      <td>191.02</td>\n",
       "      <td>...</td>\n",
       "      <td>0.422957</td>\n",
       "      <td>-1625676.24</td>\n",
       "      <td>-0.792339</td>\n",
       "      <td>-2.34</td>\n",
       "      <td>-1.210178</td>\n",
       "      <td>862548.72</td>\n",
       "      <td>-2488224.96</td>\n",
       "      <td>0.004589</td>\n",
       "      <td>-0.013238</td>\n",
       "      <td>-0.008649</td>\n",
       "    </tr>\n",
       "    <tr>\n",
       "      <th>34</th>\n",
       "      <td>SPLUNK INC</td>\n",
       "      <td>SPLK</td>\n",
       "      <td>35</td>\n",
       "      <td>35</td>\n",
       "      <td>1.051084e+06</td>\n",
       "      <td>1.055536e+06</td>\n",
       "      <td>1.918754e+08</td>\n",
       "      <td>1.902076e+08</td>\n",
       "      <td>182.55</td>\n",
       "      <td>180.20</td>\n",
       "      <td>...</td>\n",
       "      <td>0.423563</td>\n",
       "      <td>-1667797.00</td>\n",
       "      <td>-0.869208</td>\n",
       "      <td>-2.35</td>\n",
       "      <td>-1.287319</td>\n",
       "      <td>807481.50</td>\n",
       "      <td>-2475278.50</td>\n",
       "      <td>0.004296</td>\n",
       "      <td>-0.013169</td>\n",
       "      <td>-0.008873</td>\n",
       "    </tr>\n",
       "    <tr>\n",
       "      <th>35</th>\n",
       "      <td>IRIDIUM COMMUNICATIONS INC</td>\n",
       "      <td>IRDM</td>\n",
       "      <td>36</td>\n",
       "      <td>36</td>\n",
       "      <td>4.714327e+06</td>\n",
       "      <td>4.734283e+06</td>\n",
       "      <td>1.857445e+08</td>\n",
       "      <td>1.848738e+08</td>\n",
       "      <td>39.40</td>\n",
       "      <td>39.05</td>\n",
       "      <td>...</td>\n",
       "      <td>0.423305</td>\n",
       "      <td>-870732.65</td>\n",
       "      <td>-0.468780</td>\n",
       "      <td>-0.35</td>\n",
       "      <td>-0.888325</td>\n",
       "      <td>782774.10</td>\n",
       "      <td>-1653506.75</td>\n",
       "      <td>0.004164</td>\n",
       "      <td>-0.008797</td>\n",
       "      <td>-0.004632</td>\n",
       "    </tr>\n",
       "    <tr>\n",
       "      <th>36</th>\n",
       "      <td>NANOSTRING TECHNOLOGIES INC</td>\n",
       "      <td>NSTG</td>\n",
       "      <td>37</td>\n",
       "      <td>37</td>\n",
       "      <td>2.414606e+06</td>\n",
       "      <td>2.424830e+06</td>\n",
       "      <td>1.774977e+08</td>\n",
       "      <td>1.763336e+08</td>\n",
       "      <td>73.51</td>\n",
       "      <td>72.72</td>\n",
       "      <td>...</td>\n",
       "      <td>0.423423</td>\n",
       "      <td>-1164049.46</td>\n",
       "      <td>-0.655811</td>\n",
       "      <td>-0.79</td>\n",
       "      <td>-1.074684</td>\n",
       "      <td>747527.76</td>\n",
       "      <td>-1911577.22</td>\n",
       "      <td>0.003977</td>\n",
       "      <td>-0.010170</td>\n",
       "      <td>-0.006193</td>\n",
       "    </tr>\n",
       "    <tr>\n",
       "      <th>37</th>\n",
       "      <td>SYNOPSYS INC</td>\n",
       "      <td>SNPS</td>\n",
       "      <td>39</td>\n",
       "      <td>38</td>\n",
       "      <td>6.551510e+05</td>\n",
       "      <td>6.579230e+05</td>\n",
       "      <td>1.668670e+08</td>\n",
       "      <td>1.686125e+08</td>\n",
       "      <td>254.70</td>\n",
       "      <td>256.28</td>\n",
       "      <td>...</td>\n",
       "      <td>0.423109</td>\n",
       "      <td>1745546.74</td>\n",
       "      <td>1.046071</td>\n",
       "      <td>1.58</td>\n",
       "      <td>0.620338</td>\n",
       "      <td>708218.28</td>\n",
       "      <td>1037328.46</td>\n",
       "      <td>0.003768</td>\n",
       "      <td>0.005519</td>\n",
       "      <td>0.009286</td>\n",
       "    </tr>\n",
       "    <tr>\n",
       "      <th>38</th>\n",
       "      <td>SEA LTD-ADR</td>\n",
       "      <td>SE</td>\n",
       "      <td>38</td>\n",
       "      <td>39</td>\n",
       "      <td>8.510920e+05</td>\n",
       "      <td>8.546920e+05</td>\n",
       "      <td>1.660225e+08</td>\n",
       "      <td>1.651094e+08</td>\n",
       "      <td>195.07</td>\n",
       "      <td>193.18</td>\n",
       "      <td>...</td>\n",
       "      <td>0.422986</td>\n",
       "      <td>-913115.88</td>\n",
       "      <td>-0.549995</td>\n",
       "      <td>-1.89</td>\n",
       "      <td>-0.968883</td>\n",
       "      <td>698850.00</td>\n",
       "      <td>-1611965.88</td>\n",
       "      <td>0.003718</td>\n",
       "      <td>-0.008576</td>\n",
       "      <td>-0.004858</td>\n",
       "    </tr>\n",
       "    <tr>\n",
       "      <th>39</th>\n",
       "      <td>TENCENT HOLDINGS LTD-UNS ADR</td>\n",
       "      <td>TCEHY</td>\n",
       "      <td>43</td>\n",
       "      <td>40</td>\n",
       "      <td>1.990199e+06</td>\n",
       "      <td>2.295379e+06</td>\n",
       "      <td>1.465782e+08</td>\n",
       "      <td>1.601027e+08</td>\n",
       "      <td>73.65</td>\n",
       "      <td>69.75</td>\n",
       "      <td>...</td>\n",
       "      <td>15.334145</td>\n",
       "      <td>13524528.90</td>\n",
       "      <td>9.226838</td>\n",
       "      <td>-3.90</td>\n",
       "      <td>-5.295316</td>\n",
       "      <td>21881406.00</td>\n",
       "      <td>-8356877.10</td>\n",
       "      <td>0.116411</td>\n",
       "      <td>-0.044459</td>\n",
       "      <td>0.071951</td>\n",
       "    </tr>\n",
       "    <tr>\n",
       "      <th>40</th>\n",
       "      <td>PINTEREST INC- CLASS A</td>\n",
       "      <td>PINS</td>\n",
       "      <td>41</td>\n",
       "      <td>41</td>\n",
       "      <td>2.219359e+06</td>\n",
       "      <td>2.228755e+06</td>\n",
       "      <td>1.619910e+08</td>\n",
       "      <td>1.583308e+08</td>\n",
       "      <td>72.99</td>\n",
       "      <td>71.04</td>\n",
       "      <td>...</td>\n",
       "      <td>0.423365</td>\n",
       "      <td>-3660258.21</td>\n",
       "      <td>-2.259544</td>\n",
       "      <td>-1.95</td>\n",
       "      <td>-2.671599</td>\n",
       "      <td>676652.94</td>\n",
       "      <td>-4336911.15</td>\n",
       "      <td>0.003600</td>\n",
       "      <td>-0.023073</td>\n",
       "      <td>-0.019473</td>\n",
       "    </tr>\n",
       "    <tr>\n",
       "      <th>41</th>\n",
       "      <td>CERUS CORP</td>\n",
       "      <td>CERS</td>\n",
       "      <td>42</td>\n",
       "      <td>42</td>\n",
       "      <td>1.921801e+07</td>\n",
       "      <td>1.921801e+07</td>\n",
       "      <td>1.570111e+08</td>\n",
       "      <td>1.550893e+08</td>\n",
       "      <td>8.17</td>\n",
       "      <td>8.07</td>\n",
       "      <td>...</td>\n",
       "      <td>0.000000</td>\n",
       "      <td>-1921800.90</td>\n",
       "      <td>-1.223990</td>\n",
       "      <td>-0.10</td>\n",
       "      <td>-1.223990</td>\n",
       "      <td>0.00</td>\n",
       "      <td>-1921800.90</td>\n",
       "      <td>0.000000</td>\n",
       "      <td>-0.010224</td>\n",
       "      <td>-0.010224</td>\n",
       "    </tr>\n",
       "    <tr>\n",
       "      <th>42</th>\n",
       "      <td>STRATASYS LTD</td>\n",
       "      <td>SSYS</td>\n",
       "      <td>40</td>\n",
       "      <td>43</td>\n",
       "      <td>7.107018e+06</td>\n",
       "      <td>7.107018e+06</td>\n",
       "      <td>1.636746e+08</td>\n",
       "      <td>1.535827e+08</td>\n",
       "      <td>23.03</td>\n",
       "      <td>21.61</td>\n",
       "      <td>...</td>\n",
       "      <td>0.000000</td>\n",
       "      <td>-10091965.56</td>\n",
       "      <td>-6.165871</td>\n",
       "      <td>-1.42</td>\n",
       "      <td>-6.165871</td>\n",
       "      <td>0.00</td>\n",
       "      <td>-10091965.56</td>\n",
       "      <td>0.000000</td>\n",
       "      <td>-0.053690</td>\n",
       "      <td>-0.053690</td>\n",
       "    </tr>\n",
       "    <tr>\n",
       "      <th>43</th>\n",
       "      <td>COMPUGEN LTD</td>\n",
       "      <td>CGEN</td>\n",
       "      <td>44</td>\n",
       "      <td>44</td>\n",
       "      <td>1.094018e+07</td>\n",
       "      <td>1.094018e+07</td>\n",
       "      <td>1.478019e+08</td>\n",
       "      <td>1.436446e+08</td>\n",
       "      <td>13.51</td>\n",
       "      <td>13.13</td>\n",
       "      <td>...</td>\n",
       "      <td>0.000000</td>\n",
       "      <td>-4157269.92</td>\n",
       "      <td>-2.812731</td>\n",
       "      <td>-0.38</td>\n",
       "      <td>-2.812731</td>\n",
       "      <td>0.00</td>\n",
       "      <td>-4157269.92</td>\n",
       "      <td>0.000000</td>\n",
       "      <td>-0.022117</td>\n",
       "      <td>-0.022117</td>\n",
       "    </tr>\n",
       "    <tr>\n",
       "      <th>44</th>\n",
       "      <td>HUYA INC-ADR</td>\n",
       "      <td>HUYA</td>\n",
       "      <td>45</td>\n",
       "      <td>45</td>\n",
       "      <td>6.233022e+06</td>\n",
       "      <td>6.259410e+06</td>\n",
       "      <td>1.239125e+08</td>\n",
       "      <td>1.183654e+08</td>\n",
       "      <td>19.88</td>\n",
       "      <td>18.91</td>\n",
       "      <td>...</td>\n",
       "      <td>0.423358</td>\n",
       "      <td>-5547034.26</td>\n",
       "      <td>-4.476574</td>\n",
       "      <td>-0.97</td>\n",
       "      <td>-4.879276</td>\n",
       "      <td>511795.26</td>\n",
       "      <td>-6058829.52</td>\n",
       "      <td>0.002723</td>\n",
       "      <td>-0.032233</td>\n",
       "      <td>-0.029511</td>\n",
       "    </tr>\n",
       "    <tr>\n",
       "      <th>45</th>\n",
       "      <td>SYROS PHARMACEUTICALS INC</td>\n",
       "      <td>SYRS</td>\n",
       "      <td>46</td>\n",
       "      <td>46</td>\n",
       "      <td>5.097545e+06</td>\n",
       "      <td>5.097545e+06</td>\n",
       "      <td>7.473001e+07</td>\n",
       "      <td>6.667589e+07</td>\n",
       "      <td>14.66</td>\n",
       "      <td>13.08</td>\n",
       "      <td>...</td>\n",
       "      <td>0.000000</td>\n",
       "      <td>-8054121.10</td>\n",
       "      <td>-10.777626</td>\n",
       "      <td>-1.58</td>\n",
       "      <td>-10.777626</td>\n",
       "      <td>0.00</td>\n",
       "      <td>-8054121.10</td>\n",
       "      <td>0.000000</td>\n",
       "      <td>-0.042848</td>\n",
       "      <td>-0.042848</td>\n",
       "    </tr>\n",
       "    <tr>\n",
       "      <th>46</th>\n",
       "      <td>ORGANOVO HOLDINGS INC</td>\n",
       "      <td>ONVO</td>\n",
       "      <td>47</td>\n",
       "      <td>47</td>\n",
       "      <td>8.352710e+05</td>\n",
       "      <td>8.352710e+05</td>\n",
       "      <td>1.301352e+07</td>\n",
       "      <td>1.333093e+07</td>\n",
       "      <td>15.58</td>\n",
       "      <td>15.96</td>\n",
       "      <td>...</td>\n",
       "      <td>0.000000</td>\n",
       "      <td>317402.98</td>\n",
       "      <td>2.439024</td>\n",
       "      <td>0.38</td>\n",
       "      <td>2.439024</td>\n",
       "      <td>0.00</td>\n",
       "      <td>317402.98</td>\n",
       "      <td>0.000000</td>\n",
       "      <td>0.001689</td>\n",
       "      <td>0.001689</td>\n",
       "    </tr>\n",
       "    <tr>\n",
       "      <th>47</th>\n",
       "      <td>EXONE CO/THE</td>\n",
       "      <td>XONE</td>\n",
       "      <td>48</td>\n",
       "      <td>48</td>\n",
       "      <td>7.534740e+05</td>\n",
       "      <td>7.521440e+05</td>\n",
       "      <td>9.034153e+06</td>\n",
       "      <td>8.160762e+06</td>\n",
       "      <td>11.99</td>\n",
       "      <td>10.85</td>\n",
       "      <td>...</td>\n",
       "      <td>-0.176516</td>\n",
       "      <td>-873390.86</td>\n",
       "      <td>-9.667656</td>\n",
       "      <td>-1.14</td>\n",
       "      <td>-9.507923</td>\n",
       "      <td>-15188.60</td>\n",
       "      <td>-858202.26</td>\n",
       "      <td>-0.000081</td>\n",
       "      <td>-0.004566</td>\n",
       "      <td>-0.004646</td>\n",
       "    </tr>\n",
       "  </tbody>\n",
       "</table>\n",
       "<p>48 rows × 21 columns</p>\n",
       "</div>"
      ],
      "text/plain": [
       "                           company   ticker  pos old  pos new    shares old  \\\n",
       "0                        TESLA INC     TSLA        1        1  2.823071e+06   \n",
       "1                         ROKU INC     ROKU        2        2  3.681012e+06   \n",
       "2           CRISPR THERAPEUTICS AG     CRSP        3        3  6.434266e+06   \n",
       "3                   SQUARE INC - A       SQ        4        4  4.276766e+06   \n",
       "4                     INVITAE CORP     NVTA        5        5  1.759849e+07   \n",
       "5               TELADOC HEALTH INC     TDOC        6        6  3.873023e+06   \n",
       "6             ZILLOW GROUP INC - C        Z        8        7  4.199362e+06   \n",
       "7              EDITAS MEDICINE INC     EDIT        9        8  6.825245e+06   \n",
       "8                   PROTO LABS INC     PRLB        7        9  3.240390e+06   \n",
       "9       PURE STORAGE INC - CLASS A     PSTG       10       10  2.189223e+07   \n",
       "10           SPOTIFY TECHNOLOGY SA     SPOT       11       11  1.537846e+06   \n",
       "11     IOVANCE BIOTHERAPEUTICS INC     IOVA       12       12  8.611208e+06   \n",
       "12                  TWILIO INC - A     TWLO       15       13  1.141553e+06   \n",
       "13       INTELLIA THERAPEUTICS INC     NTLA       13       14  6.654627e+06   \n",
       "14           TWIST BIOSCIENCE CORP     TWST       14       15  2.488283e+06   \n",
       "15             EXACT SCIENCES CORP     EXAS       16       16  2.704746e+06   \n",
       "16                    DOCUSIGN INC     DOCU       17       17  1.504752e+06   \n",
       "17             PAYPAL HOLDINGS INC     PYPL       18       18  1.521653e+06   \n",
       "18           SHOPIFY INC - CLASS A     SHOP       24       19  2.730280e+05   \n",
       "19                   PAGERDUTY INC       PD       20       20  7.613933e+06   \n",
       "20     TAIWAN SEMICONDUCTOR-SP ADR      TSM       23       21  3.257358e+06   \n",
       "21              MATERIALISE NV-ADR     MTLS       19       22  6.055685e+06   \n",
       "22                 LENDINGTREE INC  TREE UW       22       23  1.234173e+06   \n",
       "23                          2U INC     TWOU       21       24  8.120745e+06   \n",
       "24  MORGAN STANLEY GOVT INSTL 8035    MORGA       33       25  2.091574e+08   \n",
       "25    INTERCONTINENTAL EXCHANGE IN      ICE       25       26  2.589907e+06   \n",
       "26                    VERACYTE INC     VCYT       26       27  5.032228e+06   \n",
       "27              UNITY SOFTWARE INC        U       27       28  1.557657e+06   \n",
       "28                 KE HOLDINGS INC     BEKE       28       29  3.755775e+06   \n",
       "29     NINTENDO CO LTD-UNSPONS ADR    NTDOY       32       30  2.747835e+06   \n",
       "30     ZOOM VIDEO COMMUNICATIONS-A       ZM       29       31  5.641670e+05   \n",
       "31          SERES THERAPEUTICS INC     MCRB       31       32  8.501171e+06   \n",
       "32    PACIFIC BIOSCIENCES OF CALIF     PACB       30       33  7.617703e+06   \n",
       "33            BAIDU INC - SPON ADR     BIDU       34       34  1.061100e+06   \n",
       "34                      SPLUNK INC     SPLK       35       35  1.051084e+06   \n",
       "35      IRIDIUM COMMUNICATIONS INC     IRDM       36       36  4.714327e+06   \n",
       "36     NANOSTRING TECHNOLOGIES INC     NSTG       37       37  2.414606e+06   \n",
       "37                    SYNOPSYS INC     SNPS       39       38  6.551510e+05   \n",
       "38                     SEA LTD-ADR       SE       38       39  8.510920e+05   \n",
       "39    TENCENT HOLDINGS LTD-UNS ADR    TCEHY       43       40  1.990199e+06   \n",
       "40          PINTEREST INC- CLASS A     PINS       41       41  2.219359e+06   \n",
       "41                      CERUS CORP     CERS       42       42  1.921801e+07   \n",
       "42                   STRATASYS LTD     SSYS       40       43  7.107018e+06   \n",
       "43                    COMPUGEN LTD     CGEN       44       44  1.094018e+07   \n",
       "44                    HUYA INC-ADR     HUYA       45       45  6.233022e+06   \n",
       "45       SYROS PHARMACEUTICALS INC     SYRS       46       46  5.097545e+06   \n",
       "46           ORGANOVO HOLDINGS INC    ONVO        47       47  8.352710e+05   \n",
       "47                    EXONE CO/THE     XONE       48       48  7.534740e+05   \n",
       "\n",
       "      shares new     value old     value new  price old  price new  ...  \\\n",
       "0   2.835023e+06  1.823647e+09  1.876133e+09     645.98     661.77  ...   \n",
       "1   3.696600e+06  1.327226e+09  1.319649e+09     360.56     356.99  ...   \n",
       "2   6.434266e+06  1.114608e+09  1.084174e+09     173.23     168.50  ...   \n",
       "3   4.294874e+06  9.865644e+08  9.804338e+08     230.68     228.28  ...   \n",
       "4   1.759849e+07  8.973468e+08  8.283607e+08      50.99      47.07  ...   \n",
       "5   3.889415e+06  8.110885e+08  8.088038e+08     209.42     207.95  ...   \n",
       "6   4.217146e+06  5.930759e+08  5.846651e+08     141.23     138.64  ...   \n",
       "7   6.825245e+06  5.569400e+08  5.701127e+08      81.60      83.53  ...   \n",
       "8   3.240390e+06  6.103923e+08  5.591293e+08     188.37     172.55  ...   \n",
       "9   2.198492e+07  5.297920e+08  5.271984e+08      24.20      23.98  ...   \n",
       "10  1.544362e+06  5.087041e+08  5.071530e+08     330.79     328.39  ...   \n",
       "11  8.647664e+06  4.280631e+08  4.284918e+08      49.71      49.55  ...   \n",
       "12  1.146389e+06  4.147034e+08  4.160016e+08     363.28     362.88  ...   \n",
       "13  6.654627e+06  4.215706e+08  4.135185e+08      63.35      62.14  ...   \n",
       "14  2.498819e+06  4.149461e+08  4.099063e+08     166.76     164.04  ...   \n",
       "15  2.716194e+06  3.813692e+08  3.790720e+08     141.00     139.56  ...   \n",
       "16  1.511124e+06  3.672347e+08  3.701196e+08     244.05     244.93  ...   \n",
       "17  1.528097e+06  3.643446e+08  3.646651e+08     239.44     238.64  ...   \n",
       "18  2.879810e+05  3.270766e+08  3.529265e+08    1197.96    1225.52  ...   \n",
       "19  7.613933e+06  3.520683e+08  3.506978e+08      46.24      46.06  ...   \n",
       "20  3.271158e+06  3.379835e+08  3.466446e+08     103.76     105.97  ...   \n",
       "21  6.055685e+06  3.560137e+08  3.416012e+08      58.79      56.41  ...   \n",
       "22  1.234173e+06  3.406564e+08  3.424213e+08     276.02     277.45  ...   \n",
       "23  8.120745e+06  3.457001e+08  3.409901e+08      42.57      41.99  ...   \n",
       "24  3.057989e+08  2.091574e+08  3.057989e+08       1.00       1.00  ...   \n",
       "25  2.600875e+06  2.905358e+08  2.930926e+08     112.18     112.69  ...   \n",
       "26  5.032228e+06  2.866860e+08  2.807983e+08      56.97      55.80  ...   \n",
       "27  1.564257e+06  2.616085e+08  2.579773e+08     167.95     164.92  ...   \n",
       "28  3.785205e+06  2.552800e+08  2.473253e+08      67.97      65.34  ...   \n",
       "29  2.765236e+06  2.147158e+08  2.172922e+08      78.14      78.58  ...   \n",
       "30  5.665550e+05  2.165724e+08  2.125544e+08     383.88     375.17  ...   \n",
       "31  8.501171e+06  2.170349e+08  2.064084e+08      25.53      24.28  ...   \n",
       "32  7.617703e+06  2.171045e+08  2.066683e+08      28.50      27.13  ...   \n",
       "33  1.065588e+06  2.051743e+08  2.035486e+08     193.36     191.02  ...   \n",
       "34  1.055536e+06  1.918754e+08  1.902076e+08     182.55     180.20  ...   \n",
       "35  4.734283e+06  1.857445e+08  1.848738e+08      39.40      39.05  ...   \n",
       "36  2.424830e+06  1.774977e+08  1.763336e+08      73.51      72.72  ...   \n",
       "37  6.579230e+05  1.668670e+08  1.686125e+08     254.70     256.28  ...   \n",
       "38  8.546920e+05  1.660225e+08  1.651094e+08     195.07     193.18  ...   \n",
       "39  2.295379e+06  1.465782e+08  1.601027e+08      73.65      69.75  ...   \n",
       "40  2.228755e+06  1.619910e+08  1.583308e+08      72.99      71.04  ...   \n",
       "41  1.921801e+07  1.570111e+08  1.550893e+08       8.17       8.07  ...   \n",
       "42  7.107018e+06  1.636746e+08  1.535827e+08      23.03      21.61  ...   \n",
       "43  1.094018e+07  1.478019e+08  1.436446e+08      13.51      13.13  ...   \n",
       "44  6.259410e+06  1.239125e+08  1.183654e+08      19.88      18.91  ...   \n",
       "45  5.097545e+06  7.473001e+07  6.667589e+07      14.66      13.08  ...   \n",
       "46  8.352710e+05  1.301352e+07  1.333093e+07      15.58      15.96  ...   \n",
       "47  7.521440e+05  9.034153e+06  8.160762e+06      11.99      10.85  ...   \n",
       "\n",
       "    delta shares %  delta value  delta value %  delta price  delta price %  \\\n",
       "0         0.423369  52485766.13       2.878065        15.79       2.444348   \n",
       "1         0.423471  -7576452.72      -0.570849        -3.57      -0.990126   \n",
       "2         0.000000 -30434078.18      -2.730474        -4.73      -2.730474   \n",
       "3         0.423404  -6130544.16      -0.621403        -2.40      -1.040402   \n",
       "4         0.000000 -68986065.12      -7.687782        -3.92      -7.687782   \n",
       "5         0.423235  -2284627.41      -0.281674        -1.47      -0.701939   \n",
       "6         0.423493  -8410773.82      -1.418161        -2.59      -1.833888   \n",
       "7         0.000000  13172722.85       2.365196         1.93       2.365196   \n",
       "8         0.000000 -51262969.80      -8.398365       -15.82      -8.398365   \n",
       "9         0.423383  -2593632.58      -0.489557        -0.22      -0.909091   \n",
       "10        0.423710  -1551041.16      -0.304900        -2.40      -0.725536   \n",
       "11        0.423355    428601.52       0.100126        -0.16      -0.321867   \n",
       "12        0.423633   1298266.48       0.313059        -0.40      -0.110108   \n",
       "13        0.000000  -8052098.67      -1.910024        -1.21      -1.910024   \n",
       "14        0.423425  -5039804.32      -1.214569        -2.72      -1.631087   \n",
       "15        0.423256  -2297151.36      -0.602343        -1.44      -1.021277   \n",
       "16        0.423458   2884875.72       0.785567         0.88       0.360582   \n",
       "17        0.423487    320473.76       0.087959        -0.80      -0.334113   \n",
       "18        5.476728  25849852.24       7.903302        27.56       2.300578   \n",
       "19        0.000000  -1370507.94      -0.389273        -0.18      -0.389273   \n",
       "20        0.423656   8661147.18       2.562595         2.21       2.129915   \n",
       "21        0.000000 -14412530.30      -4.048308        -2.38      -4.048308   \n",
       "22        0.000000   1764867.39       0.518078         1.43       0.518078   \n",
       "23        0.000000  -4710032.10      -1.362462        -0.58      -1.362462   \n",
       "24       46.205118  96641436.07      46.205118         0.00       0.000000   \n",
       "25        0.423490   2556836.49       0.880042         0.51       0.454626   \n",
       "26        0.000000  -5887706.76      -2.053712        -1.17      -2.053712   \n",
       "27        0.423713  -3631228.71      -1.388039        -3.03      -1.804108   \n",
       "28        0.783593  -7954732.05      -3.116081        -2.63      -3.869354   \n",
       "29        0.633262   2576417.98       1.199920         0.44       0.563092   \n",
       "30        0.423279  -4017988.61      -1.855263        -8.71      -2.268938   \n",
       "31        0.000000 -10626463.75      -4.896201        -1.25      -4.896201   \n",
       "32        0.000000 -10436253.11      -4.807018        -1.37      -4.807018   \n",
       "33        0.422957  -1625676.24      -0.792339        -2.34      -1.210178   \n",
       "34        0.423563  -1667797.00      -0.869208        -2.35      -1.287319   \n",
       "35        0.423305   -870732.65      -0.468780        -0.35      -0.888325   \n",
       "36        0.423423  -1164049.46      -0.655811        -0.79      -1.074684   \n",
       "37        0.423109   1745546.74       1.046071         1.58       0.620338   \n",
       "38        0.422986   -913115.88      -0.549995        -1.89      -0.968883   \n",
       "39       15.334145  13524528.90       9.226838        -3.90      -5.295316   \n",
       "40        0.423365  -3660258.21      -2.259544        -1.95      -2.671599   \n",
       "41        0.000000  -1921800.90      -1.223990        -0.10      -1.223990   \n",
       "42        0.000000 -10091965.56      -6.165871        -1.42      -6.165871   \n",
       "43        0.000000  -4157269.92      -2.812731        -0.38      -2.812731   \n",
       "44        0.423358  -5547034.26      -4.476574        -0.97      -4.879276   \n",
       "45        0.000000  -8054121.10     -10.777626        -1.58     -10.777626   \n",
       "46        0.000000    317402.98       2.439024         0.38       2.439024   \n",
       "47       -0.176516   -873390.86      -9.667656        -1.14      -9.507923   \n",
       "\n",
       "    value invest   value grow  value invest %  value grow %  delta value % TOT  \n",
       "0     7815114.00  44670652.13        0.041577      0.237651           0.279228  \n",
       "1     5592584.70 -13169037.42        0.029753     -0.070060          -0.040307  \n",
       "2           0.00 -30434078.18        0.000000     -0.161911          -0.161911  \n",
       "3     4155423.84 -10285968.00        0.022107     -0.054722          -0.032615  \n",
       "4           0.00 -68986065.12        0.000000     -0.367011          -0.367011  \n",
       "5     3420764.52  -5705391.93        0.018199     -0.030353          -0.012154  \n",
       "6     2488604.04 -10899377.86        0.013240     -0.057985          -0.044746  \n",
       "7           0.00  13172722.85        0.000000      0.070080           0.070080  \n",
       "8           0.00 -51262969.80        0.000000     -0.272722          -0.272722  \n",
       "9     2232853.92  -4826486.50        0.011879     -0.025677          -0.013798  \n",
       "10    2147608.44  -3698649.60        0.011425     -0.019677          -0.008252  \n",
       "11    1809311.28  -1380709.76        0.009626     -0.007345           0.002280  \n",
       "12    1755854.88   -457588.40        0.009341     -0.002434           0.006907  \n",
       "13          0.00  -8052098.67        0.000000     -0.042838          -0.042838  \n",
       "14    1742654.40  -6782458.72        0.009271     -0.036083          -0.026812  \n",
       "15    1605925.44  -3903076.80        0.008544     -0.020765          -0.012221  \n",
       "16    1557890.28   1326985.44        0.008288      0.007060           0.015348  \n",
       "17    1540373.76  -1219900.00        0.008195     -0.006490           0.001705  \n",
       "18   18119148.22   7730704.02        0.096395      0.041128           0.137523  \n",
       "19          0.00  -1370507.94        0.000000     -0.007291          -0.007291  \n",
       "20    1447137.00   7214010.18        0.007699      0.038379           0.046078  \n",
       "21          0.00 -14412530.30        0.000000     -0.076676          -0.076676  \n",
       "22          0.00   1764867.39        0.000000      0.009389           0.009389  \n",
       "23          0.00  -4710032.10        0.000000     -0.025058          -0.025058  \n",
       "24   96641436.07         0.00        0.514139      0.000000           0.514139  \n",
       "25    1233187.08   1323649.41        0.006561      0.007042           0.013603  \n",
       "26          0.00  -5887706.76        0.000000     -0.031323          -0.031323  \n",
       "27    1098471.00  -4729699.71        0.005844     -0.025162          -0.019318  \n",
       "28    1961656.65  -9916388.70        0.010436     -0.052756          -0.042320  \n",
       "29    1363542.36   1212875.62        0.007254      0.006453           0.013707  \n",
       "30     906305.70  -4924294.31        0.004822     -0.026198          -0.021376  \n",
       "31          0.00 -10626463.75        0.000000     -0.056534          -0.056534  \n",
       "32          0.00 -10436253.11        0.000000     -0.055522          -0.055522  \n",
       "33     862548.72  -2488224.96        0.004589     -0.013238          -0.008649  \n",
       "34     807481.50  -2475278.50        0.004296     -0.013169          -0.008873  \n",
       "35     782774.10  -1653506.75        0.004164     -0.008797          -0.004632  \n",
       "36     747527.76  -1911577.22        0.003977     -0.010170          -0.006193  \n",
       "37     708218.28   1037328.46        0.003768      0.005519           0.009286  \n",
       "38     698850.00  -1611965.88        0.003718     -0.008576          -0.004858  \n",
       "39   21881406.00  -8356877.10        0.116411     -0.044459           0.071951  \n",
       "40     676652.94  -4336911.15        0.003600     -0.023073          -0.019473  \n",
       "41          0.00  -1921800.90        0.000000     -0.010224          -0.010224  \n",
       "42          0.00 -10091965.56        0.000000     -0.053690          -0.053690  \n",
       "43          0.00  -4157269.92        0.000000     -0.022117          -0.022117  \n",
       "44     511795.26  -6058829.52        0.002723     -0.032233          -0.029511  \n",
       "45          0.00  -8054121.10        0.000000     -0.042848          -0.042848  \n",
       "46          0.00    317402.98        0.000000      0.001689           0.001689  \n",
       "47     -15188.60   -858202.26       -0.000081     -0.004566          -0.004646  \n",
       "\n",
       "[48 rows x 21 columns]"
      ]
     },
     "execution_count": 8,
     "metadata": {},
     "output_type": "execute_result"
    }
   ],
   "source": [
    "data_out['price old']=data_out['value old']/data_out['shares old']\n",
    "data_out['price new']=(data_out['value new']/data_out['shares new']).fillna(data_out['price old'])\n",
    "data_out['price old']=data_out['price old'].fillna(data_out['price new'])\n",
    "\n",
    "data_out['delta shares']=(data_out['shares new']-data_out['shares old'])\n",
    "data_out['delta shares %']=(data_out['delta shares']/data_out['shares old']*100).replace(numpy.inf,1000)\n",
    "data_out['delta value']=(data_out['value new']-data_out['value old'])\n",
    "data_out['delta value %']=(data_out['delta value']/data_out['value old']*100).replace(numpy.inf,1000)\n",
    "data_out['delta price']=(data_out['price new']-data_out['price old'])\n",
    "data_out['delta price %']=(data_out['delta price']/data_out['price old']*100).replace(numpy.inf,1000)\n",
    "data_out['value invest']=data_out['delta shares']*data_out[['price new','price old']].mean(axis=1)\n",
    "data_out['value grow']=data_out['delta value']-data_out['value invest']\n",
    "data_out['value invest %']=data_out['value invest']/sum(data_out['value new'].fillna(0))*100\n",
    "data_out['value grow %']=data_out['value grow']/sum(data_out['value new'].fillna(0))*100\n",
    "data_out['delta value % TOT']=data_out['delta value']/sum(data_out['value new'].fillna(0))*100\n",
    "\n",
    "data_out"
   ]
  },
  {
   "cell_type": "code",
   "execution_count": 39,
   "metadata": {},
   "outputs": [
    {
     "data": {
      "application/vnd.plotly.v1+json": {
       "config": {
        "plotlyServerURL": "https://plot.ly"
       },
       "data": [
        {
         "branchvalues": "total",
         "customdata": [
          [
           -3.8693541268206495
          ],
          [
           -1.2101779064956721
          ],
          [
           -1.2239902080783311
          ],
          [
           -2.8127313101406424
          ],
          [
           -2.7304739363851627
          ],
          [
           0.360581847981969
          ],
          [
           2.365196078431381
          ],
          [
           -1.0212765957446792
          ],
          [
           -4.879275653923536
          ],
          [
           0.454626493136036
          ],
          [
           -0.3218668276000879
          ],
          [
           -0.8883248730964503
          ],
          [
           -4.896200548374461
          ],
          [
           0
          ],
          [
           -4.048307535295111
          ],
          [
           -1.0746837165011647
          ],
          [
           0.5630918863578164
          ],
          [
           -1.9100236779794912
          ],
          [
           -7.687781918023146
          ],
          [
           2.4390243902439073
          ],
          [
           -4.8070175438596525
          ],
          [
           -0.38927335640138344
          ],
          [
           -2.671598849157423
          ],
          [
           -8.398364920104033
          ],
          [
           -0.9090909090909044
          ],
          [
           -0.33411293017040233
          ],
          [
           -0.9901264699356537
          ],
          [
           -0.9688829650894482
          ],
          [
           2.3005776486694
          ],
          [
           0.620337652139766
          ],
          [
           -1.2873185428649654
          ],
          [
           -0.7255358384473464
          ],
          [
           -1.040402288885038
          ],
          [
           -6.165870603560566
          ],
          [
           -10.777626193724421
          ],
          [
           -5.295315682281048
          ],
          [
           -0.7019386878044116
          ],
          [
           0.5180784001159567
          ],
          [
           2.4443481222328813
          ],
          [
           2.1299151888974635
          ],
          [
           -0.11010790574762643
          ],
          [
           -1.3624618275781026
          ],
          [
           -1.6310865915087547
          ],
          [
           -1.804108365585013
          ],
          [
           -2.0537124802527797
          ],
          [
           -9.507923269391164
          ],
          [
           -1.8338879841393294
          ],
          [
           -2.2689382098572417
          ]
         ],
         "domain": {
          "x": [
           0,
           1
          ],
          "y": [
           0,
           1
          ]
         },
         "hovertemplate": "labels=%{label}<br>value new=%{value}<br>parent=%{parent}<br>id=%{id}<br>delta price %=%{color}<extra></extra>",
         "ids": [
          "BEKE",
          "BIDU",
          "CERS",
          "CGEN",
          "CRSP",
          "DOCU",
          "EDIT",
          "EXAS",
          "HUYA",
          "ICE",
          "IOVA",
          "IRDM",
          "MCRB",
          "MORGA",
          "MTLS",
          "NSTG",
          "NTDOY",
          "NTLA",
          "NVTA",
          "ONVO ",
          "PACB",
          "PD",
          "PINS",
          "PRLB",
          "PSTG",
          "PYPL",
          "ROKU",
          "SE",
          "SHOP",
          "SNPS",
          "SPLK",
          "SPOT",
          "SQ",
          "SSYS",
          "SYRS",
          "TCEHY",
          "TDOC",
          "TREE UW",
          "TSLA",
          "TSM",
          "TWLO",
          "TWOU",
          "TWST",
          "U",
          "VCYT",
          "XONE",
          "Z",
          "ZM"
         ],
         "labels": [
          "BEKE",
          "BIDU",
          "CERS",
          "CGEN",
          "CRSP",
          "DOCU",
          "EDIT",
          "EXAS",
          "HUYA",
          "ICE",
          "IOVA",
          "IRDM",
          "MCRB",
          "MORGA",
          "MTLS",
          "NSTG",
          "NTDOY",
          "NTLA",
          "NVTA",
          "ONVO ",
          "PACB",
          "PD",
          "PINS",
          "PRLB",
          "PSTG",
          "PYPL",
          "ROKU",
          "SE",
          "SHOP",
          "SNPS",
          "SPLK",
          "SPOT",
          "SQ",
          "SSYS",
          "SYRS",
          "TCEHY",
          "TDOC",
          "TREE UW",
          "TSLA",
          "TSM",
          "TWLO",
          "TWOU",
          "TWST",
          "U",
          "VCYT",
          "XONE",
          "Z",
          "ZM"
         ],
         "marker": {
          "coloraxis": "coloraxis",
          "colors": [
           -3.8693541268206495,
           -1.2101779064956721,
           -1.2239902080783311,
           -2.8127313101406424,
           -2.7304739363851627,
           0.360581847981969,
           2.365196078431381,
           -1.0212765957446792,
           -4.879275653923536,
           0.454626493136036,
           -0.3218668276000879,
           -0.8883248730964503,
           -4.896200548374461,
           0,
           -4.048307535295111,
           -1.0746837165011647,
           0.5630918863578164,
           -1.9100236779794912,
           -7.687781918023146,
           2.4390243902439073,
           -4.8070175438596525,
           -0.38927335640138344,
           -2.671598849157423,
           -8.398364920104033,
           -0.9090909090909044,
           -0.33411293017040233,
           -0.9901264699356537,
           -0.9688829650894482,
           2.3005776486694,
           0.620337652139766,
           -1.2873185428649654,
           -0.7255358384473464,
           -1.040402288885038,
           -6.165870603560566,
           -10.777626193724421,
           -5.295315682281048,
           -0.7019386878044116,
           0.5180784001159567,
           2.4443481222328813,
           2.1299151888974635,
           -0.11010790574762643,
           -1.3624618275781026,
           -1.6310865915087547,
           -1.804108365585013,
           -2.0537124802527797,
           -9.507923269391164,
           -1.8338879841393294,
           -2.2689382098572417
          ]
         },
         "name": "",
         "parents": [
          "",
          "",
          "",
          "",
          "",
          "",
          "",
          "",
          "",
          "",
          "",
          "",
          "",
          "",
          "",
          "",
          "",
          "",
          "",
          "",
          "",
          "",
          "",
          "",
          "",
          "",
          "",
          "",
          "",
          "",
          "",
          "",
          "",
          "",
          "",
          "",
          "",
          "",
          "",
          "",
          "",
          "",
          "",
          "",
          "",
          "",
          "",
          ""
         ],
         "type": "treemap",
         "values": [
          247325294.7,
          203548619.76,
          155089332.63,
          143644615.92,
          1084173821,
          370119601.32,
          570112714.85,
          379072034.64,
          118365443.1,
          293092603.75,
          428491751.2,
          184873751.15,
          206408431.88,
          305798864.05,
          341601190.85,
          176333637.6,
          217292244.88,
          413518521.78,
          828360736.02,
          13330925.16,
          206668282.39,
          350697753.98,
          158330755.2,
          559129294.5,
          527198357.62,
          364665068.08,
          1319649234,
          165109400.56,
          352926475.12,
          168612506.44,
          190207587.2,
          507153037.18,
          980433836.72,
          153582658.98,
          66675888.6,
          160102685.25,
          808803849.25,
          342421298.85,
          1876133170.71,
          346644613.26,
          416001640.32,
          340990082.55,
          409906268.76,
          257977264.44,
          280798322.4,
          8160762.4,
          584665121.44,
          212554439.35
         ]
        }
       ],
       "layout": {
        "autosize": true,
        "coloraxis": {
         "cmid": 0,
         "colorbar": {
          "title": {
           "text": "delta price %"
          }
         },
         "colorscale": [
          [
           0,
           "red"
          ],
          [
           0.5,
           "white"
          ],
          [
           1,
           "green"
          ]
         ]
        },
        "legend": {
         "tracegroupgap": 0
        },
        "margin": {
         "t": 60
        },
        "template": {
         "data": {
          "bar": [
           {
            "error_x": {
             "color": "#2a3f5f"
            },
            "error_y": {
             "color": "#2a3f5f"
            },
            "marker": {
             "line": {
              "color": "#E5ECF6",
              "width": 0.5
             }
            },
            "type": "bar"
           }
          ],
          "barpolar": [
           {
            "marker": {
             "line": {
              "color": "#E5ECF6",
              "width": 0.5
             }
            },
            "type": "barpolar"
           }
          ],
          "carpet": [
           {
            "aaxis": {
             "endlinecolor": "#2a3f5f",
             "gridcolor": "white",
             "linecolor": "white",
             "minorgridcolor": "white",
             "startlinecolor": "#2a3f5f"
            },
            "baxis": {
             "endlinecolor": "#2a3f5f",
             "gridcolor": "white",
             "linecolor": "white",
             "minorgridcolor": "white",
             "startlinecolor": "#2a3f5f"
            },
            "type": "carpet"
           }
          ],
          "choropleth": [
           {
            "colorbar": {
             "outlinewidth": 0,
             "ticks": ""
            },
            "type": "choropleth"
           }
          ],
          "contour": [
           {
            "colorbar": {
             "outlinewidth": 0,
             "ticks": ""
            },
            "colorscale": [
             [
              0,
              "#0d0887"
             ],
             [
              0.1111111111111111,
              "#46039f"
             ],
             [
              0.2222222222222222,
              "#7201a8"
             ],
             [
              0.3333333333333333,
              "#9c179e"
             ],
             [
              0.4444444444444444,
              "#bd3786"
             ],
             [
              0.5555555555555556,
              "#d8576b"
             ],
             [
              0.6666666666666666,
              "#ed7953"
             ],
             [
              0.7777777777777778,
              "#fb9f3a"
             ],
             [
              0.8888888888888888,
              "#fdca26"
             ],
             [
              1,
              "#f0f921"
             ]
            ],
            "type": "contour"
           }
          ],
          "contourcarpet": [
           {
            "colorbar": {
             "outlinewidth": 0,
             "ticks": ""
            },
            "type": "contourcarpet"
           }
          ],
          "heatmap": [
           {
            "colorbar": {
             "outlinewidth": 0,
             "ticks": ""
            },
            "colorscale": [
             [
              0,
              "#0d0887"
             ],
             [
              0.1111111111111111,
              "#46039f"
             ],
             [
              0.2222222222222222,
              "#7201a8"
             ],
             [
              0.3333333333333333,
              "#9c179e"
             ],
             [
              0.4444444444444444,
              "#bd3786"
             ],
             [
              0.5555555555555556,
              "#d8576b"
             ],
             [
              0.6666666666666666,
              "#ed7953"
             ],
             [
              0.7777777777777778,
              "#fb9f3a"
             ],
             [
              0.8888888888888888,
              "#fdca26"
             ],
             [
              1,
              "#f0f921"
             ]
            ],
            "type": "heatmap"
           }
          ],
          "heatmapgl": [
           {
            "colorbar": {
             "outlinewidth": 0,
             "ticks": ""
            },
            "colorscale": [
             [
              0,
              "#0d0887"
             ],
             [
              0.1111111111111111,
              "#46039f"
             ],
             [
              0.2222222222222222,
              "#7201a8"
             ],
             [
              0.3333333333333333,
              "#9c179e"
             ],
             [
              0.4444444444444444,
              "#bd3786"
             ],
             [
              0.5555555555555556,
              "#d8576b"
             ],
             [
              0.6666666666666666,
              "#ed7953"
             ],
             [
              0.7777777777777778,
              "#fb9f3a"
             ],
             [
              0.8888888888888888,
              "#fdca26"
             ],
             [
              1,
              "#f0f921"
             ]
            ],
            "type": "heatmapgl"
           }
          ],
          "histogram": [
           {
            "marker": {
             "colorbar": {
              "outlinewidth": 0,
              "ticks": ""
             }
            },
            "type": "histogram"
           }
          ],
          "histogram2d": [
           {
            "colorbar": {
             "outlinewidth": 0,
             "ticks": ""
            },
            "colorscale": [
             [
              0,
              "#0d0887"
             ],
             [
              0.1111111111111111,
              "#46039f"
             ],
             [
              0.2222222222222222,
              "#7201a8"
             ],
             [
              0.3333333333333333,
              "#9c179e"
             ],
             [
              0.4444444444444444,
              "#bd3786"
             ],
             [
              0.5555555555555556,
              "#d8576b"
             ],
             [
              0.6666666666666666,
              "#ed7953"
             ],
             [
              0.7777777777777778,
              "#fb9f3a"
             ],
             [
              0.8888888888888888,
              "#fdca26"
             ],
             [
              1,
              "#f0f921"
             ]
            ],
            "type": "histogram2d"
           }
          ],
          "histogram2dcontour": [
           {
            "colorbar": {
             "outlinewidth": 0,
             "ticks": ""
            },
            "colorscale": [
             [
              0,
              "#0d0887"
             ],
             [
              0.1111111111111111,
              "#46039f"
             ],
             [
              0.2222222222222222,
              "#7201a8"
             ],
             [
              0.3333333333333333,
              "#9c179e"
             ],
             [
              0.4444444444444444,
              "#bd3786"
             ],
             [
              0.5555555555555556,
              "#d8576b"
             ],
             [
              0.6666666666666666,
              "#ed7953"
             ],
             [
              0.7777777777777778,
              "#fb9f3a"
             ],
             [
              0.8888888888888888,
              "#fdca26"
             ],
             [
              1,
              "#f0f921"
             ]
            ],
            "type": "histogram2dcontour"
           }
          ],
          "mesh3d": [
           {
            "colorbar": {
             "outlinewidth": 0,
             "ticks": ""
            },
            "type": "mesh3d"
           }
          ],
          "parcoords": [
           {
            "line": {
             "colorbar": {
              "outlinewidth": 0,
              "ticks": ""
             }
            },
            "type": "parcoords"
           }
          ],
          "pie": [
           {
            "automargin": true,
            "type": "pie"
           }
          ],
          "scatter": [
           {
            "marker": {
             "colorbar": {
              "outlinewidth": 0,
              "ticks": ""
             }
            },
            "type": "scatter"
           }
          ],
          "scatter3d": [
           {
            "line": {
             "colorbar": {
              "outlinewidth": 0,
              "ticks": ""
             }
            },
            "marker": {
             "colorbar": {
              "outlinewidth": 0,
              "ticks": ""
             }
            },
            "type": "scatter3d"
           }
          ],
          "scattercarpet": [
           {
            "marker": {
             "colorbar": {
              "outlinewidth": 0,
              "ticks": ""
             }
            },
            "type": "scattercarpet"
           }
          ],
          "scattergeo": [
           {
            "marker": {
             "colorbar": {
              "outlinewidth": 0,
              "ticks": ""
             }
            },
            "type": "scattergeo"
           }
          ],
          "scattergl": [
           {
            "marker": {
             "colorbar": {
              "outlinewidth": 0,
              "ticks": ""
             }
            },
            "type": "scattergl"
           }
          ],
          "scattermapbox": [
           {
            "marker": {
             "colorbar": {
              "outlinewidth": 0,
              "ticks": ""
             }
            },
            "type": "scattermapbox"
           }
          ],
          "scatterpolar": [
           {
            "marker": {
             "colorbar": {
              "outlinewidth": 0,
              "ticks": ""
             }
            },
            "type": "scatterpolar"
           }
          ],
          "scatterpolargl": [
           {
            "marker": {
             "colorbar": {
              "outlinewidth": 0,
              "ticks": ""
             }
            },
            "type": "scatterpolargl"
           }
          ],
          "scatterternary": [
           {
            "marker": {
             "colorbar": {
              "outlinewidth": 0,
              "ticks": ""
             }
            },
            "type": "scatterternary"
           }
          ],
          "surface": [
           {
            "colorbar": {
             "outlinewidth": 0,
             "ticks": ""
            },
            "colorscale": [
             [
              0,
              "#0d0887"
             ],
             [
              0.1111111111111111,
              "#46039f"
             ],
             [
              0.2222222222222222,
              "#7201a8"
             ],
             [
              0.3333333333333333,
              "#9c179e"
             ],
             [
              0.4444444444444444,
              "#bd3786"
             ],
             [
              0.5555555555555556,
              "#d8576b"
             ],
             [
              0.6666666666666666,
              "#ed7953"
             ],
             [
              0.7777777777777778,
              "#fb9f3a"
             ],
             [
              0.8888888888888888,
              "#fdca26"
             ],
             [
              1,
              "#f0f921"
             ]
            ],
            "type": "surface"
           }
          ],
          "table": [
           {
            "cells": {
             "fill": {
              "color": "#EBF0F8"
             },
             "line": {
              "color": "white"
             }
            },
            "header": {
             "fill": {
              "color": "#C8D4E3"
             },
             "line": {
              "color": "white"
             }
            },
            "type": "table"
           }
          ]
         },
         "layout": {
          "annotationdefaults": {
           "arrowcolor": "#2a3f5f",
           "arrowhead": 0,
           "arrowwidth": 1
          },
          "autotypenumbers": "strict",
          "coloraxis": {
           "colorbar": {
            "outlinewidth": 0,
            "ticks": ""
           }
          },
          "colorscale": {
           "diverging": [
            [
             0,
             "#8e0152"
            ],
            [
             0.1,
             "#c51b7d"
            ],
            [
             0.2,
             "#de77ae"
            ],
            [
             0.3,
             "#f1b6da"
            ],
            [
             0.4,
             "#fde0ef"
            ],
            [
             0.5,
             "#f7f7f7"
            ],
            [
             0.6,
             "#e6f5d0"
            ],
            [
             0.7,
             "#b8e186"
            ],
            [
             0.8,
             "#7fbc41"
            ],
            [
             0.9,
             "#4d9221"
            ],
            [
             1,
             "#276419"
            ]
           ],
           "sequential": [
            [
             0,
             "#0d0887"
            ],
            [
             0.1111111111111111,
             "#46039f"
            ],
            [
             0.2222222222222222,
             "#7201a8"
            ],
            [
             0.3333333333333333,
             "#9c179e"
            ],
            [
             0.4444444444444444,
             "#bd3786"
            ],
            [
             0.5555555555555556,
             "#d8576b"
            ],
            [
             0.6666666666666666,
             "#ed7953"
            ],
            [
             0.7777777777777778,
             "#fb9f3a"
            ],
            [
             0.8888888888888888,
             "#fdca26"
            ],
            [
             1,
             "#f0f921"
            ]
           ],
           "sequentialminus": [
            [
             0,
             "#0d0887"
            ],
            [
             0.1111111111111111,
             "#46039f"
            ],
            [
             0.2222222222222222,
             "#7201a8"
            ],
            [
             0.3333333333333333,
             "#9c179e"
            ],
            [
             0.4444444444444444,
             "#bd3786"
            ],
            [
             0.5555555555555556,
             "#d8576b"
            ],
            [
             0.6666666666666666,
             "#ed7953"
            ],
            [
             0.7777777777777778,
             "#fb9f3a"
            ],
            [
             0.8888888888888888,
             "#fdca26"
            ],
            [
             1,
             "#f0f921"
            ]
           ]
          },
          "colorway": [
           "#636efa",
           "#EF553B",
           "#00cc96",
           "#ab63fa",
           "#FFA15A",
           "#19d3f3",
           "#FF6692",
           "#B6E880",
           "#FF97FF",
           "#FECB52"
          ],
          "font": {
           "color": "#2a3f5f"
          },
          "geo": {
           "bgcolor": "white",
           "lakecolor": "white",
           "landcolor": "#E5ECF6",
           "showlakes": true,
           "showland": true,
           "subunitcolor": "white"
          },
          "hoverlabel": {
           "align": "left"
          },
          "hovermode": "closest",
          "mapbox": {
           "style": "light"
          },
          "paper_bgcolor": "white",
          "plot_bgcolor": "#E5ECF6",
          "polar": {
           "angularaxis": {
            "gridcolor": "white",
            "linecolor": "white",
            "ticks": ""
           },
           "bgcolor": "#E5ECF6",
           "radialaxis": {
            "gridcolor": "white",
            "linecolor": "white",
            "ticks": ""
           }
          },
          "scene": {
           "xaxis": {
            "backgroundcolor": "#E5ECF6",
            "gridcolor": "white",
            "gridwidth": 2,
            "linecolor": "white",
            "showbackground": true,
            "ticks": "",
            "zerolinecolor": "white"
           },
           "yaxis": {
            "backgroundcolor": "#E5ECF6",
            "gridcolor": "white",
            "gridwidth": 2,
            "linecolor": "white",
            "showbackground": true,
            "ticks": "",
            "zerolinecolor": "white"
           },
           "zaxis": {
            "backgroundcolor": "#E5ECF6",
            "gridcolor": "white",
            "gridwidth": 2,
            "linecolor": "white",
            "showbackground": true,
            "ticks": "",
            "zerolinecolor": "white"
           }
          },
          "shapedefaults": {
           "line": {
            "color": "#2a3f5f"
           }
          },
          "ternary": {
           "aaxis": {
            "gridcolor": "white",
            "linecolor": "white",
            "ticks": ""
           },
           "baxis": {
            "gridcolor": "white",
            "linecolor": "white",
            "ticks": ""
           },
           "bgcolor": "#E5ECF6",
           "caxis": {
            "gridcolor": "white",
            "linecolor": "white",
            "ticks": ""
           }
          },
          "title": {
           "x": 0.05
          },
          "xaxis": {
           "automargin": true,
           "gridcolor": "white",
           "linecolor": "white",
           "ticks": "",
           "title": {
            "standoff": 15
           },
           "zerolinecolor": "white",
           "zerolinewidth": 2
          },
          "yaxis": {
           "automargin": true,
           "gridcolor": "white",
           "linecolor": "white",
           "ticks": "",
           "title": {
            "standoff": 15
           },
           "zerolinecolor": "white",
           "zerolinewidth": 2
          }
         }
        }
       }
      },
      "image/png": "[encoded data removed]",
      "text/html": [
       "<div>                            <div id=\"70ec063d-46f0-45ee-8f3e-1c746d6b8f9f\" class=\"plotly-graph-div\" style=\"height:525px; width:100%;\"></div>            <script type=\"text/javascript\">                require([\"plotly\"], function(Plotly) {                    window.PLOTLYENV=window.PLOTLYENV || {};                                    if (document.getElementById(\"70ec063d-46f0-45ee-8f3e-1c746d6b8f9f\")) {                    Plotly.newPlot(                        \"70ec063d-46f0-45ee-8f3e-1c746d6b8f9f\",                        [{\"branchvalues\": \"total\", \"customdata\": [[-3.8693541268206495], [-1.2101779064956721], [-1.2239902080783311], [-2.8127313101406424], [-2.7304739363851627], [0.360581847981969], [2.365196078431381], [-1.0212765957446792], [-4.879275653923536], [0.454626493136036], [-0.3218668276000879], [-0.8883248730964503], [-4.896200548374461], [0.0], [-4.048307535295111], [-1.0746837165011647], [0.5630918863578164], [-1.9100236779794912], [-7.687781918023146], [2.4390243902439073], [-4.8070175438596525], [-0.38927335640138344], [-2.671598849157423], [-8.398364920104033], [-0.9090909090909044], [-0.33411293017040233], [-0.9901264699356537], [-0.9688829650894482], [2.3005776486694], [0.620337652139766], [-1.2873185428649654], [-0.7255358384473464], [-1.040402288885038], [-6.165870603560566], [-10.777626193724421], [-5.295315682281048], [-0.7019386878044116], [0.5180784001159567], [2.4443481222328813], [2.1299151888974635], [-0.11010790574762643], [-1.3624618275781026], [-1.6310865915087547], [-1.804108365585013], [-2.0537124802527797], [-9.507923269391164], [-1.8338879841393294], [-2.2689382098572417]], \"domain\": {\"x\": [0.0, 1.0], \"y\": [0.0, 1.0]}, \"hovertemplate\": \"labels=%{label}<br>value new=%{value}<br>parent=%{parent}<br>id=%{id}<br>delta price %=%{color}<extra></extra>\", \"ids\": [\"BEKE\", \"BIDU\", \"CERS\", \"CGEN\", \"CRSP\", \"DOCU\", \"EDIT\", \"EXAS\", \"HUYA\", \"ICE\", \"IOVA\", \"IRDM\", \"MCRB\", \"MORGA\", \"MTLS\", \"NSTG\", \"NTDOY\", \"NTLA\", \"NVTA\", \"ONVO \", \"PACB\", \"PD\", \"PINS\", \"PRLB\", \"PSTG\", \"PYPL\", \"ROKU\", \"SE\", \"SHOP\", \"SNPS\", \"SPLK\", \"SPOT\", \"SQ\", \"SSYS\", \"SYRS\", \"TCEHY\", \"TDOC\", \"TREE UW\", \"TSLA\", \"TSM\", \"TWLO\", \"TWOU\", \"TWST\", \"U\", \"VCYT\", \"XONE\", \"Z\", \"ZM\"], \"labels\": [\"BEKE\", \"BIDU\", \"CERS\", \"CGEN\", \"CRSP\", \"DOCU\", \"EDIT\", \"EXAS\", \"HUYA\", \"ICE\", \"IOVA\", \"IRDM\", \"MCRB\", \"MORGA\", \"MTLS\", \"NSTG\", \"NTDOY\", \"NTLA\", \"NVTA\", \"ONVO \", \"PACB\", \"PD\", \"PINS\", \"PRLB\", \"PSTG\", \"PYPL\", \"ROKU\", \"SE\", \"SHOP\", \"SNPS\", \"SPLK\", \"SPOT\", \"SQ\", \"SSYS\", \"SYRS\", \"TCEHY\", \"TDOC\", \"TREE UW\", \"TSLA\", \"TSM\", \"TWLO\", \"TWOU\", \"TWST\", \"U\", \"VCYT\", \"XONE\", \"Z\", \"ZM\"], \"marker\": {\"coloraxis\": \"coloraxis\", \"colors\": [-3.8693541268206495, -1.2101779064956721, -1.2239902080783311, -2.8127313101406424, -2.7304739363851627, 0.360581847981969, 2.365196078431381, -1.0212765957446792, -4.879275653923536, 0.454626493136036, -0.3218668276000879, -0.8883248730964503, -4.896200548374461, 0.0, -4.048307535295111, -1.0746837165011647, 0.5630918863578164, -1.9100236779794912, -7.687781918023146, 2.4390243902439073, -4.8070175438596525, -0.38927335640138344, -2.671598849157423, -8.398364920104033, -0.9090909090909044, -0.33411293017040233, -0.9901264699356537, -0.9688829650894482, 2.3005776486694, 0.620337652139766, -1.2873185428649654, -0.7255358384473464, -1.040402288885038, -6.165870603560566, -10.777626193724421, -5.295315682281048, -0.7019386878044116, 0.5180784001159567, 2.4443481222328813, 2.1299151888974635, -0.11010790574762643, -1.3624618275781026, -1.6310865915087547, -1.804108365585013, -2.0537124802527797, -9.507923269391164, -1.8338879841393294, -2.2689382098572417]}, \"name\": \"\", \"parents\": [\"\", \"\", \"\", \"\", \"\", \"\", \"\", \"\", \"\", \"\", \"\", \"\", \"\", \"\", \"\", \"\", \"\", \"\", \"\", \"\", \"\", \"\", \"\", \"\", \"\", \"\", \"\", \"\", \"\", \"\", \"\", \"\", \"\", \"\", \"\", \"\", \"\", \"\", \"\", \"\", \"\", \"\", \"\", \"\", \"\", \"\", \"\", \"\"], \"type\": \"treemap\", \"values\": [247325294.7, 203548619.76, 155089332.63, 143644615.92, 1084173821.0, 370119601.32, 570112714.85, 379072034.64, 118365443.1, 293092603.75, 428491751.2, 184873751.15, 206408431.88, 305798864.05, 341601190.85, 176333637.6, 217292244.88, 413518521.78, 828360736.02, 13330925.16, 206668282.39, 350697753.98, 158330755.2, 559129294.5, 527198357.62, 364665068.08, 1319649234.0, 165109400.56, 352926475.12, 168612506.44, 190207587.2, 507153037.18, 980433836.72, 153582658.98, 66675888.6, 160102685.25, 808803849.25, 342421298.85, 1876133170.71, 346644613.26, 416001640.32, 340990082.55, 409906268.76, 257977264.44, 280798322.4, 8160762.4, 584665121.44, 212554439.35]}],                        {\"coloraxis\": {\"cmid\": 0, \"colorbar\": {\"title\": {\"text\": \"delta price %\"}}, \"colorscale\": [[0.0, \"red\"], [0.5, \"white\"], [1.0, \"green\"]]}, \"legend\": {\"tracegroupgap\": 0}, \"margin\": {\"t\": 60}, \"template\": {\"data\": {\"bar\": [{\"error_x\": {\"color\": \"#2a3f5f\"}, \"error_y\": {\"color\": \"#2a3f5f\"}, \"marker\": {\"line\": {\"color\": \"#E5ECF6\", \"width\": 0.5}}, \"type\": \"bar\"}], \"barpolar\": [{\"marker\": {\"line\": {\"color\": \"#E5ECF6\", \"width\": 0.5}}, \"type\": \"barpolar\"}], \"carpet\": [{\"aaxis\": {\"endlinecolor\": \"#2a3f5f\", \"gridcolor\": \"white\", \"linecolor\": \"white\", \"minorgridcolor\": \"white\", \"startlinecolor\": \"#2a3f5f\"}, \"baxis\": {\"endlinecolor\": \"#2a3f5f\", \"gridcolor\": \"white\", \"linecolor\": \"white\", \"minorgridcolor\": \"white\", \"startlinecolor\": \"#2a3f5f\"}, \"type\": \"carpet\"}], \"choropleth\": [{\"colorbar\": {\"outlinewidth\": 0, \"ticks\": \"\"}, \"type\": \"choropleth\"}], \"contour\": [{\"colorbar\": {\"outlinewidth\": 0, \"ticks\": \"\"}, \"colorscale\": [[0.0, \"#0d0887\"], [0.1111111111111111, \"#46039f\"], [0.2222222222222222, \"#7201a8\"], [0.3333333333333333, \"#9c179e\"], [0.4444444444444444, \"#bd3786\"], [0.5555555555555556, \"#d8576b\"], [0.6666666666666666, \"#ed7953\"], [0.7777777777777778, \"#fb9f3a\"], [0.8888888888888888, \"#fdca26\"], [1.0, \"#f0f921\"]], \"type\": \"contour\"}], \"contourcarpet\": [{\"colorbar\": {\"outlinewidth\": 0, \"ticks\": \"\"}, \"type\": \"contourcarpet\"}], \"heatmap\": [{\"colorbar\": {\"outlinewidth\": 0, \"ticks\": \"\"}, \"colorscale\": [[0.0, \"#0d0887\"], [0.1111111111111111, \"#46039f\"], [0.2222222222222222, \"#7201a8\"], [0.3333333333333333, \"#9c179e\"], [0.4444444444444444, \"#bd3786\"], [0.5555555555555556, \"#d8576b\"], [0.6666666666666666, \"#ed7953\"], [0.7777777777777778, \"#fb9f3a\"], [0.8888888888888888, \"#fdca26\"], [1.0, \"#f0f921\"]], \"type\": \"heatmap\"}], \"heatmapgl\": [{\"colorbar\": {\"outlinewidth\": 0, \"ticks\": \"\"}, \"colorscale\": [[0.0, \"#0d0887\"], [0.1111111111111111, \"#46039f\"], [0.2222222222222222, \"#7201a8\"], [0.3333333333333333, \"#9c179e\"], [0.4444444444444444, \"#bd3786\"], [0.5555555555555556, \"#d8576b\"], [0.6666666666666666, \"#ed7953\"], [0.7777777777777778, \"#fb9f3a\"], [0.8888888888888888, \"#fdca26\"], [1.0, \"#f0f921\"]], \"type\": \"heatmapgl\"}], \"histogram\": [{\"marker\": {\"colorbar\": {\"outlinewidth\": 0, \"ticks\": \"\"}}, \"type\": \"histogram\"}], \"histogram2d\": [{\"colorbar\": {\"outlinewidth\": 0, \"ticks\": \"\"}, \"colorscale\": [[0.0, \"#0d0887\"], [0.1111111111111111, \"#46039f\"], [0.2222222222222222, \"#7201a8\"], [0.3333333333333333, \"#9c179e\"], [0.4444444444444444, \"#bd3786\"], [0.5555555555555556, \"#d8576b\"], [0.6666666666666666, \"#ed7953\"], [0.7777777777777778, \"#fb9f3a\"], [0.8888888888888888, \"#fdca26\"], [1.0, \"#f0f921\"]], \"type\": \"histogram2d\"}], \"histogram2dcontour\": [{\"colorbar\": {\"outlinewidth\": 0, \"ticks\": \"\"}, \"colorscale\": [[0.0, \"#0d0887\"], [0.1111111111111111, \"#46039f\"], [0.2222222222222222, \"#7201a8\"], [0.3333333333333333, \"#9c179e\"], [0.4444444444444444, \"#bd3786\"], [0.5555555555555556, \"#d8576b\"], [0.6666666666666666, \"#ed7953\"], [0.7777777777777778, \"#fb9f3a\"], [0.8888888888888888, \"#fdca26\"], [1.0, \"#f0f921\"]], \"type\": \"histogram2dcontour\"}], \"mesh3d\": [{\"colorbar\": {\"outlinewidth\": 0, \"ticks\": \"\"}, \"type\": \"mesh3d\"}], \"parcoords\": [{\"line\": {\"colorbar\": {\"outlinewidth\": 0, \"ticks\": \"\"}}, \"type\": \"parcoords\"}], \"pie\": [{\"automargin\": true, \"type\": \"pie\"}], \"scatter\": [{\"marker\": {\"colorbar\": {\"outlinewidth\": 0, \"ticks\": \"\"}}, \"type\": \"scatter\"}], \"scatter3d\": [{\"line\": {\"colorbar\": {\"outlinewidth\": 0, \"ticks\": \"\"}}, \"marker\": {\"colorbar\": {\"outlinewidth\": 0, \"ticks\": \"\"}}, \"type\": \"scatter3d\"}], \"scattercarpet\": [{\"marker\": {\"colorbar\": {\"outlinewidth\": 0, \"ticks\": \"\"}}, \"type\": \"scattercarpet\"}], \"scattergeo\": [{\"marker\": {\"colorbar\": {\"outlinewidth\": 0, \"ticks\": \"\"}}, \"type\": \"scattergeo\"}], \"scattergl\": [{\"marker\": {\"colorbar\": {\"outlinewidth\": 0, \"ticks\": \"\"}}, \"type\": \"scattergl\"}], \"scattermapbox\": [{\"marker\": {\"colorbar\": {\"outlinewidth\": 0, \"ticks\": \"\"}}, \"type\": \"scattermapbox\"}], \"scatterpolar\": [{\"marker\": {\"colorbar\": {\"outlinewidth\": 0, \"ticks\": \"\"}}, \"type\": \"scatterpolar\"}], \"scatterpolargl\": [{\"marker\": {\"colorbar\": {\"outlinewidth\": 0, \"ticks\": \"\"}}, \"type\": \"scatterpolargl\"}], \"scatterternary\": [{\"marker\": {\"colorbar\": {\"outlinewidth\": 0, \"ticks\": \"\"}}, \"type\": \"scatterternary\"}], \"surface\": [{\"colorbar\": {\"outlinewidth\": 0, \"ticks\": \"\"}, \"colorscale\": [[0.0, \"#0d0887\"], [0.1111111111111111, \"#46039f\"], [0.2222222222222222, \"#7201a8\"], [0.3333333333333333, \"#9c179e\"], [0.4444444444444444, \"#bd3786\"], [0.5555555555555556, \"#d8576b\"], [0.6666666666666666, \"#ed7953\"], [0.7777777777777778, \"#fb9f3a\"], [0.8888888888888888, \"#fdca26\"], [1.0, \"#f0f921\"]], \"type\": \"surface\"}], \"table\": [{\"cells\": {\"fill\": {\"color\": \"#EBF0F8\"}, \"line\": {\"color\": \"white\"}}, \"header\": {\"fill\": {\"color\": \"#C8D4E3\"}, \"line\": {\"color\": \"white\"}}, \"type\": \"table\"}]}, \"layout\": {\"annotationdefaults\": {\"arrowcolor\": \"#2a3f5f\", \"arrowhead\": 0, \"arrowwidth\": 1}, \"autotypenumbers\": \"strict\", \"coloraxis\": {\"colorbar\": {\"outlinewidth\": 0, \"ticks\": \"\"}}, \"colorscale\": {\"diverging\": [[0, \"#8e0152\"], [0.1, \"#c51b7d\"], [0.2, \"#de77ae\"], [0.3, \"#f1b6da\"], [0.4, \"#fde0ef\"], [0.5, \"#f7f7f7\"], [0.6, \"#e6f5d0\"], [0.7, \"#b8e186\"], [0.8, \"#7fbc41\"], [0.9, \"#4d9221\"], [1, \"#276419\"]], \"sequential\": [[0.0, \"#0d0887\"], [0.1111111111111111, \"#46039f\"], [0.2222222222222222, \"#7201a8\"], [0.3333333333333333, \"#9c179e\"], [0.4444444444444444, \"#bd3786\"], [0.5555555555555556, \"#d8576b\"], [0.6666666666666666, \"#ed7953\"], [0.7777777777777778, \"#fb9f3a\"], [0.8888888888888888, \"#fdca26\"], [1.0, \"#f0f921\"]], \"sequentialminus\": [[0.0, \"#0d0887\"], [0.1111111111111111, \"#46039f\"], [0.2222222222222222, \"#7201a8\"], [0.3333333333333333, \"#9c179e\"], [0.4444444444444444, \"#bd3786\"], [0.5555555555555556, \"#d8576b\"], [0.6666666666666666, \"#ed7953\"], [0.7777777777777778, \"#fb9f3a\"], [0.8888888888888888, \"#fdca26\"], [1.0, \"#f0f921\"]]}, \"colorway\": [\"#636efa\", \"#EF553B\", \"#00cc96\", \"#ab63fa\", \"#FFA15A\", \"#19d3f3\", \"#FF6692\", \"#B6E880\", \"#FF97FF\", \"#FECB52\"], \"font\": {\"color\": \"#2a3f5f\"}, \"geo\": {\"bgcolor\": \"white\", \"lakecolor\": \"white\", \"landcolor\": \"#E5ECF6\", \"showlakes\": true, \"showland\": true, \"subunitcolor\": \"white\"}, \"hoverlabel\": {\"align\": \"left\"}, \"hovermode\": \"closest\", \"mapbox\": {\"style\": \"light\"}, \"paper_bgcolor\": \"white\", \"plot_bgcolor\": \"#E5ECF6\", \"polar\": {\"angularaxis\": {\"gridcolor\": \"white\", \"linecolor\": \"white\", \"ticks\": \"\"}, \"bgcolor\": \"#E5ECF6\", \"radialaxis\": {\"gridcolor\": \"white\", \"linecolor\": \"white\", \"ticks\": \"\"}}, \"scene\": {\"xaxis\": {\"backgroundcolor\": \"#E5ECF6\", \"gridcolor\": \"white\", \"gridwidth\": 2, \"linecolor\": \"white\", \"showbackground\": true, \"ticks\": \"\", \"zerolinecolor\": \"white\"}, \"yaxis\": {\"backgroundcolor\": \"#E5ECF6\", \"gridcolor\": \"white\", \"gridwidth\": 2, \"linecolor\": \"white\", \"showbackground\": true, \"ticks\": \"\", \"zerolinecolor\": \"white\"}, \"zaxis\": {\"backgroundcolor\": \"#E5ECF6\", \"gridcolor\": \"white\", \"gridwidth\": 2, \"linecolor\": \"white\", \"showbackground\": true, \"ticks\": \"\", \"zerolinecolor\": \"white\"}}, \"shapedefaults\": {\"line\": {\"color\": \"#2a3f5f\"}}, \"ternary\": {\"aaxis\": {\"gridcolor\": \"white\", \"linecolor\": \"white\", \"ticks\": \"\"}, \"baxis\": {\"gridcolor\": \"white\", \"linecolor\": \"white\", \"ticks\": \"\"}, \"bgcolor\": \"#E5ECF6\", \"caxis\": {\"gridcolor\": \"white\", \"linecolor\": \"white\", \"ticks\": \"\"}}, \"title\": {\"x\": 0.05}, \"xaxis\": {\"automargin\": true, \"gridcolor\": \"white\", \"linecolor\": \"white\", \"ticks\": \"\", \"title\": {\"standoff\": 15}, \"zerolinecolor\": \"white\", \"zerolinewidth\": 2}, \"yaxis\": {\"automargin\": true, \"gridcolor\": \"white\", \"linecolor\": \"white\", \"ticks\": \"\", \"title\": {\"standoff\": 15}, \"zerolinecolor\": \"white\", \"zerolinewidth\": 2}}}},                        {\"responsive\": true}                    ).then(function(){\n",
       "                            \n",
       "var gd = document.getElementById('70ec063d-46f0-45ee-8f3e-1c746d6b8f9f');\n",
       "var x = new MutationObserver(function (mutations, observer) {{\n",
       "        var display = window.getComputedStyle(gd).display;\n",
       "        if (!display || display === 'none') {{\n",
       "            console.log([gd, 'removed!']);\n",
       "            Plotly.purge(gd);\n",
       "            observer.disconnect();\n",
       "        }}\n",
       "}});\n",
       "\n",
       "// Listen for the removal of the full notebook cells\n",
       "var notebookContainer = gd.closest('#notebook-container');\n",
       "if (notebookContainer) {{\n",
       "    x.observe(notebookContainer, {childList: true});\n",
       "}}\n",
       "\n",
       "// Listen for the clearing of the current output cell\n",
       "var outputEl = gd.closest('.output');\n",
       "if (outputEl) {{\n",
       "    x.observe(outputEl, {childList: true});\n",
       "}}\n",
       "\n",
       "                        })                };                });            </script>        </div>"
      ]
     },
     "metadata": {},
     "output_type": "display_data"
    },
    {
     "data": {
      "application/vnd.plotly.v1+json": {
       "config": {
        "plotlyServerURL": "https://plot.ly"
       },
       "data": [
        {
         "alignmentgroup": "True",
         "hovertemplate": "variable=delta price %<br>ticker=%{x}<br>value=%{y}<extra></extra>",
         "legendgroup": "delta price %",
         "marker": {
          "color": "#636efa"
         },
         "name": "delta price %",
         "offsetgroup": "delta price %",
         "orientation": "v",
         "showlegend": true,
         "textposition": "auto",
         "type": "bar",
         "x": [
          "TSLA",
          "ROKU",
          "CRSP",
          "SQ",
          "NVTA",
          "TDOC",
          "Z",
          "EDIT",
          "PRLB",
          "PSTG",
          "SPOT",
          "IOVA",
          "TWLO",
          "NTLA",
          "TWST",
          "EXAS",
          "DOCU",
          "PYPL",
          "SHOP",
          "PD",
          "TSM",
          "MTLS",
          "TREE UW",
          "TWOU",
          "MORGA",
          "ICE",
          "VCYT",
          "U",
          "BEKE",
          "NTDOY",
          "ZM",
          "MCRB",
          "PACB",
          "BIDU",
          "SPLK",
          "IRDM",
          "NSTG",
          "SNPS",
          "SE",
          "TCEHY",
          "PINS",
          "CERS",
          "SSYS",
          "CGEN",
          "HUYA",
          "SYRS",
          "ONVO ",
          "XONE"
         ],
         "xaxis": "x",
         "y": [
          2.444348122232881,
          -0.9901264699356538,
          -2.7304739363851627,
          -1.040402288885038,
          -7.687781918023146,
          -0.7019386878044116,
          -1.8338879841393294,
          2.365196078431381,
          -8.398364920104033,
          -0.9090909090909044,
          -0.7255358384473465,
          -0.3218668276000879,
          -0.11010790574762643,
          -1.9100236779794915,
          -1.6310865915087545,
          -1.0212765957446792,
          0.360581847981969,
          -0.33411293017040233,
          2.3005776486694,
          -0.38927335640138344,
          2.1299151888974635,
          -4.048307535295111,
          0.5180784001159567,
          -1.3624618275781026,
          0,
          0.454626493136036,
          -2.0537124802527797,
          -1.804108365585013,
          -3.8693541268206495,
          0.5630918863578164,
          -2.2689382098572417,
          -4.896200548374461,
          -4.8070175438596525,
          -1.2101779064956721,
          -1.2873185428649654,
          -0.8883248730964503,
          -1.0746837165011647,
          0.620337652139766,
          -0.9688829650894482,
          -5.295315682281048,
          -2.671598849157423,
          -1.2239902080783311,
          -6.165870603560566,
          -2.8127313101406424,
          -4.879275653923536,
          -10.777626193724421,
          2.4390243902439073,
          -9.507923269391164
         ],
         "yaxis": "y"
        }
       ],
       "layout": {
        "autosize": true,
        "barmode": "relative",
        "legend": {
         "title": {
          "text": "variable"
         },
         "tracegroupgap": 0
        },
        "margin": {
         "t": 60
        },
        "template": {
         "data": {
          "bar": [
           {
            "error_x": {
             "color": "#2a3f5f"
            },
            "error_y": {
             "color": "#2a3f5f"
            },
            "marker": {
             "line": {
              "color": "#E5ECF6",
              "width": 0.5
             }
            },
            "type": "bar"
           }
          ],
          "barpolar": [
           {
            "marker": {
             "line": {
              "color": "#E5ECF6",
              "width": 0.5
             }
            },
            "type": "barpolar"
           }
          ],
          "carpet": [
           {
            "aaxis": {
             "endlinecolor": "#2a3f5f",
             "gridcolor": "white",
             "linecolor": "white",
             "minorgridcolor": "white",
             "startlinecolor": "#2a3f5f"
            },
            "baxis": {
             "endlinecolor": "#2a3f5f",
             "gridcolor": "white",
             "linecolor": "white",
             "minorgridcolor": "white",
             "startlinecolor": "#2a3f5f"
            },
            "type": "carpet"
           }
          ],
          "choropleth": [
           {
            "colorbar": {
             "outlinewidth": 0,
             "ticks": ""
            },
            "type": "choropleth"
           }
          ],
          "contour": [
           {
            "colorbar": {
             "outlinewidth": 0,
             "ticks": ""
            },
            "colorscale": [
             [
              0,
              "#0d0887"
             ],
             [
              0.1111111111111111,
              "#46039f"
             ],
             [
              0.2222222222222222,
              "#7201a8"
             ],
             [
              0.3333333333333333,
              "#9c179e"
             ],
             [
              0.4444444444444444,
              "#bd3786"
             ],
             [
              0.5555555555555556,
              "#d8576b"
             ],
             [
              0.6666666666666666,
              "#ed7953"
             ],
             [
              0.7777777777777778,
              "#fb9f3a"
             ],
             [
              0.8888888888888888,
              "#fdca26"
             ],
             [
              1,
              "#f0f921"
             ]
            ],
            "type": "contour"
           }
          ],
          "contourcarpet": [
           {
            "colorbar": {
             "outlinewidth": 0,
             "ticks": ""
            },
            "type": "contourcarpet"
           }
          ],
          "heatmap": [
           {
            "colorbar": {
             "outlinewidth": 0,
             "ticks": ""
            },
            "colorscale": [
             [
              0,
              "#0d0887"
             ],
             [
              0.1111111111111111,
              "#46039f"
             ],
             [
              0.2222222222222222,
              "#7201a8"
             ],
             [
              0.3333333333333333,
              "#9c179e"
             ],
             [
              0.4444444444444444,
              "#bd3786"
             ],
             [
              0.5555555555555556,
              "#d8576b"
             ],
             [
              0.6666666666666666,
              "#ed7953"
             ],
             [
              0.7777777777777778,
              "#fb9f3a"
             ],
             [
              0.8888888888888888,
              "#fdca26"
             ],
             [
              1,
              "#f0f921"
             ]
            ],
            "type": "heatmap"
           }
          ],
          "heatmapgl": [
           {
            "colorbar": {
             "outlinewidth": 0,
             "ticks": ""
            },
            "colorscale": [
             [
              0,
              "#0d0887"
             ],
             [
              0.1111111111111111,
              "#46039f"
             ],
             [
              0.2222222222222222,
              "#7201a8"
             ],
             [
              0.3333333333333333,
              "#9c179e"
             ],
             [
              0.4444444444444444,
              "#bd3786"
             ],
             [
              0.5555555555555556,
              "#d8576b"
             ],
             [
              0.6666666666666666,
              "#ed7953"
             ],
             [
              0.7777777777777778,
              "#fb9f3a"
             ],
             [
              0.8888888888888888,
              "#fdca26"
             ],
             [
              1,
              "#f0f921"
             ]
            ],
            "type": "heatmapgl"
           }
          ],
          "histogram": [
           {
            "marker": {
             "colorbar": {
              "outlinewidth": 0,
              "ticks": ""
             }
            },
            "type": "histogram"
           }
          ],
          "histogram2d": [
           {
            "colorbar": {
             "outlinewidth": 0,
             "ticks": ""
            },
            "colorscale": [
             [
              0,
              "#0d0887"
             ],
             [
              0.1111111111111111,
              "#46039f"
             ],
             [
              0.2222222222222222,
              "#7201a8"
             ],
             [
              0.3333333333333333,
              "#9c179e"
             ],
             [
              0.4444444444444444,
              "#bd3786"
             ],
             [
              0.5555555555555556,
              "#d8576b"
             ],
             [
              0.6666666666666666,
              "#ed7953"
             ],
             [
              0.7777777777777778,
              "#fb9f3a"
             ],
             [
              0.8888888888888888,
              "#fdca26"
             ],
             [
              1,
              "#f0f921"
             ]
            ],
            "type": "histogram2d"
           }
          ],
          "histogram2dcontour": [
           {
            "colorbar": {
             "outlinewidth": 0,
             "ticks": ""
            },
            "colorscale": [
             [
              0,
              "#0d0887"
             ],
             [
              0.1111111111111111,
              "#46039f"
             ],
             [
              0.2222222222222222,
              "#7201a8"
             ],
             [
              0.3333333333333333,
              "#9c179e"
             ],
             [
              0.4444444444444444,
              "#bd3786"
             ],
             [
              0.5555555555555556,
              "#d8576b"
             ],
             [
              0.6666666666666666,
              "#ed7953"
             ],
             [
              0.7777777777777778,
              "#fb9f3a"
             ],
             [
              0.8888888888888888,
              "#fdca26"
             ],
             [
              1,
              "#f0f921"
             ]
            ],
            "type": "histogram2dcontour"
           }
          ],
          "mesh3d": [
           {
            "colorbar": {
             "outlinewidth": 0,
             "ticks": ""
            },
            "type": "mesh3d"
           }
          ],
          "parcoords": [
           {
            "line": {
             "colorbar": {
              "outlinewidth": 0,
              "ticks": ""
             }
            },
            "type": "parcoords"
           }
          ],
          "pie": [
           {
            "automargin": true,
            "type": "pie"
           }
          ],
          "scatter": [
           {
            "marker": {
             "colorbar": {
              "outlinewidth": 0,
              "ticks": ""
             }
            },
            "type": "scatter"
           }
          ],
          "scatter3d": [
           {
            "line": {
             "colorbar": {
              "outlinewidth": 0,
              "ticks": ""
             }
            },
            "marker": {
             "colorbar": {
              "outlinewidth": 0,
              "ticks": ""
             }
            },
            "type": "scatter3d"
           }
          ],
          "scattercarpet": [
           {
            "marker": {
             "colorbar": {
              "outlinewidth": 0,
              "ticks": ""
             }
            },
            "type": "scattercarpet"
           }
          ],
          "scattergeo": [
           {
            "marker": {
             "colorbar": {
              "outlinewidth": 0,
              "ticks": ""
             }
            },
            "type": "scattergeo"
           }
          ],
          "scattergl": [
           {
            "marker": {
             "colorbar": {
              "outlinewidth": 0,
              "ticks": ""
             }
            },
            "type": "scattergl"
           }
          ],
          "scattermapbox": [
           {
            "marker": {
             "colorbar": {
              "outlinewidth": 0,
              "ticks": ""
             }
            },
            "type": "scattermapbox"
           }
          ],
          "scatterpolar": [
           {
            "marker": {
             "colorbar": {
              "outlinewidth": 0,
              "ticks": ""
             }
            },
            "type": "scatterpolar"
           }
          ],
          "scatterpolargl": [
           {
            "marker": {
             "colorbar": {
              "outlinewidth": 0,
              "ticks": ""
             }
            },
            "type": "scatterpolargl"
           }
          ],
          "scatterternary": [
           {
            "marker": {
             "colorbar": {
              "outlinewidth": 0,
              "ticks": ""
             }
            },
            "type": "scatterternary"
           }
          ],
          "surface": [
           {
            "colorbar": {
             "outlinewidth": 0,
             "ticks": ""
            },
            "colorscale": [
             [
              0,
              "#0d0887"
             ],
             [
              0.1111111111111111,
              "#46039f"
             ],
             [
              0.2222222222222222,
              "#7201a8"
             ],
             [
              0.3333333333333333,
              "#9c179e"
             ],
             [
              0.4444444444444444,
              "#bd3786"
             ],
             [
              0.5555555555555556,
              "#d8576b"
             ],
             [
              0.6666666666666666,
              "#ed7953"
             ],
             [
              0.7777777777777778,
              "#fb9f3a"
             ],
             [
              0.8888888888888888,
              "#fdca26"
             ],
             [
              1,
              "#f0f921"
             ]
            ],
            "type": "surface"
           }
          ],
          "table": [
           {
            "cells": {
             "fill": {
              "color": "#EBF0F8"
             },
             "line": {
              "color": "white"
             }
            },
            "header": {
             "fill": {
              "color": "#C8D4E3"
             },
             "line": {
              "color": "white"
             }
            },
            "type": "table"
           }
          ]
         },
         "layout": {
          "annotationdefaults": {
           "arrowcolor": "#2a3f5f",
           "arrowhead": 0,
           "arrowwidth": 1
          },
          "autotypenumbers": "strict",
          "coloraxis": {
           "colorbar": {
            "outlinewidth": 0,
            "ticks": ""
           }
          },
          "colorscale": {
           "diverging": [
            [
             0,
             "#8e0152"
            ],
            [
             0.1,
             "#c51b7d"
            ],
            [
             0.2,
             "#de77ae"
            ],
            [
             0.3,
             "#f1b6da"
            ],
            [
             0.4,
             "#fde0ef"
            ],
            [
             0.5,
             "#f7f7f7"
            ],
            [
             0.6,
             "#e6f5d0"
            ],
            [
             0.7,
             "#b8e186"
            ],
            [
             0.8,
             "#7fbc41"
            ],
            [
             0.9,
             "#4d9221"
            ],
            [
             1,
             "#276419"
            ]
           ],
           "sequential": [
            [
             0,
             "#0d0887"
            ],
            [
             0.1111111111111111,
             "#46039f"
            ],
            [
             0.2222222222222222,
             "#7201a8"
            ],
            [
             0.3333333333333333,
             "#9c179e"
            ],
            [
             0.4444444444444444,
             "#bd3786"
            ],
            [
             0.5555555555555556,
             "#d8576b"
            ],
            [
             0.6666666666666666,
             "#ed7953"
            ],
            [
             0.7777777777777778,
             "#fb9f3a"
            ],
            [
             0.8888888888888888,
             "#fdca26"
            ],
            [
             1,
             "#f0f921"
            ]
           ],
           "sequentialminus": [
            [
             0,
             "#0d0887"
            ],
            [
             0.1111111111111111,
             "#46039f"
            ],
            [
             0.2222222222222222,
             "#7201a8"
            ],
            [
             0.3333333333333333,
             "#9c179e"
            ],
            [
             0.4444444444444444,
             "#bd3786"
            ],
            [
             0.5555555555555556,
             "#d8576b"
            ],
            [
             0.6666666666666666,
             "#ed7953"
            ],
            [
             0.7777777777777778,
             "#fb9f3a"
            ],
            [
             0.8888888888888888,
             "#fdca26"
            ],
            [
             1,
             "#f0f921"
            ]
           ]
          },
          "colorway": [
           "#636efa",
           "#EF553B",
           "#00cc96",
           "#ab63fa",
           "#FFA15A",
           "#19d3f3",
           "#FF6692",
           "#B6E880",
           "#FF97FF",
           "#FECB52"
          ],
          "font": {
           "color": "#2a3f5f"
          },
          "geo": {
           "bgcolor": "white",
           "lakecolor": "white",
           "landcolor": "#E5ECF6",
           "showlakes": true,
           "showland": true,
           "subunitcolor": "white"
          },
          "hoverlabel": {
           "align": "left"
          },
          "hovermode": "closest",
          "mapbox": {
           "style": "light"
          },
          "paper_bgcolor": "white",
          "plot_bgcolor": "#E5ECF6",
          "polar": {
           "angularaxis": {
            "gridcolor": "white",
            "linecolor": "white",
            "ticks": ""
           },
           "bgcolor": "#E5ECF6",
           "radialaxis": {
            "gridcolor": "white",
            "linecolor": "white",
            "ticks": ""
           }
          },
          "scene": {
           "xaxis": {
            "backgroundcolor": "#E5ECF6",
            "gridcolor": "white",
            "gridwidth": 2,
            "linecolor": "white",
            "showbackground": true,
            "ticks": "",
            "zerolinecolor": "white"
           },
           "yaxis": {
            "backgroundcolor": "#E5ECF6",
            "gridcolor": "white",
            "gridwidth": 2,
            "linecolor": "white",
            "showbackground": true,
            "ticks": "",
            "zerolinecolor": "white"
           },
           "zaxis": {
            "backgroundcolor": "#E5ECF6",
            "gridcolor": "white",
            "gridwidth": 2,
            "linecolor": "white",
            "showbackground": true,
            "ticks": "",
            "zerolinecolor": "white"
           }
          },
          "shapedefaults": {
           "line": {
            "color": "#2a3f5f"
           }
          },
          "ternary": {
           "aaxis": {
            "gridcolor": "white",
            "linecolor": "white",
            "ticks": ""
           },
           "baxis": {
            "gridcolor": "white",
            "linecolor": "white",
            "ticks": ""
           },
           "bgcolor": "#E5ECF6",
           "caxis": {
            "gridcolor": "white",
            "linecolor": "white",
            "ticks": ""
           }
          },
          "title": {
           "x": 0.05
          },
          "xaxis": {
           "automargin": true,
           "gridcolor": "white",
           "linecolor": "white",
           "ticks": "",
           "title": {
            "standoff": 15
           },
           "zerolinecolor": "white",
           "zerolinewidth": 2
          },
          "yaxis": {
           "automargin": true,
           "gridcolor": "white",
           "linecolor": "white",
           "ticks": "",
           "title": {
            "standoff": 15
           },
           "zerolinecolor": "white",
           "zerolinewidth": 2
          }
         }
        },
        "xaxis": {
         "anchor": "y",
         "autorange": true,
         "domain": [
          0,
          1
         ],
         "range": [
          -0.5,
          47.5
         ],
         "title": {
          "text": "ticker"
         },
         "type": "category"
        },
        "yaxis": {
         "anchor": "x",
         "autorange": true,
         "domain": [
          0,
          1
         ],
         "range": [
          -11.512180322388716,
          3.1789022508971754
         ],
         "title": {
          "text": "value"
         },
         "type": "linear"
        }
       }
      },
      "image/png": "[encoded data removed]",
      "text/html": [
       "<div>                            <div id=\"90d110b2-554c-4e33-8b15-6862623248e7\" class=\"plotly-graph-div\" style=\"height:525px; width:100%;\"></div>            <script type=\"text/javascript\">                require([\"plotly\"], function(Plotly) {                    window.PLOTLYENV=window.PLOTLYENV || {};                                    if (document.getElementById(\"90d110b2-554c-4e33-8b15-6862623248e7\")) {                    Plotly.newPlot(                        \"90d110b2-554c-4e33-8b15-6862623248e7\",                        [{\"alignmentgroup\": \"True\", \"hovertemplate\": \"variable=delta price %<br>ticker=%{x}<br>value=%{y}<extra></extra>\", \"legendgroup\": \"delta price %\", \"marker\": {\"color\": \"#636efa\"}, \"name\": \"delta price %\", \"offsetgroup\": \"delta price %\", \"orientation\": \"v\", \"showlegend\": true, \"textposition\": \"auto\", \"type\": \"bar\", \"x\": [\"TSLA\", \"ROKU\", \"CRSP\", \"SQ\", \"NVTA\", \"TDOC\", \"Z\", \"EDIT\", \"PRLB\", \"PSTG\", \"SPOT\", \"IOVA\", \"TWLO\", \"NTLA\", \"TWST\", \"EXAS\", \"DOCU\", \"PYPL\", \"SHOP\", \"PD\", \"TSM\", \"MTLS\", \"TREE UW\", \"TWOU\", \"MORGA\", \"ICE\", \"VCYT\", \"U\", \"BEKE\", \"NTDOY\", \"ZM\", \"MCRB\", \"PACB\", \"BIDU\", \"SPLK\", \"IRDM\", \"NSTG\", \"SNPS\", \"SE\", \"TCEHY\", \"PINS\", \"CERS\", \"SSYS\", \"CGEN\", \"HUYA\", \"SYRS\", \"ONVO \", \"XONE\"], \"xaxis\": \"x\", \"y\": [2.444348122232881, -0.9901264699356538, -2.7304739363851627, -1.040402288885038, -7.687781918023146, -0.7019386878044116, -1.8338879841393294, 2.365196078431381, -8.398364920104033, -0.9090909090909044, -0.7255358384473465, -0.3218668276000879, -0.11010790574762643, -1.9100236779794915, -1.6310865915087545, -1.0212765957446792, 0.360581847981969, -0.33411293017040233, 2.3005776486694, -0.38927335640138344, 2.1299151888974635, -4.048307535295111, 0.5180784001159567, -1.3624618275781026, 0.0, 0.454626493136036, -2.0537124802527797, -1.804108365585013, -3.8693541268206495, 0.5630918863578164, -2.2689382098572417, -4.896200548374461, -4.8070175438596525, -1.2101779064956721, -1.2873185428649654, -0.8883248730964503, -1.0746837165011647, 0.620337652139766, -0.9688829650894482, -5.295315682281048, -2.671598849157423, -1.2239902080783311, -6.165870603560566, -2.8127313101406424, -4.879275653923536, -10.777626193724421, 2.4390243902439073, -9.507923269391164], \"yaxis\": \"y\"}],                        {\"barmode\": \"relative\", \"legend\": {\"title\": {\"text\": \"variable\"}, \"tracegroupgap\": 0}, \"margin\": {\"t\": 60}, \"template\": {\"data\": {\"bar\": [{\"error_x\": {\"color\": \"#2a3f5f\"}, \"error_y\": {\"color\": \"#2a3f5f\"}, \"marker\": {\"line\": {\"color\": \"#E5ECF6\", \"width\": 0.5}}, \"type\": \"bar\"}], \"barpolar\": [{\"marker\": {\"line\": {\"color\": \"#E5ECF6\", \"width\": 0.5}}, \"type\": \"barpolar\"}], \"carpet\": [{\"aaxis\": {\"endlinecolor\": \"#2a3f5f\", \"gridcolor\": \"white\", \"linecolor\": \"white\", \"minorgridcolor\": \"white\", \"startlinecolor\": \"#2a3f5f\"}, \"baxis\": {\"endlinecolor\": \"#2a3f5f\", \"gridcolor\": \"white\", \"linecolor\": \"white\", \"minorgridcolor\": \"white\", \"startlinecolor\": \"#2a3f5f\"}, \"type\": \"carpet\"}], \"choropleth\": [{\"colorbar\": {\"outlinewidth\": 0, \"ticks\": \"\"}, \"type\": \"choropleth\"}], \"contour\": [{\"colorbar\": {\"outlinewidth\": 0, \"ticks\": \"\"}, \"colorscale\": [[0.0, \"#0d0887\"], [0.1111111111111111, \"#46039f\"], [0.2222222222222222, \"#7201a8\"], [0.3333333333333333, \"#9c179e\"], [0.4444444444444444, \"#bd3786\"], [0.5555555555555556, \"#d8576b\"], [0.6666666666666666, \"#ed7953\"], [0.7777777777777778, \"#fb9f3a\"], [0.8888888888888888, \"#fdca26\"], [1.0, \"#f0f921\"]], \"type\": \"contour\"}], \"contourcarpet\": [{\"colorbar\": {\"outlinewidth\": 0, \"ticks\": \"\"}, \"type\": \"contourcarpet\"}], \"heatmap\": [{\"colorbar\": {\"outlinewidth\": 0, \"ticks\": \"\"}, \"colorscale\": [[0.0, \"#0d0887\"], [0.1111111111111111, \"#46039f\"], [0.2222222222222222, \"#7201a8\"], [0.3333333333333333, \"#9c179e\"], [0.4444444444444444, \"#bd3786\"], [0.5555555555555556, \"#d8576b\"], [0.6666666666666666, \"#ed7953\"], [0.7777777777777778, \"#fb9f3a\"], [0.8888888888888888, \"#fdca26\"], [1.0, \"#f0f921\"]], \"type\": \"heatmap\"}], \"heatmapgl\": [{\"colorbar\": {\"outlinewidth\": 0, \"ticks\": \"\"}, \"colorscale\": [[0.0, \"#0d0887\"], [0.1111111111111111, \"#46039f\"], [0.2222222222222222, \"#7201a8\"], [0.3333333333333333, \"#9c179e\"], [0.4444444444444444, \"#bd3786\"], [0.5555555555555556, \"#d8576b\"], [0.6666666666666666, \"#ed7953\"], [0.7777777777777778, \"#fb9f3a\"], [0.8888888888888888, \"#fdca26\"], [1.0, \"#f0f921\"]], \"type\": \"heatmapgl\"}], \"histogram\": [{\"marker\": {\"colorbar\": {\"outlinewidth\": 0, \"ticks\": \"\"}}, \"type\": \"histogram\"}], \"histogram2d\": [{\"colorbar\": {\"outlinewidth\": 0, \"ticks\": \"\"}, \"colorscale\": [[0.0, \"#0d0887\"], [0.1111111111111111, \"#46039f\"], [0.2222222222222222, \"#7201a8\"], [0.3333333333333333, \"#9c179e\"], [0.4444444444444444, \"#bd3786\"], [0.5555555555555556, \"#d8576b\"], [0.6666666666666666, \"#ed7953\"], [0.7777777777777778, \"#fb9f3a\"], [0.8888888888888888, \"#fdca26\"], [1.0, \"#f0f921\"]], \"type\": \"histogram2d\"}], \"histogram2dcontour\": [{\"colorbar\": {\"outlinewidth\": 0, \"ticks\": \"\"}, \"colorscale\": [[0.0, \"#0d0887\"], [0.1111111111111111, \"#46039f\"], [0.2222222222222222, \"#7201a8\"], [0.3333333333333333, \"#9c179e\"], [0.4444444444444444, \"#bd3786\"], [0.5555555555555556, \"#d8576b\"], [0.6666666666666666, \"#ed7953\"], [0.7777777777777778, \"#fb9f3a\"], [0.8888888888888888, \"#fdca26\"], [1.0, \"#f0f921\"]], \"type\": \"histogram2dcontour\"}], \"mesh3d\": [{\"colorbar\": {\"outlinewidth\": 0, \"ticks\": \"\"}, \"type\": \"mesh3d\"}], \"parcoords\": [{\"line\": {\"colorbar\": {\"outlinewidth\": 0, \"ticks\": \"\"}}, \"type\": \"parcoords\"}], \"pie\": [{\"automargin\": true, \"type\": \"pie\"}], \"scatter\": [{\"marker\": {\"colorbar\": {\"outlinewidth\": 0, \"ticks\": \"\"}}, \"type\": \"scatter\"}], \"scatter3d\": [{\"line\": {\"colorbar\": {\"outlinewidth\": 0, \"ticks\": \"\"}}, \"marker\": {\"colorbar\": {\"outlinewidth\": 0, \"ticks\": \"\"}}, \"type\": \"scatter3d\"}], \"scattercarpet\": [{\"marker\": {\"colorbar\": {\"outlinewidth\": 0, \"ticks\": \"\"}}, \"type\": \"scattercarpet\"}], \"scattergeo\": [{\"marker\": {\"colorbar\": {\"outlinewidth\": 0, \"ticks\": \"\"}}, \"type\": \"scattergeo\"}], \"scattergl\": [{\"marker\": {\"colorbar\": {\"outlinewidth\": 0, \"ticks\": \"\"}}, \"type\": \"scattergl\"}], \"scattermapbox\": [{\"marker\": {\"colorbar\": {\"outlinewidth\": 0, \"ticks\": \"\"}}, \"type\": \"scattermapbox\"}], \"scatterpolar\": [{\"marker\": {\"colorbar\": {\"outlinewidth\": 0, \"ticks\": \"\"}}, \"type\": \"scatterpolar\"}], \"scatterpolargl\": [{\"marker\": {\"colorbar\": {\"outlinewidth\": 0, \"ticks\": \"\"}}, \"type\": \"scatterpolargl\"}], \"scatterternary\": [{\"marker\": {\"colorbar\": {\"outlinewidth\": 0, \"ticks\": \"\"}}, \"type\": \"scatterternary\"}], \"surface\": [{\"colorbar\": {\"outlinewidth\": 0, \"ticks\": \"\"}, \"colorscale\": [[0.0, \"#0d0887\"], [0.1111111111111111, \"#46039f\"], [0.2222222222222222, \"#7201a8\"], [0.3333333333333333, \"#9c179e\"], [0.4444444444444444, \"#bd3786\"], [0.5555555555555556, \"#d8576b\"], [0.6666666666666666, \"#ed7953\"], [0.7777777777777778, \"#fb9f3a\"], [0.8888888888888888, \"#fdca26\"], [1.0, \"#f0f921\"]], \"type\": \"surface\"}], \"table\": [{\"cells\": {\"fill\": {\"color\": \"#EBF0F8\"}, \"line\": {\"color\": \"white\"}}, \"header\": {\"fill\": {\"color\": \"#C8D4E3\"}, \"line\": {\"color\": \"white\"}}, \"type\": \"table\"}]}, \"layout\": {\"annotationdefaults\": {\"arrowcolor\": \"#2a3f5f\", \"arrowhead\": 0, \"arrowwidth\": 1}, \"autotypenumbers\": \"strict\", \"coloraxis\": {\"colorbar\": {\"outlinewidth\": 0, \"ticks\": \"\"}}, \"colorscale\": {\"diverging\": [[0, \"#8e0152\"], [0.1, \"#c51b7d\"], [0.2, \"#de77ae\"], [0.3, \"#f1b6da\"], [0.4, \"#fde0ef\"], [0.5, \"#f7f7f7\"], [0.6, \"#e6f5d0\"], [0.7, \"#b8e186\"], [0.8, \"#7fbc41\"], [0.9, \"#4d9221\"], [1, \"#276419\"]], \"sequential\": [[0.0, \"#0d0887\"], [0.1111111111111111, \"#46039f\"], [0.2222222222222222, \"#7201a8\"], [0.3333333333333333, \"#9c179e\"], [0.4444444444444444, \"#bd3786\"], [0.5555555555555556, \"#d8576b\"], [0.6666666666666666, \"#ed7953\"], [0.7777777777777778, \"#fb9f3a\"], [0.8888888888888888, \"#fdca26\"], [1.0, \"#f0f921\"]], \"sequentialminus\": [[0.0, \"#0d0887\"], [0.1111111111111111, \"#46039f\"], [0.2222222222222222, \"#7201a8\"], [0.3333333333333333, \"#9c179e\"], [0.4444444444444444, \"#bd3786\"], [0.5555555555555556, \"#d8576b\"], [0.6666666666666666, \"#ed7953\"], [0.7777777777777778, \"#fb9f3a\"], [0.8888888888888888, \"#fdca26\"], [1.0, \"#f0f921\"]]}, \"colorway\": [\"#636efa\", \"#EF553B\", \"#00cc96\", \"#ab63fa\", \"#FFA15A\", \"#19d3f3\", \"#FF6692\", \"#B6E880\", \"#FF97FF\", \"#FECB52\"], \"font\": {\"color\": \"#2a3f5f\"}, \"geo\": {\"bgcolor\": \"white\", \"lakecolor\": \"white\", \"landcolor\": \"#E5ECF6\", \"showlakes\": true, \"showland\": true, \"subunitcolor\": \"white\"}, \"hoverlabel\": {\"align\": \"left\"}, \"hovermode\": \"closest\", \"mapbox\": {\"style\": \"light\"}, \"paper_bgcolor\": \"white\", \"plot_bgcolor\": \"#E5ECF6\", \"polar\": {\"angularaxis\": {\"gridcolor\": \"white\", \"linecolor\": \"white\", \"ticks\": \"\"}, \"bgcolor\": \"#E5ECF6\", \"radialaxis\": {\"gridcolor\": \"white\", \"linecolor\": \"white\", \"ticks\": \"\"}}, \"scene\": {\"xaxis\": {\"backgroundcolor\": \"#E5ECF6\", \"gridcolor\": \"white\", \"gridwidth\": 2, \"linecolor\": \"white\", \"showbackground\": true, \"ticks\": \"\", \"zerolinecolor\": \"white\"}, \"yaxis\": {\"backgroundcolor\": \"#E5ECF6\", \"gridcolor\": \"white\", \"gridwidth\": 2, \"linecolor\": \"white\", \"showbackground\": true, \"ticks\": \"\", \"zerolinecolor\": \"white\"}, \"zaxis\": {\"backgroundcolor\": \"#E5ECF6\", \"gridcolor\": \"white\", \"gridwidth\": 2, \"linecolor\": \"white\", \"showbackground\": true, \"ticks\": \"\", \"zerolinecolor\": \"white\"}}, \"shapedefaults\": {\"line\": {\"color\": \"#2a3f5f\"}}, \"ternary\": {\"aaxis\": {\"gridcolor\": \"white\", \"linecolor\": \"white\", \"ticks\": \"\"}, \"baxis\": {\"gridcolor\": \"white\", \"linecolor\": \"white\", \"ticks\": \"\"}, \"bgcolor\": \"#E5ECF6\", \"caxis\": {\"gridcolor\": \"white\", \"linecolor\": \"white\", \"ticks\": \"\"}}, \"title\": {\"x\": 0.05}, \"xaxis\": {\"automargin\": true, \"gridcolor\": \"white\", \"linecolor\": \"white\", \"ticks\": \"\", \"title\": {\"standoff\": 15}, \"zerolinecolor\": \"white\", \"zerolinewidth\": 2}, \"yaxis\": {\"automargin\": true, \"gridcolor\": \"white\", \"linecolor\": \"white\", \"ticks\": \"\", \"title\": {\"standoff\": 15}, \"zerolinecolor\": \"white\", \"zerolinewidth\": 2}}}, \"xaxis\": {\"anchor\": \"y\", \"domain\": [0.0, 1.0], \"title\": {\"text\": \"ticker\"}}, \"yaxis\": {\"anchor\": \"x\", \"domain\": [0.0, 1.0], \"title\": {\"text\": \"value\"}}},                        {\"responsive\": true}                    ).then(function(){\n",
       "                            \n",
       "var gd = document.getElementById('90d110b2-554c-4e33-8b15-6862623248e7');\n",
       "var x = new MutationObserver(function (mutations, observer) {{\n",
       "        var display = window.getComputedStyle(gd).display;\n",
       "        if (!display || display === 'none') {{\n",
       "            console.log([gd, 'removed!']);\n",
       "            Plotly.purge(gd);\n",
       "            observer.disconnect();\n",
       "        }}\n",
       "}});\n",
       "\n",
       "// Listen for the removal of the full notebook cells\n",
       "var notebookContainer = gd.closest('#notebook-container');\n",
       "if (notebookContainer) {{\n",
       "    x.observe(notebookContainer, {childList: true});\n",
       "}}\n",
       "\n",
       "// Listen for the clearing of the current output cell\n",
       "var outputEl = gd.closest('.output');\n",
       "if (outputEl) {{\n",
       "    x.observe(outputEl, {childList: true});\n",
       "}}\n",
       "\n",
       "                        })                };                });            </script>        </div>"
      ]
     },
     "metadata": {},
     "output_type": "display_data"
    }
   ],
   "source": [
    "import plotly.express as px\n",
    "fig1=px.treemap(data_out.loc[data_out['value new']>0], path=['ticker'], values='value new',\n",
    "               color='delta price %',\n",
    "               color_continuous_scale=['red','white','green'],\n",
    "               color_continuous_midpoint=0)\n",
    "fig1.show()\n",
    "\n",
    "fig2=px.bar(data_out,x='ticker',y=['delta price %'])\n",
    "fig2.show()"
   ]
  },
  {
   "cell_type": "code",
   "execution_count": 38,
   "metadata": {},
   "outputs": [
    {
     "data": {
      "application/vnd.plotly.v1+json": {
       "config": {
        "plotlyServerURL": "https://plot.ly"
       },
       "data": [
        {
         "branchvalues": "total",
         "customdata": [
          [
           0.7835932663697907
          ],
          [
           0.42295730845349166
          ],
          [
           0
          ],
          [
           0
          ],
          [
           0
          ],
          [
           0.42345848352419535
          ],
          [
           0
          ],
          [
           0.42325600999132634
          ],
          [
           0.4233580436584372
          ],
          [
           0.42349010987653224
          ],
          [
           0.4233552365707575
          ],
          [
           0.42330538378012383
          ],
          [
           0
          ],
          [
           46.20511784034802
          ],
          [
           0
          ],
          [
           0.42342311747755124
          ],
          [
           0.6332621864122118
          ],
          [
           0
          ],
          [
           0
          ],
          [
           0
          ],
          [
           0
          ],
          [
           0
          ],
          [
           0.42336548525948264
          ],
          [
           0
          ],
          [
           0.42338307137358455
          ],
          [
           0.4234868264972369
          ],
          [
           0.4234705021336524
          ],
          [
           0.4229859991634277
          ],
          [
           5.476727661631775
          ],
          [
           0.4231085658115457
          ],
          [
           0.4235627219137576
          ],
          [
           0.42370952618142516
          ],
          [
           0.42340403940734656
          ],
          [
           0
          ],
          [
           0
          ],
          [
           15.334144977462051
          ],
          [
           0.42323528675146
          ],
          [
           0
          ],
          [
           0.42336873567827377
          ],
          [
           0.42365622691764304
          ],
          [
           0.4236334186848968
          ],
          [
           0
          ],
          [
           0.42342450597460174
          ],
          [
           0.4237133078720155
          ],
          [
           0
          ],
          [
           -0.1765157125527888
          ],
          [
           0.42349290201702067
          ],
          [
           0.4232789227303263
          ]
         ],
         "domain": {
          "x": [
           0,
           1
          ],
          "y": [
           0,
           1
          ]
         },
         "hovertemplate": "labels=%{label}<br>value new=%{value}<br>parent=%{parent}<br>id=%{id}<br>delta shares %=%{color}<extra></extra>",
         "ids": [
          "BEKE",
          "BIDU",
          "CERS",
          "CGEN",
          "CRSP",
          "DOCU",
          "EDIT",
          "EXAS",
          "HUYA",
          "ICE",
          "IOVA",
          "IRDM",
          "MCRB",
          "MORGA",
          "MTLS",
          "NSTG",
          "NTDOY",
          "NTLA",
          "NVTA",
          "ONVO ",
          "PACB",
          "PD",
          "PINS",
          "PRLB",
          "PSTG",
          "PYPL",
          "ROKU",
          "SE",
          "SHOP",
          "SNPS",
          "SPLK",
          "SPOT",
          "SQ",
          "SSYS",
          "SYRS",
          "TCEHY",
          "TDOC",
          "TREE UW",
          "TSLA",
          "TSM",
          "TWLO",
          "TWOU",
          "TWST",
          "U",
          "VCYT",
          "XONE",
          "Z",
          "ZM"
         ],
         "labels": [
          "BEKE",
          "BIDU",
          "CERS",
          "CGEN",
          "CRSP",
          "DOCU",
          "EDIT",
          "EXAS",
          "HUYA",
          "ICE",
          "IOVA",
          "IRDM",
          "MCRB",
          "MORGA",
          "MTLS",
          "NSTG",
          "NTDOY",
          "NTLA",
          "NVTA",
          "ONVO ",
          "PACB",
          "PD",
          "PINS",
          "PRLB",
          "PSTG",
          "PYPL",
          "ROKU",
          "SE",
          "SHOP",
          "SNPS",
          "SPLK",
          "SPOT",
          "SQ",
          "SSYS",
          "SYRS",
          "TCEHY",
          "TDOC",
          "TREE UW",
          "TSLA",
          "TSM",
          "TWLO",
          "TWOU",
          "TWST",
          "U",
          "VCYT",
          "XONE",
          "Z",
          "ZM"
         ],
         "marker": {
          "coloraxis": "coloraxis",
          "colors": [
           0.7835932663697907,
           0.42295730845349166,
           0,
           0,
           0,
           0.42345848352419535,
           0,
           0.42325600999132634,
           0.4233580436584372,
           0.42349010987653224,
           0.4233552365707575,
           0.42330538378012383,
           0,
           46.20511784034802,
           0,
           0.42342311747755124,
           0.6332621864122118,
           0,
           0,
           0,
           0,
           0,
           0.42336548525948264,
           0,
           0.42338307137358455,
           0.4234868264972369,
           0.4234705021336524,
           0.4229859991634277,
           5.476727661631775,
           0.4231085658115457,
           0.4235627219137576,
           0.42370952618142516,
           0.42340403940734656,
           0,
           0,
           15.334144977462051,
           0.42323528675146,
           0,
           0.42336873567827377,
           0.42365622691764304,
           0.4236334186848968,
           0,
           0.42342450597460174,
           0.4237133078720155,
           0,
           -0.1765157125527888,
           0.42349290201702067,
           0.4232789227303263
          ]
         },
         "name": "",
         "parents": [
          "",
          "",
          "",
          "",
          "",
          "",
          "",
          "",
          "",
          "",
          "",
          "",
          "",
          "",
          "",
          "",
          "",
          "",
          "",
          "",
          "",
          "",
          "",
          "",
          "",
          "",
          "",
          "",
          "",
          "",
          "",
          "",
          "",
          "",
          "",
          "",
          "",
          "",
          "",
          "",
          "",
          "",
          "",
          "",
          "",
          "",
          "",
          ""
         ],
         "type": "treemap",
         "values": [
          247325294.7,
          203548619.76,
          155089332.63,
          143644615.92,
          1084173821,
          370119601.32,
          570112714.85,
          379072034.64,
          118365443.1,
          293092603.75,
          428491751.2,
          184873751.15,
          206408431.88,
          305798864.05,
          341601190.85,
          176333637.6,
          217292244.88,
          413518521.78,
          828360736.02,
          13330925.16,
          206668282.39,
          350697753.98,
          158330755.2,
          559129294.5,
          527198357.62,
          364665068.08,
          1319649234,
          165109400.56,
          352926475.12,
          168612506.44,
          190207587.2,
          507153037.18,
          980433836.72,
          153582658.98,
          66675888.6,
          160102685.25,
          808803849.25,
          342421298.85,
          1876133170.71,
          346644613.26,
          416001640.32,
          340990082.55,
          409906268.76,
          257977264.44,
          280798322.4,
          8160762.4,
          584665121.44,
          212554439.35
         ]
        }
       ],
       "layout": {
        "autosize": true,
        "coloraxis": {
         "cmid": 0,
         "colorbar": {
          "title": {
           "text": "delta shares %"
          }
         },
         "colorscale": [
          [
           0,
           "red"
          ],
          [
           0.5,
           "white"
          ],
          [
           1,
           "green"
          ]
         ]
        },
        "legend": {
         "tracegroupgap": 0
        },
        "margin": {
         "t": 60
        },
        "template": {
         "data": {
          "bar": [
           {
            "error_x": {
             "color": "#2a3f5f"
            },
            "error_y": {
             "color": "#2a3f5f"
            },
            "marker": {
             "line": {
              "color": "#E5ECF6",
              "width": 0.5
             }
            },
            "type": "bar"
           }
          ],
          "barpolar": [
           {
            "marker": {
             "line": {
              "color": "#E5ECF6",
              "width": 0.5
             }
            },
            "type": "barpolar"
           }
          ],
          "carpet": [
           {
            "aaxis": {
             "endlinecolor": "#2a3f5f",
             "gridcolor": "white",
             "linecolor": "white",
             "minorgridcolor": "white",
             "startlinecolor": "#2a3f5f"
            },
            "baxis": {
             "endlinecolor": "#2a3f5f",
             "gridcolor": "white",
             "linecolor": "white",
             "minorgridcolor": "white",
             "startlinecolor": "#2a3f5f"
            },
            "type": "carpet"
           }
          ],
          "choropleth": [
           {
            "colorbar": {
             "outlinewidth": 0,
             "ticks": ""
            },
            "type": "choropleth"
           }
          ],
          "contour": [
           {
            "colorbar": {
             "outlinewidth": 0,
             "ticks": ""
            },
            "colorscale": [
             [
              0,
              "#0d0887"
             ],
             [
              0.1111111111111111,
              "#46039f"
             ],
             [
              0.2222222222222222,
              "#7201a8"
             ],
             [
              0.3333333333333333,
              "#9c179e"
             ],
             [
              0.4444444444444444,
              "#bd3786"
             ],
             [
              0.5555555555555556,
              "#d8576b"
             ],
             [
              0.6666666666666666,
              "#ed7953"
             ],
             [
              0.7777777777777778,
              "#fb9f3a"
             ],
             [
              0.8888888888888888,
              "#fdca26"
             ],
             [
              1,
              "#f0f921"
             ]
            ],
            "type": "contour"
           }
          ],
          "contourcarpet": [
           {
            "colorbar": {
             "outlinewidth": 0,
             "ticks": ""
            },
            "type": "contourcarpet"
           }
          ],
          "heatmap": [
           {
            "colorbar": {
             "outlinewidth": 0,
             "ticks": ""
            },
            "colorscale": [
             [
              0,
              "#0d0887"
             ],
             [
              0.1111111111111111,
              "#46039f"
             ],
             [
              0.2222222222222222,
              "#7201a8"
             ],
             [
              0.3333333333333333,
              "#9c179e"
             ],
             [
              0.4444444444444444,
              "#bd3786"
             ],
             [
              0.5555555555555556,
              "#d8576b"
             ],
             [
              0.6666666666666666,
              "#ed7953"
             ],
             [
              0.7777777777777778,
              "#fb9f3a"
             ],
             [
              0.8888888888888888,
              "#fdca26"
             ],
             [
              1,
              "#f0f921"
             ]
            ],
            "type": "heatmap"
           }
          ],
          "heatmapgl": [
           {
            "colorbar": {
             "outlinewidth": 0,
             "ticks": ""
            },
            "colorscale": [
             [
              0,
              "#0d0887"
             ],
             [
              0.1111111111111111,
              "#46039f"
             ],
             [
              0.2222222222222222,
              "#7201a8"
             ],
             [
              0.3333333333333333,
              "#9c179e"
             ],
             [
              0.4444444444444444,
              "#bd3786"
             ],
             [
              0.5555555555555556,
              "#d8576b"
             ],
             [
              0.6666666666666666,
              "#ed7953"
             ],
             [
              0.7777777777777778,
              "#fb9f3a"
             ],
             [
              0.8888888888888888,
              "#fdca26"
             ],
             [
              1,
              "#f0f921"
             ]
            ],
            "type": "heatmapgl"
           }
          ],
          "histogram": [
           {
            "marker": {
             "colorbar": {
              "outlinewidth": 0,
              "ticks": ""
             }
            },
            "type": "histogram"
           }
          ],
          "histogram2d": [
           {
            "colorbar": {
             "outlinewidth": 0,
             "ticks": ""
            },
            "colorscale": [
             [
              0,
              "#0d0887"
             ],
             [
              0.1111111111111111,
              "#46039f"
             ],
             [
              0.2222222222222222,
              "#7201a8"
             ],
             [
              0.3333333333333333,
              "#9c179e"
             ],
             [
              0.4444444444444444,
              "#bd3786"
             ],
             [
              0.5555555555555556,
              "#d8576b"
             ],
             [
              0.6666666666666666,
              "#ed7953"
             ],
             [
              0.7777777777777778,
              "#fb9f3a"
             ],
             [
              0.8888888888888888,
              "#fdca26"
             ],
             [
              1,
              "#f0f921"
             ]
            ],
            "type": "histogram2d"
           }
          ],
          "histogram2dcontour": [
           {
            "colorbar": {
             "outlinewidth": 0,
             "ticks": ""
            },
            "colorscale": [
             [
              0,
              "#0d0887"
             ],
             [
              0.1111111111111111,
              "#46039f"
             ],
             [
              0.2222222222222222,
              "#7201a8"
             ],
             [
              0.3333333333333333,
              "#9c179e"
             ],
             [
              0.4444444444444444,
              "#bd3786"
             ],
             [
              0.5555555555555556,
              "#d8576b"
             ],
             [
              0.6666666666666666,
              "#ed7953"
             ],
             [
              0.7777777777777778,
              "#fb9f3a"
             ],
             [
              0.8888888888888888,
              "#fdca26"
             ],
             [
              1,
              "#f0f921"
             ]
            ],
            "type": "histogram2dcontour"
           }
          ],
          "mesh3d": [
           {
            "colorbar": {
             "outlinewidth": 0,
             "ticks": ""
            },
            "type": "mesh3d"
           }
          ],
          "parcoords": [
           {
            "line": {
             "colorbar": {
              "outlinewidth": 0,
              "ticks": ""
             }
            },
            "type": "parcoords"
           }
          ],
          "pie": [
           {
            "automargin": true,
            "type": "pie"
           }
          ],
          "scatter": [
           {
            "marker": {
             "colorbar": {
              "outlinewidth": 0,
              "ticks": ""
             }
            },
            "type": "scatter"
           }
          ],
          "scatter3d": [
           {
            "line": {
             "colorbar": {
              "outlinewidth": 0,
              "ticks": ""
             }
            },
            "marker": {
             "colorbar": {
              "outlinewidth": 0,
              "ticks": ""
             }
            },
            "type": "scatter3d"
           }
          ],
          "scattercarpet": [
           {
            "marker": {
             "colorbar": {
              "outlinewidth": 0,
              "ticks": ""
             }
            },
            "type": "scattercarpet"
           }
          ],
          "scattergeo": [
           {
            "marker": {
             "colorbar": {
              "outlinewidth": 0,
              "ticks": ""
             }
            },
            "type": "scattergeo"
           }
          ],
          "scattergl": [
           {
            "marker": {
             "colorbar": {
              "outlinewidth": 0,
              "ticks": ""
             }
            },
            "type": "scattergl"
           }
          ],
          "scattermapbox": [
           {
            "marker": {
             "colorbar": {
              "outlinewidth": 0,
              "ticks": ""
             }
            },
            "type": "scattermapbox"
           }
          ],
          "scatterpolar": [
           {
            "marker": {
             "colorbar": {
              "outlinewidth": 0,
              "ticks": ""
             }
            },
            "type": "scatterpolar"
           }
          ],
          "scatterpolargl": [
           {
            "marker": {
             "colorbar": {
              "outlinewidth": 0,
              "ticks": ""
             }
            },
            "type": "scatterpolargl"
           }
          ],
          "scatterternary": [
           {
            "marker": {
             "colorbar": {
              "outlinewidth": 0,
              "ticks": ""
             }
            },
            "type": "scatterternary"
           }
          ],
          "surface": [
           {
            "colorbar": {
             "outlinewidth": 0,
             "ticks": ""
            },
            "colorscale": [
             [
              0,
              "#0d0887"
             ],
             [
              0.1111111111111111,
              "#46039f"
             ],
             [
              0.2222222222222222,
              "#7201a8"
             ],
             [
              0.3333333333333333,
              "#9c179e"
             ],
             [
              0.4444444444444444,
              "#bd3786"
             ],
             [
              0.5555555555555556,
              "#d8576b"
             ],
             [
              0.6666666666666666,
              "#ed7953"
             ],
             [
              0.7777777777777778,
              "#fb9f3a"
             ],
             [
              0.8888888888888888,
              "#fdca26"
             ],
             [
              1,
              "#f0f921"
             ]
            ],
            "type": "surface"
           }
          ],
          "table": [
           {
            "cells": {
             "fill": {
              "color": "#EBF0F8"
             },
             "line": {
              "color": "white"
             }
            },
            "header": {
             "fill": {
              "color": "#C8D4E3"
             },
             "line": {
              "color": "white"
             }
            },
            "type": "table"
           }
          ]
         },
         "layout": {
          "annotationdefaults": {
           "arrowcolor": "#2a3f5f",
           "arrowhead": 0,
           "arrowwidth": 1
          },
          "autotypenumbers": "strict",
          "coloraxis": {
           "colorbar": {
            "outlinewidth": 0,
            "ticks": ""
           }
          },
          "colorscale": {
           "diverging": [
            [
             0,
             "#8e0152"
            ],
            [
             0.1,
             "#c51b7d"
            ],
            [
             0.2,
             "#de77ae"
            ],
            [
             0.3,
             "#f1b6da"
            ],
            [
             0.4,
             "#fde0ef"
            ],
            [
             0.5,
             "#f7f7f7"
            ],
            [
             0.6,
             "#e6f5d0"
            ],
            [
             0.7,
             "#b8e186"
            ],
            [
             0.8,
             "#7fbc41"
            ],
            [
             0.9,
             "#4d9221"
            ],
            [
             1,
             "#276419"
            ]
           ],
           "sequential": [
            [
             0,
             "#0d0887"
            ],
            [
             0.1111111111111111,
             "#46039f"
            ],
            [
             0.2222222222222222,
             "#7201a8"
            ],
            [
             0.3333333333333333,
             "#9c179e"
            ],
            [
             0.4444444444444444,
             "#bd3786"
            ],
            [
             0.5555555555555556,
             "#d8576b"
            ],
            [
             0.6666666666666666,
             "#ed7953"
            ],
            [
             0.7777777777777778,
             "#fb9f3a"
            ],
            [
             0.8888888888888888,
             "#fdca26"
            ],
            [
             1,
             "#f0f921"
            ]
           ],
           "sequentialminus": [
            [
             0,
             "#0d0887"
            ],
            [
             0.1111111111111111,
             "#46039f"
            ],
            [
             0.2222222222222222,
             "#7201a8"
            ],
            [
             0.3333333333333333,
             "#9c179e"
            ],
            [
             0.4444444444444444,
             "#bd3786"
            ],
            [
             0.5555555555555556,
             "#d8576b"
            ],
            [
             0.6666666666666666,
             "#ed7953"
            ],
            [
             0.7777777777777778,
             "#fb9f3a"
            ],
            [
             0.8888888888888888,
             "#fdca26"
            ],
            [
             1,
             "#f0f921"
            ]
           ]
          },
          "colorway": [
           "#636efa",
           "#EF553B",
           "#00cc96",
           "#ab63fa",
           "#FFA15A",
           "#19d3f3",
           "#FF6692",
           "#B6E880",
           "#FF97FF",
           "#FECB52"
          ],
          "font": {
           "color": "#2a3f5f"
          },
          "geo": {
           "bgcolor": "white",
           "lakecolor": "white",
           "landcolor": "#E5ECF6",
           "showlakes": true,
           "showland": true,
           "subunitcolor": "white"
          },
          "hoverlabel": {
           "align": "left"
          },
          "hovermode": "closest",
          "mapbox": {
           "style": "light"
          },
          "paper_bgcolor": "white",
          "plot_bgcolor": "#E5ECF6",
          "polar": {
           "angularaxis": {
            "gridcolor": "white",
            "linecolor": "white",
            "ticks": ""
           },
           "bgcolor": "#E5ECF6",
           "radialaxis": {
            "gridcolor": "white",
            "linecolor": "white",
            "ticks": ""
           }
          },
          "scene": {
           "xaxis": {
            "backgroundcolor": "#E5ECF6",
            "gridcolor": "white",
            "gridwidth": 2,
            "linecolor": "white",
            "showbackground": true,
            "ticks": "",
            "zerolinecolor": "white"
           },
           "yaxis": {
            "backgroundcolor": "#E5ECF6",
            "gridcolor": "white",
            "gridwidth": 2,
            "linecolor": "white",
            "showbackground": true,
            "ticks": "",
            "zerolinecolor": "white"
           },
           "zaxis": {
            "backgroundcolor": "#E5ECF6",
            "gridcolor": "white",
            "gridwidth": 2,
            "linecolor": "white",
            "showbackground": true,
            "ticks": "",
            "zerolinecolor": "white"
           }
          },
          "shapedefaults": {
           "line": {
            "color": "#2a3f5f"
           }
          },
          "ternary": {
           "aaxis": {
            "gridcolor": "white",
            "linecolor": "white",
            "ticks": ""
           },
           "baxis": {
            "gridcolor": "white",
            "linecolor": "white",
            "ticks": ""
           },
           "bgcolor": "#E5ECF6",
           "caxis": {
            "gridcolor": "white",
            "linecolor": "white",
            "ticks": ""
           }
          },
          "title": {
           "x": 0.05
          },
          "xaxis": {
           "automargin": true,
           "gridcolor": "white",
           "linecolor": "white",
           "ticks": "",
           "title": {
            "standoff": 15
           },
           "zerolinecolor": "white",
           "zerolinewidth": 2
          },
          "yaxis": {
           "automargin": true,
           "gridcolor": "white",
           "linecolor": "white",
           "ticks": "",
           "title": {
            "standoff": 15
           },
           "zerolinecolor": "white",
           "zerolinewidth": 2
          }
         }
        }
       }
      },
      "image/png": "[encoded data removed]",
      "text/html": [
       "<div>                            <div id=\"fd97dee0-1ed5-4531-b95b-c7daa633cefd\" class=\"plotly-graph-div\" style=\"height:525px; width:100%;\"></div>            <script type=\"text/javascript\">                require([\"plotly\"], function(Plotly) {                    window.PLOTLYENV=window.PLOTLYENV || {};                                    if (document.getElementById(\"fd97dee0-1ed5-4531-b95b-c7daa633cefd\")) {                    Plotly.newPlot(                        \"fd97dee0-1ed5-4531-b95b-c7daa633cefd\",                        [{\"branchvalues\": \"total\", \"customdata\": [[0.7835932663697907], [0.42295730845349166], [0.0], [0.0], [0.0], [0.42345848352419535], [0.0], [0.42325600999132634], [0.4233580436584372], [0.42349010987653224], [0.4233552365707575], [0.42330538378012383], [0.0], [46.20511784034802], [0.0], [0.42342311747755124], [0.6332621864122118], [0.0], [0.0], [0.0], [0.0], [0.0], [0.42336548525948264], [0.0], [0.42338307137358455], [0.4234868264972369], [0.4234705021336524], [0.4229859991634277], [5.476727661631775], [0.4231085658115457], [0.4235627219137576], [0.42370952618142516], [0.42340403940734656], [0.0], [0.0], [15.334144977462051], [0.42323528675146], [0.0], [0.42336873567827377], [0.42365622691764304], [0.4236334186848968], [0.0], [0.42342450597460174], [0.4237133078720155], [0.0], [-0.1765157125527888], [0.42349290201702067], [0.4232789227303263]], \"domain\": {\"x\": [0.0, 1.0], \"y\": [0.0, 1.0]}, \"hovertemplate\": \"labels=%{label}<br>value new=%{value}<br>parent=%{parent}<br>id=%{id}<br>delta shares %=%{color}<extra></extra>\", \"ids\": [\"BEKE\", \"BIDU\", \"CERS\", \"CGEN\", \"CRSP\", \"DOCU\", \"EDIT\", \"EXAS\", \"HUYA\", \"ICE\", \"IOVA\", \"IRDM\", \"MCRB\", \"MORGA\", \"MTLS\", \"NSTG\", \"NTDOY\", \"NTLA\", \"NVTA\", \"ONVO \", \"PACB\", \"PD\", \"PINS\", \"PRLB\", \"PSTG\", \"PYPL\", \"ROKU\", \"SE\", \"SHOP\", \"SNPS\", \"SPLK\", \"SPOT\", \"SQ\", \"SSYS\", \"SYRS\", \"TCEHY\", \"TDOC\", \"TREE UW\", \"TSLA\", \"TSM\", \"TWLO\", \"TWOU\", \"TWST\", \"U\", \"VCYT\", \"XONE\", \"Z\", \"ZM\"], \"labels\": [\"BEKE\", \"BIDU\", \"CERS\", \"CGEN\", \"CRSP\", \"DOCU\", \"EDIT\", \"EXAS\", \"HUYA\", \"ICE\", \"IOVA\", \"IRDM\", \"MCRB\", \"MORGA\", \"MTLS\", \"NSTG\", \"NTDOY\", \"NTLA\", \"NVTA\", \"ONVO \", \"PACB\", \"PD\", \"PINS\", \"PRLB\", \"PSTG\", \"PYPL\", \"ROKU\", \"SE\", \"SHOP\", \"SNPS\", \"SPLK\", \"SPOT\", \"SQ\", \"SSYS\", \"SYRS\", \"TCEHY\", \"TDOC\", \"TREE UW\", \"TSLA\", \"TSM\", \"TWLO\", \"TWOU\", \"TWST\", \"U\", \"VCYT\", \"XONE\", \"Z\", \"ZM\"], \"marker\": {\"coloraxis\": \"coloraxis\", \"colors\": [0.7835932663697907, 0.42295730845349166, 0.0, 0.0, 0.0, 0.42345848352419535, 0.0, 0.42325600999132634, 0.4233580436584372, 0.42349010987653224, 0.4233552365707575, 0.42330538378012383, 0.0, 46.20511784034802, 0.0, 0.42342311747755124, 0.6332621864122118, 0.0, 0.0, 0.0, 0.0, 0.0, 0.42336548525948264, 0.0, 0.42338307137358455, 0.4234868264972369, 0.4234705021336524, 0.4229859991634277, 5.476727661631775, 0.4231085658115457, 0.4235627219137576, 0.42370952618142516, 0.42340403940734656, 0.0, 0.0, 15.334144977462051, 0.42323528675146, 0.0, 0.42336873567827377, 0.42365622691764304, 0.4236334186848968, 0.0, 0.42342450597460174, 0.4237133078720155, 0.0, -0.1765157125527888, 0.42349290201702067, 0.4232789227303263]}, \"name\": \"\", \"parents\": [\"\", \"\", \"\", \"\", \"\", \"\", \"\", \"\", \"\", \"\", \"\", \"\", \"\", \"\", \"\", \"\", \"\", \"\", \"\", \"\", \"\", \"\", \"\", \"\", \"\", \"\", \"\", \"\", \"\", \"\", \"\", \"\", \"\", \"\", \"\", \"\", \"\", \"\", \"\", \"\", \"\", \"\", \"\", \"\", \"\", \"\", \"\", \"\"], \"type\": \"treemap\", \"values\": [247325294.7, 203548619.76, 155089332.63, 143644615.92, 1084173821.0, 370119601.32, 570112714.85, 379072034.64, 118365443.1, 293092603.75, 428491751.2, 184873751.15, 206408431.88, 305798864.05, 341601190.85, 176333637.6, 217292244.88, 413518521.78, 828360736.02, 13330925.16, 206668282.39, 350697753.98, 158330755.2, 559129294.5, 527198357.62, 364665068.08, 1319649234.0, 165109400.56, 352926475.12, 168612506.44, 190207587.2, 507153037.18, 980433836.72, 153582658.98, 66675888.6, 160102685.25, 808803849.25, 342421298.85, 1876133170.71, 346644613.26, 416001640.32, 340990082.55, 409906268.76, 257977264.44, 280798322.4, 8160762.4, 584665121.44, 212554439.35]}],                        {\"coloraxis\": {\"cmid\": 0, \"colorbar\": {\"title\": {\"text\": \"delta shares %\"}}, \"colorscale\": [[0.0, \"red\"], [0.5, \"white\"], [1.0, \"green\"]]}, \"legend\": {\"tracegroupgap\": 0}, \"margin\": {\"t\": 60}, \"template\": {\"data\": {\"bar\": [{\"error_x\": {\"color\": \"#2a3f5f\"}, \"error_y\": {\"color\": \"#2a3f5f\"}, \"marker\": {\"line\": {\"color\": \"#E5ECF6\", \"width\": 0.5}}, \"type\": \"bar\"}], \"barpolar\": [{\"marker\": {\"line\": {\"color\": \"#E5ECF6\", \"width\": 0.5}}, \"type\": \"barpolar\"}], \"carpet\": [{\"aaxis\": {\"endlinecolor\": \"#2a3f5f\", \"gridcolor\": \"white\", \"linecolor\": \"white\", \"minorgridcolor\": \"white\", \"startlinecolor\": \"#2a3f5f\"}, \"baxis\": {\"endlinecolor\": \"#2a3f5f\", \"gridcolor\": \"white\", \"linecolor\": \"white\", \"minorgridcolor\": \"white\", \"startlinecolor\": \"#2a3f5f\"}, \"type\": \"carpet\"}], \"choropleth\": [{\"colorbar\": {\"outlinewidth\": 0, \"ticks\": \"\"}, \"type\": \"choropleth\"}], \"contour\": [{\"colorbar\": {\"outlinewidth\": 0, \"ticks\": \"\"}, \"colorscale\": [[0.0, \"#0d0887\"], [0.1111111111111111, \"#46039f\"], [0.2222222222222222, \"#7201a8\"], [0.3333333333333333, \"#9c179e\"], [0.4444444444444444, \"#bd3786\"], [0.5555555555555556, \"#d8576b\"], [0.6666666666666666, \"#ed7953\"], [0.7777777777777778, \"#fb9f3a\"], [0.8888888888888888, \"#fdca26\"], [1.0, \"#f0f921\"]], \"type\": \"contour\"}], \"contourcarpet\": [{\"colorbar\": {\"outlinewidth\": 0, \"ticks\": \"\"}, \"type\": \"contourcarpet\"}], \"heatmap\": [{\"colorbar\": {\"outlinewidth\": 0, \"ticks\": \"\"}, \"colorscale\": [[0.0, \"#0d0887\"], [0.1111111111111111, \"#46039f\"], [0.2222222222222222, \"#7201a8\"], [0.3333333333333333, \"#9c179e\"], [0.4444444444444444, \"#bd3786\"], [0.5555555555555556, \"#d8576b\"], [0.6666666666666666, \"#ed7953\"], [0.7777777777777778, \"#fb9f3a\"], [0.8888888888888888, \"#fdca26\"], [1.0, \"#f0f921\"]], \"type\": \"heatmap\"}], \"heatmapgl\": [{\"colorbar\": {\"outlinewidth\": 0, \"ticks\": \"\"}, \"colorscale\": [[0.0, \"#0d0887\"], [0.1111111111111111, \"#46039f\"], [0.2222222222222222, \"#7201a8\"], [0.3333333333333333, \"#9c179e\"], [0.4444444444444444, \"#bd3786\"], [0.5555555555555556, \"#d8576b\"], [0.6666666666666666, \"#ed7953\"], [0.7777777777777778, \"#fb9f3a\"], [0.8888888888888888, \"#fdca26\"], [1.0, \"#f0f921\"]], \"type\": \"heatmapgl\"}], \"histogram\": [{\"marker\": {\"colorbar\": {\"outlinewidth\": 0, \"ticks\": \"\"}}, \"type\": \"histogram\"}], \"histogram2d\": [{\"colorbar\": {\"outlinewidth\": 0, \"ticks\": \"\"}, \"colorscale\": [[0.0, \"#0d0887\"], [0.1111111111111111, \"#46039f\"], [0.2222222222222222, \"#7201a8\"], [0.3333333333333333, \"#9c179e\"], [0.4444444444444444, \"#bd3786\"], [0.5555555555555556, \"#d8576b\"], [0.6666666666666666, \"#ed7953\"], [0.7777777777777778, \"#fb9f3a\"], [0.8888888888888888, \"#fdca26\"], [1.0, \"#f0f921\"]], \"type\": \"histogram2d\"}], \"histogram2dcontour\": [{\"colorbar\": {\"outlinewidth\": 0, \"ticks\": \"\"}, \"colorscale\": [[0.0, \"#0d0887\"], [0.1111111111111111, \"#46039f\"], [0.2222222222222222, \"#7201a8\"], [0.3333333333333333, \"#9c179e\"], [0.4444444444444444, \"#bd3786\"], [0.5555555555555556, \"#d8576b\"], [0.6666666666666666, \"#ed7953\"], [0.7777777777777778, \"#fb9f3a\"], [0.8888888888888888, \"#fdca26\"], [1.0, \"#f0f921\"]], \"type\": \"histogram2dcontour\"}], \"mesh3d\": [{\"colorbar\": {\"outlinewidth\": 0, \"ticks\": \"\"}, \"type\": \"mesh3d\"}], \"parcoords\": [{\"line\": {\"colorbar\": {\"outlinewidth\": 0, \"ticks\": \"\"}}, \"type\": \"parcoords\"}], \"pie\": [{\"automargin\": true, \"type\": \"pie\"}], \"scatter\": [{\"marker\": {\"colorbar\": {\"outlinewidth\": 0, \"ticks\": \"\"}}, \"type\": \"scatter\"}], \"scatter3d\": [{\"line\": {\"colorbar\": {\"outlinewidth\": 0, \"ticks\": \"\"}}, \"marker\": {\"colorbar\": {\"outlinewidth\": 0, \"ticks\": \"\"}}, \"type\": \"scatter3d\"}], \"scattercarpet\": [{\"marker\": {\"colorbar\": {\"outlinewidth\": 0, \"ticks\": \"\"}}, \"type\": \"scattercarpet\"}], \"scattergeo\": [{\"marker\": {\"colorbar\": {\"outlinewidth\": 0, \"ticks\": \"\"}}, \"type\": \"scattergeo\"}], \"scattergl\": [{\"marker\": {\"colorbar\": {\"outlinewidth\": 0, \"ticks\": \"\"}}, \"type\": \"scattergl\"}], \"scattermapbox\": [{\"marker\": {\"colorbar\": {\"outlinewidth\": 0, \"ticks\": \"\"}}, \"type\": \"scattermapbox\"}], \"scatterpolar\": [{\"marker\": {\"colorbar\": {\"outlinewidth\": 0, \"ticks\": \"\"}}, \"type\": \"scatterpolar\"}], \"scatterpolargl\": [{\"marker\": {\"colorbar\": {\"outlinewidth\": 0, \"ticks\": \"\"}}, \"type\": \"scatterpolargl\"}], \"scatterternary\": [{\"marker\": {\"colorbar\": {\"outlinewidth\": 0, \"ticks\": \"\"}}, \"type\": \"scatterternary\"}], \"surface\": [{\"colorbar\": {\"outlinewidth\": 0, \"ticks\": \"\"}, \"colorscale\": [[0.0, \"#0d0887\"], [0.1111111111111111, \"#46039f\"], [0.2222222222222222, \"#7201a8\"], [0.3333333333333333, \"#9c179e\"], [0.4444444444444444, \"#bd3786\"], [0.5555555555555556, \"#d8576b\"], [0.6666666666666666, \"#ed7953\"], [0.7777777777777778, \"#fb9f3a\"], [0.8888888888888888, \"#fdca26\"], [1.0, \"#f0f921\"]], \"type\": \"surface\"}], \"table\": [{\"cells\": {\"fill\": {\"color\": \"#EBF0F8\"}, \"line\": {\"color\": \"white\"}}, \"header\": {\"fill\": {\"color\": \"#C8D4E3\"}, \"line\": {\"color\": \"white\"}}, \"type\": \"table\"}]}, \"layout\": {\"annotationdefaults\": {\"arrowcolor\": \"#2a3f5f\", \"arrowhead\": 0, \"arrowwidth\": 1}, \"autotypenumbers\": \"strict\", \"coloraxis\": {\"colorbar\": {\"outlinewidth\": 0, \"ticks\": \"\"}}, \"colorscale\": {\"diverging\": [[0, \"#8e0152\"], [0.1, \"#c51b7d\"], [0.2, \"#de77ae\"], [0.3, \"#f1b6da\"], [0.4, \"#fde0ef\"], [0.5, \"#f7f7f7\"], [0.6, \"#e6f5d0\"], [0.7, \"#b8e186\"], [0.8, \"#7fbc41\"], [0.9, \"#4d9221\"], [1, \"#276419\"]], \"sequential\": [[0.0, \"#0d0887\"], [0.1111111111111111, \"#46039f\"], [0.2222222222222222, \"#7201a8\"], [0.3333333333333333, \"#9c179e\"], [0.4444444444444444, \"#bd3786\"], [0.5555555555555556, \"#d8576b\"], [0.6666666666666666, \"#ed7953\"], [0.7777777777777778, \"#fb9f3a\"], [0.8888888888888888, \"#fdca26\"], [1.0, \"#f0f921\"]], \"sequentialminus\": [[0.0, \"#0d0887\"], [0.1111111111111111, \"#46039f\"], [0.2222222222222222, \"#7201a8\"], [0.3333333333333333, \"#9c179e\"], [0.4444444444444444, \"#bd3786\"], [0.5555555555555556, \"#d8576b\"], [0.6666666666666666, \"#ed7953\"], [0.7777777777777778, \"#fb9f3a\"], [0.8888888888888888, \"#fdca26\"], [1.0, \"#f0f921\"]]}, \"colorway\": [\"#636efa\", \"#EF553B\", \"#00cc96\", \"#ab63fa\", \"#FFA15A\", \"#19d3f3\", \"#FF6692\", \"#B6E880\", \"#FF97FF\", \"#FECB52\"], \"font\": {\"color\": \"#2a3f5f\"}, \"geo\": {\"bgcolor\": \"white\", \"lakecolor\": \"white\", \"landcolor\": \"#E5ECF6\", \"showlakes\": true, \"showland\": true, \"subunitcolor\": \"white\"}, \"hoverlabel\": {\"align\": \"left\"}, \"hovermode\": \"closest\", \"mapbox\": {\"style\": \"light\"}, \"paper_bgcolor\": \"white\", \"plot_bgcolor\": \"#E5ECF6\", \"polar\": {\"angularaxis\": {\"gridcolor\": \"white\", \"linecolor\": \"white\", \"ticks\": \"\"}, \"bgcolor\": \"#E5ECF6\", \"radialaxis\": {\"gridcolor\": \"white\", \"linecolor\": \"white\", \"ticks\": \"\"}}, \"scene\": {\"xaxis\": {\"backgroundcolor\": \"#E5ECF6\", \"gridcolor\": \"white\", \"gridwidth\": 2, \"linecolor\": \"white\", \"showbackground\": true, \"ticks\": \"\", \"zerolinecolor\": \"white\"}, \"yaxis\": {\"backgroundcolor\": \"#E5ECF6\", \"gridcolor\": \"white\", \"gridwidth\": 2, \"linecolor\": \"white\", \"showbackground\": true, \"ticks\": \"\", \"zerolinecolor\": \"white\"}, \"zaxis\": {\"backgroundcolor\": \"#E5ECF6\", \"gridcolor\": \"white\", \"gridwidth\": 2, \"linecolor\": \"white\", \"showbackground\": true, \"ticks\": \"\", \"zerolinecolor\": \"white\"}}, \"shapedefaults\": {\"line\": {\"color\": \"#2a3f5f\"}}, \"ternary\": {\"aaxis\": {\"gridcolor\": \"white\", \"linecolor\": \"white\", \"ticks\": \"\"}, \"baxis\": {\"gridcolor\": \"white\", \"linecolor\": \"white\", \"ticks\": \"\"}, \"bgcolor\": \"#E5ECF6\", \"caxis\": {\"gridcolor\": \"white\", \"linecolor\": \"white\", \"ticks\": \"\"}}, \"title\": {\"x\": 0.05}, \"xaxis\": {\"automargin\": true, \"gridcolor\": \"white\", \"linecolor\": \"white\", \"ticks\": \"\", \"title\": {\"standoff\": 15}, \"zerolinecolor\": \"white\", \"zerolinewidth\": 2}, \"yaxis\": {\"automargin\": true, \"gridcolor\": \"white\", \"linecolor\": \"white\", \"ticks\": \"\", \"title\": {\"standoff\": 15}, \"zerolinecolor\": \"white\", \"zerolinewidth\": 2}}}},                        {\"responsive\": true}                    ).then(function(){\n",
       "                            \n",
       "var gd = document.getElementById('fd97dee0-1ed5-4531-b95b-c7daa633cefd');\n",
       "var x = new MutationObserver(function (mutations, observer) {{\n",
       "        var display = window.getComputedStyle(gd).display;\n",
       "        if (!display || display === 'none') {{\n",
       "            console.log([gd, 'removed!']);\n",
       "            Plotly.purge(gd);\n",
       "            observer.disconnect();\n",
       "        }}\n",
       "}});\n",
       "\n",
       "// Listen for the removal of the full notebook cells\n",
       "var notebookContainer = gd.closest('#notebook-container');\n",
       "if (notebookContainer) {{\n",
       "    x.observe(notebookContainer, {childList: true});\n",
       "}}\n",
       "\n",
       "// Listen for the clearing of the current output cell\n",
       "var outputEl = gd.closest('.output');\n",
       "if (outputEl) {{\n",
       "    x.observe(outputEl, {childList: true});\n",
       "}}\n",
       "\n",
       "                        })                };                });            </script>        </div>"
      ]
     },
     "metadata": {},
     "output_type": "display_data"
    },
    {
     "data": {
      "application/vnd.plotly.v1+json": {
       "config": {
        "plotlyServerURL": "https://plot.ly"
       },
       "data": [
        {
         "alignmentgroup": "True",
         "hovertemplate": "variable=delta shares %<br>ticker=%{x}<br>value=%{y}<extra></extra>",
         "legendgroup": "delta shares %",
         "marker": {
          "color": "#636efa"
         },
         "name": "delta shares %",
         "offsetgroup": "delta shares %",
         "orientation": "v",
         "showlegend": true,
         "textposition": "auto",
         "type": "bar",
         "x": [
          "TSLA",
          "ROKU",
          "CRSP",
          "SQ",
          "NVTA",
          "TDOC",
          "Z",
          "EDIT",
          "PRLB",
          "PSTG",
          "SPOT",
          "IOVA",
          "TWLO",
          "NTLA",
          "TWST",
          "EXAS",
          "DOCU",
          "PYPL",
          "SHOP",
          "PD",
          "TSM",
          "MTLS",
          "TREE UW",
          "TWOU",
          "MORGA",
          "ICE",
          "VCYT",
          "U",
          "BEKE",
          "NTDOY",
          "ZM",
          "MCRB",
          "PACB",
          "BIDU",
          "SPLK",
          "IRDM",
          "NSTG",
          "SNPS",
          "SE",
          "TCEHY",
          "PINS",
          "CERS",
          "SSYS",
          "CGEN",
          "HUYA",
          "SYRS",
          "ONVO ",
          "XONE"
         ],
         "xaxis": "x",
         "y": [
          0.42336873567827377,
          0.4234705021336524,
          0,
          0.42340403940734656,
          0,
          0.42323528675146,
          0.42349290201702067,
          0,
          0,
          0.42338307137358455,
          0.42370952618142516,
          0.4233552365707575,
          0.4236334186848968,
          0,
          0.42342450597460174,
          0.42325600999132634,
          0.42345848352419535,
          0.4234868264972369,
          5.476727661631775,
          0,
          0.42365622691764304,
          0,
          0,
          0,
          46.20511784034802,
          0.42349010987653224,
          0,
          0.4237133078720155,
          0.7835932663697907,
          0.6332621864122118,
          0.4232789227303263,
          0,
          0,
          0.42295730845349166,
          0.4235627219137576,
          0.42330538378012383,
          0.42342311747755124,
          0.4231085658115457,
          0.4229859991634277,
          15.334144977462053,
          0.42336548525948264,
          0,
          0,
          0,
          0.42335804365843727,
          0,
          0,
          -0.1765157125527888
         ],
         "yaxis": "y"
        }
       ],
       "layout": {
        "autosize": true,
        "barmode": "relative",
        "legend": {
         "title": {
          "text": "variable"
         },
         "tracegroupgap": 0
        },
        "margin": {
         "t": 60
        },
        "template": {
         "data": {
          "bar": [
           {
            "error_x": {
             "color": "#2a3f5f"
            },
            "error_y": {
             "color": "#2a3f5f"
            },
            "marker": {
             "line": {
              "color": "#E5ECF6",
              "width": 0.5
             }
            },
            "type": "bar"
           }
          ],
          "barpolar": [
           {
            "marker": {
             "line": {
              "color": "#E5ECF6",
              "width": 0.5
             }
            },
            "type": "barpolar"
           }
          ],
          "carpet": [
           {
            "aaxis": {
             "endlinecolor": "#2a3f5f",
             "gridcolor": "white",
             "linecolor": "white",
             "minorgridcolor": "white",
             "startlinecolor": "#2a3f5f"
            },
            "baxis": {
             "endlinecolor": "#2a3f5f",
             "gridcolor": "white",
             "linecolor": "white",
             "minorgridcolor": "white",
             "startlinecolor": "#2a3f5f"
            },
            "type": "carpet"
           }
          ],
          "choropleth": [
           {
            "colorbar": {
             "outlinewidth": 0,
             "ticks": ""
            },
            "type": "choropleth"
           }
          ],
          "contour": [
           {
            "colorbar": {
             "outlinewidth": 0,
             "ticks": ""
            },
            "colorscale": [
             [
              0,
              "#0d0887"
             ],
             [
              0.1111111111111111,
              "#46039f"
             ],
             [
              0.2222222222222222,
              "#7201a8"
             ],
             [
              0.3333333333333333,
              "#9c179e"
             ],
             [
              0.4444444444444444,
              "#bd3786"
             ],
             [
              0.5555555555555556,
              "#d8576b"
             ],
             [
              0.6666666666666666,
              "#ed7953"
             ],
             [
              0.7777777777777778,
              "#fb9f3a"
             ],
             [
              0.8888888888888888,
              "#fdca26"
             ],
             [
              1,
              "#f0f921"
             ]
            ],
            "type": "contour"
           }
          ],
          "contourcarpet": [
           {
            "colorbar": {
             "outlinewidth": 0,
             "ticks": ""
            },
            "type": "contourcarpet"
           }
          ],
          "heatmap": [
           {
            "colorbar": {
             "outlinewidth": 0,
             "ticks": ""
            },
            "colorscale": [
             [
              0,
              "#0d0887"
             ],
             [
              0.1111111111111111,
              "#46039f"
             ],
             [
              0.2222222222222222,
              "#7201a8"
             ],
             [
              0.3333333333333333,
              "#9c179e"
             ],
             [
              0.4444444444444444,
              "#bd3786"
             ],
             [
              0.5555555555555556,
              "#d8576b"
             ],
             [
              0.6666666666666666,
              "#ed7953"
             ],
             [
              0.7777777777777778,
              "#fb9f3a"
             ],
             [
              0.8888888888888888,
              "#fdca26"
             ],
             [
              1,
              "#f0f921"
             ]
            ],
            "type": "heatmap"
           }
          ],
          "heatmapgl": [
           {
            "colorbar": {
             "outlinewidth": 0,
             "ticks": ""
            },
            "colorscale": [
             [
              0,
              "#0d0887"
             ],
             [
              0.1111111111111111,
              "#46039f"
             ],
             [
              0.2222222222222222,
              "#7201a8"
             ],
             [
              0.3333333333333333,
              "#9c179e"
             ],
             [
              0.4444444444444444,
              "#bd3786"
             ],
             [
              0.5555555555555556,
              "#d8576b"
             ],
             [
              0.6666666666666666,
              "#ed7953"
             ],
             [
              0.7777777777777778,
              "#fb9f3a"
             ],
             [
              0.8888888888888888,
              "#fdca26"
             ],
             [
              1,
              "#f0f921"
             ]
            ],
            "type": "heatmapgl"
           }
          ],
          "histogram": [
           {
            "marker": {
             "colorbar": {
              "outlinewidth": 0,
              "ticks": ""
             }
            },
            "type": "histogram"
           }
          ],
          "histogram2d": [
           {
            "colorbar": {
             "outlinewidth": 0,
             "ticks": ""
            },
            "colorscale": [
             [
              0,
              "#0d0887"
             ],
             [
              0.1111111111111111,
              "#46039f"
             ],
             [
              0.2222222222222222,
              "#7201a8"
             ],
             [
              0.3333333333333333,
              "#9c179e"
             ],
             [
              0.4444444444444444,
              "#bd3786"
             ],
             [
              0.5555555555555556,
              "#d8576b"
             ],
             [
              0.6666666666666666,
              "#ed7953"
             ],
             [
              0.7777777777777778,
              "#fb9f3a"
             ],
             [
              0.8888888888888888,
              "#fdca26"
             ],
             [
              1,
              "#f0f921"
             ]
            ],
            "type": "histogram2d"
           }
          ],
          "histogram2dcontour": [
           {
            "colorbar": {
             "outlinewidth": 0,
             "ticks": ""
            },
            "colorscale": [
             [
              0,
              "#0d0887"
             ],
             [
              0.1111111111111111,
              "#46039f"
             ],
             [
              0.2222222222222222,
              "#7201a8"
             ],
             [
              0.3333333333333333,
              "#9c179e"
             ],
             [
              0.4444444444444444,
              "#bd3786"
             ],
             [
              0.5555555555555556,
              "#d8576b"
             ],
             [
              0.6666666666666666,
              "#ed7953"
             ],
             [
              0.7777777777777778,
              "#fb9f3a"
             ],
             [
              0.8888888888888888,
              "#fdca26"
             ],
             [
              1,
              "#f0f921"
             ]
            ],
            "type": "histogram2dcontour"
           }
          ],
          "mesh3d": [
           {
            "colorbar": {
             "outlinewidth": 0,
             "ticks": ""
            },
            "type": "mesh3d"
           }
          ],
          "parcoords": [
           {
            "line": {
             "colorbar": {
              "outlinewidth": 0,
              "ticks": ""
             }
            },
            "type": "parcoords"
           }
          ],
          "pie": [
           {
            "automargin": true,
            "type": "pie"
           }
          ],
          "scatter": [
           {
            "marker": {
             "colorbar": {
              "outlinewidth": 0,
              "ticks": ""
             }
            },
            "type": "scatter"
           }
          ],
          "scatter3d": [
           {
            "line": {
             "colorbar": {
              "outlinewidth": 0,
              "ticks": ""
             }
            },
            "marker": {
             "colorbar": {
              "outlinewidth": 0,
              "ticks": ""
             }
            },
            "type": "scatter3d"
           }
          ],
          "scattercarpet": [
           {
            "marker": {
             "colorbar": {
              "outlinewidth": 0,
              "ticks": ""
             }
            },
            "type": "scattercarpet"
           }
          ],
          "scattergeo": [
           {
            "marker": {
             "colorbar": {
              "outlinewidth": 0,
              "ticks": ""
             }
            },
            "type": "scattergeo"
           }
          ],
          "scattergl": [
           {
            "marker": {
             "colorbar": {
              "outlinewidth": 0,
              "ticks": ""
             }
            },
            "type": "scattergl"
           }
          ],
          "scattermapbox": [
           {
            "marker": {
             "colorbar": {
              "outlinewidth": 0,
              "ticks": ""
             }
            },
            "type": "scattermapbox"
           }
          ],
          "scatterpolar": [
           {
            "marker": {
             "colorbar": {
              "outlinewidth": 0,
              "ticks": ""
             }
            },
            "type": "scatterpolar"
           }
          ],
          "scatterpolargl": [
           {
            "marker": {
             "colorbar": {
              "outlinewidth": 0,
              "ticks": ""
             }
            },
            "type": "scatterpolargl"
           }
          ],
          "scatterternary": [
           {
            "marker": {
             "colorbar": {
              "outlinewidth": 0,
              "ticks": ""
             }
            },
            "type": "scatterternary"
           }
          ],
          "surface": [
           {
            "colorbar": {
             "outlinewidth": 0,
             "ticks": ""
            },
            "colorscale": [
             [
              0,
              "#0d0887"
             ],
             [
              0.1111111111111111,
              "#46039f"
             ],
             [
              0.2222222222222222,
              "#7201a8"
             ],
             [
              0.3333333333333333,
              "#9c179e"
             ],
             [
              0.4444444444444444,
              "#bd3786"
             ],
             [
              0.5555555555555556,
              "#d8576b"
             ],
             [
              0.6666666666666666,
              "#ed7953"
             ],
             [
              0.7777777777777778,
              "#fb9f3a"
             ],
             [
              0.8888888888888888,
              "#fdca26"
             ],
             [
              1,
              "#f0f921"
             ]
            ],
            "type": "surface"
           }
          ],
          "table": [
           {
            "cells": {
             "fill": {
              "color": "#EBF0F8"
             },
             "line": {
              "color": "white"
             }
            },
            "header": {
             "fill": {
              "color": "#C8D4E3"
             },
             "line": {
              "color": "white"
             }
            },
            "type": "table"
           }
          ]
         },
         "layout": {
          "annotationdefaults": {
           "arrowcolor": "#2a3f5f",
           "arrowhead": 0,
           "arrowwidth": 1
          },
          "autotypenumbers": "strict",
          "coloraxis": {
           "colorbar": {
            "outlinewidth": 0,
            "ticks": ""
           }
          },
          "colorscale": {
           "diverging": [
            [
             0,
             "#8e0152"
            ],
            [
             0.1,
             "#c51b7d"
            ],
            [
             0.2,
             "#de77ae"
            ],
            [
             0.3,
             "#f1b6da"
            ],
            [
             0.4,
             "#fde0ef"
            ],
            [
             0.5,
             "#f7f7f7"
            ],
            [
             0.6,
             "#e6f5d0"
            ],
            [
             0.7,
             "#b8e186"
            ],
            [
             0.8,
             "#7fbc41"
            ],
            [
             0.9,
             "#4d9221"
            ],
            [
             1,
             "#276419"
            ]
           ],
           "sequential": [
            [
             0,
             "#0d0887"
            ],
            [
             0.1111111111111111,
             "#46039f"
            ],
            [
             0.2222222222222222,
             "#7201a8"
            ],
            [
             0.3333333333333333,
             "#9c179e"
            ],
            [
             0.4444444444444444,
             "#bd3786"
            ],
            [
             0.5555555555555556,
             "#d8576b"
            ],
            [
             0.6666666666666666,
             "#ed7953"
            ],
            [
             0.7777777777777778,
             "#fb9f3a"
            ],
            [
             0.8888888888888888,
             "#fdca26"
            ],
            [
             1,
             "#f0f921"
            ]
           ],
           "sequentialminus": [
            [
             0,
             "#0d0887"
            ],
            [
             0.1111111111111111,
             "#46039f"
            ],
            [
             0.2222222222222222,
             "#7201a8"
            ],
            [
             0.3333333333333333,
             "#9c179e"
            ],
            [
             0.4444444444444444,
             "#bd3786"
            ],
            [
             0.5555555555555556,
             "#d8576b"
            ],
            [
             0.6666666666666666,
             "#ed7953"
            ],
            [
             0.7777777777777778,
             "#fb9f3a"
            ],
            [
             0.8888888888888888,
             "#fdca26"
            ],
            [
             1,
             "#f0f921"
            ]
           ]
          },
          "colorway": [
           "#636efa",
           "#EF553B",
           "#00cc96",
           "#ab63fa",
           "#FFA15A",
           "#19d3f3",
           "#FF6692",
           "#B6E880",
           "#FF97FF",
           "#FECB52"
          ],
          "font": {
           "color": "#2a3f5f"
          },
          "geo": {
           "bgcolor": "white",
           "lakecolor": "white",
           "landcolor": "#E5ECF6",
           "showlakes": true,
           "showland": true,
           "subunitcolor": "white"
          },
          "hoverlabel": {
           "align": "left"
          },
          "hovermode": "closest",
          "mapbox": {
           "style": "light"
          },
          "paper_bgcolor": "white",
          "plot_bgcolor": "#E5ECF6",
          "polar": {
           "angularaxis": {
            "gridcolor": "white",
            "linecolor": "white",
            "ticks": ""
           },
           "bgcolor": "#E5ECF6",
           "radialaxis": {
            "gridcolor": "white",
            "linecolor": "white",
            "ticks": ""
           }
          },
          "scene": {
           "xaxis": {
            "backgroundcolor": "#E5ECF6",
            "gridcolor": "white",
            "gridwidth": 2,
            "linecolor": "white",
            "showbackground": true,
            "ticks": "",
            "zerolinecolor": "white"
           },
           "yaxis": {
            "backgroundcolor": "#E5ECF6",
            "gridcolor": "white",
            "gridwidth": 2,
            "linecolor": "white",
            "showbackground": true,
            "ticks": "",
            "zerolinecolor": "white"
           },
           "zaxis": {
            "backgroundcolor": "#E5ECF6",
            "gridcolor": "white",
            "gridwidth": 2,
            "linecolor": "white",
            "showbackground": true,
            "ticks": "",
            "zerolinecolor": "white"
           }
          },
          "shapedefaults": {
           "line": {
            "color": "#2a3f5f"
           }
          },
          "ternary": {
           "aaxis": {
            "gridcolor": "white",
            "linecolor": "white",
            "ticks": ""
           },
           "baxis": {
            "gridcolor": "white",
            "linecolor": "white",
            "ticks": ""
           },
           "bgcolor": "#E5ECF6",
           "caxis": {
            "gridcolor": "white",
            "linecolor": "white",
            "ticks": ""
           }
          },
          "title": {
           "x": 0.05
          },
          "xaxis": {
           "automargin": true,
           "gridcolor": "white",
           "linecolor": "white",
           "ticks": "",
           "title": {
            "standoff": 15
           },
           "zerolinecolor": "white",
           "zerolinewidth": 2
          },
          "yaxis": {
           "automargin": true,
           "gridcolor": "white",
           "linecolor": "white",
           "ticks": "",
           "title": {
            "standoff": 15
           },
           "zerolinecolor": "white",
           "zerolinewidth": 2
          }
         }
        },
        "xaxis": {
         "anchor": "y",
         "autorange": true,
         "domain": [
          0,
          1
         ],
         "range": [
          -0.5,
          47.5
         ],
         "title": {
          "text": "ticker"
         },
         "type": "category"
        },
        "yaxis": {
         "anchor": "x",
         "autorange": true,
         "domain": [
          0,
          1
         ],
         "range": [
          -2.7532731321583896,
          48.781875259953615
         ],
         "title": {
          "text": "value"
         },
         "type": "linear"
        }
       }
      },
      "image/png": "[encoded data removed]",
      "text/html": [
       "<div>                            <div id=\"d5b98bd4-c054-4429-bd2e-541cf9f80b0e\" class=\"plotly-graph-div\" style=\"height:525px; width:100%;\"></div>            <script type=\"text/javascript\">                require([\"plotly\"], function(Plotly) {                    window.PLOTLYENV=window.PLOTLYENV || {};                                    if (document.getElementById(\"d5b98bd4-c054-4429-bd2e-541cf9f80b0e\")) {                    Plotly.newPlot(                        \"d5b98bd4-c054-4429-bd2e-541cf9f80b0e\",                        [{\"alignmentgroup\": \"True\", \"hovertemplate\": \"variable=delta shares %<br>ticker=%{x}<br>value=%{y}<extra></extra>\", \"legendgroup\": \"delta shares %\", \"marker\": {\"color\": \"#636efa\"}, \"name\": \"delta shares %\", \"offsetgroup\": \"delta shares %\", \"orientation\": \"v\", \"showlegend\": true, \"textposition\": \"auto\", \"type\": \"bar\", \"x\": [\"TSLA\", \"ROKU\", \"CRSP\", \"SQ\", \"NVTA\", \"TDOC\", \"Z\", \"EDIT\", \"PRLB\", \"PSTG\", \"SPOT\", \"IOVA\", \"TWLO\", \"NTLA\", \"TWST\", \"EXAS\", \"DOCU\", \"PYPL\", \"SHOP\", \"PD\", \"TSM\", \"MTLS\", \"TREE UW\", \"TWOU\", \"MORGA\", \"ICE\", \"VCYT\", \"U\", \"BEKE\", \"NTDOY\", \"ZM\", \"MCRB\", \"PACB\", \"BIDU\", \"SPLK\", \"IRDM\", \"NSTG\", \"SNPS\", \"SE\", \"TCEHY\", \"PINS\", \"CERS\", \"SSYS\", \"CGEN\", \"HUYA\", \"SYRS\", \"ONVO \", \"XONE\"], \"xaxis\": \"x\", \"y\": [0.42336873567827377, 0.4234705021336524, 0.0, 0.42340403940734656, 0.0, 0.42323528675146, 0.42349290201702067, 0.0, 0.0, 0.42338307137358455, 0.42370952618142516, 0.4233552365707575, 0.4236334186848968, 0.0, 0.42342450597460174, 0.42325600999132634, 0.42345848352419535, 0.4234868264972369, 5.476727661631775, 0.0, 0.42365622691764304, 0.0, 0.0, 0.0, 46.20511784034802, 0.42349010987653224, 0.0, 0.4237133078720155, 0.7835932663697907, 0.6332621864122118, 0.4232789227303263, 0.0, 0.0, 0.42295730845349166, 0.4235627219137576, 0.42330538378012383, 0.42342311747755124, 0.4231085658115457, 0.4229859991634277, 15.334144977462053, 0.42336548525948264, 0.0, 0.0, 0.0, 0.42335804365843727, 0.0, 0.0, -0.1765157125527888], \"yaxis\": \"y\"}],                        {\"barmode\": \"relative\", \"legend\": {\"title\": {\"text\": \"variable\"}, \"tracegroupgap\": 0}, \"margin\": {\"t\": 60}, \"template\": {\"data\": {\"bar\": [{\"error_x\": {\"color\": \"#2a3f5f\"}, \"error_y\": {\"color\": \"#2a3f5f\"}, \"marker\": {\"line\": {\"color\": \"#E5ECF6\", \"width\": 0.5}}, \"type\": \"bar\"}], \"barpolar\": [{\"marker\": {\"line\": {\"color\": \"#E5ECF6\", \"width\": 0.5}}, \"type\": \"barpolar\"}], \"carpet\": [{\"aaxis\": {\"endlinecolor\": \"#2a3f5f\", \"gridcolor\": \"white\", \"linecolor\": \"white\", \"minorgridcolor\": \"white\", \"startlinecolor\": \"#2a3f5f\"}, \"baxis\": {\"endlinecolor\": \"#2a3f5f\", \"gridcolor\": \"white\", \"linecolor\": \"white\", \"minorgridcolor\": \"white\", \"startlinecolor\": \"#2a3f5f\"}, \"type\": \"carpet\"}], \"choropleth\": [{\"colorbar\": {\"outlinewidth\": 0, \"ticks\": \"\"}, \"type\": \"choropleth\"}], \"contour\": [{\"colorbar\": {\"outlinewidth\": 0, \"ticks\": \"\"}, \"colorscale\": [[0.0, \"#0d0887\"], [0.1111111111111111, \"#46039f\"], [0.2222222222222222, \"#7201a8\"], [0.3333333333333333, \"#9c179e\"], [0.4444444444444444, \"#bd3786\"], [0.5555555555555556, \"#d8576b\"], [0.6666666666666666, \"#ed7953\"], [0.7777777777777778, \"#fb9f3a\"], [0.8888888888888888, \"#fdca26\"], [1.0, \"#f0f921\"]], \"type\": \"contour\"}], \"contourcarpet\": [{\"colorbar\": {\"outlinewidth\": 0, \"ticks\": \"\"}, \"type\": \"contourcarpet\"}], \"heatmap\": [{\"colorbar\": {\"outlinewidth\": 0, \"ticks\": \"\"}, \"colorscale\": [[0.0, \"#0d0887\"], [0.1111111111111111, \"#46039f\"], [0.2222222222222222, \"#7201a8\"], [0.3333333333333333, \"#9c179e\"], [0.4444444444444444, \"#bd3786\"], [0.5555555555555556, \"#d8576b\"], [0.6666666666666666, \"#ed7953\"], [0.7777777777777778, \"#fb9f3a\"], [0.8888888888888888, \"#fdca26\"], [1.0, \"#f0f921\"]], \"type\": \"heatmap\"}], \"heatmapgl\": [{\"colorbar\": {\"outlinewidth\": 0, \"ticks\": \"\"}, \"colorscale\": [[0.0, \"#0d0887\"], [0.1111111111111111, \"#46039f\"], [0.2222222222222222, \"#7201a8\"], [0.3333333333333333, \"#9c179e\"], [0.4444444444444444, \"#bd3786\"], [0.5555555555555556, \"#d8576b\"], [0.6666666666666666, \"#ed7953\"], [0.7777777777777778, \"#fb9f3a\"], [0.8888888888888888, \"#fdca26\"], [1.0, \"#f0f921\"]], \"type\": \"heatmapgl\"}], \"histogram\": [{\"marker\": {\"colorbar\": {\"outlinewidth\": 0, \"ticks\": \"\"}}, \"type\": \"histogram\"}], \"histogram2d\": [{\"colorbar\": {\"outlinewidth\": 0, \"ticks\": \"\"}, \"colorscale\": [[0.0, \"#0d0887\"], [0.1111111111111111, \"#46039f\"], [0.2222222222222222, \"#7201a8\"], [0.3333333333333333, \"#9c179e\"], [0.4444444444444444, \"#bd3786\"], [0.5555555555555556, \"#d8576b\"], [0.6666666666666666, \"#ed7953\"], [0.7777777777777778, \"#fb9f3a\"], [0.8888888888888888, \"#fdca26\"], [1.0, \"#f0f921\"]], \"type\": \"histogram2d\"}], \"histogram2dcontour\": [{\"colorbar\": {\"outlinewidth\": 0, \"ticks\": \"\"}, \"colorscale\": [[0.0, \"#0d0887\"], [0.1111111111111111, \"#46039f\"], [0.2222222222222222, \"#7201a8\"], [0.3333333333333333, \"#9c179e\"], [0.4444444444444444, \"#bd3786\"], [0.5555555555555556, \"#d8576b\"], [0.6666666666666666, \"#ed7953\"], [0.7777777777777778, \"#fb9f3a\"], [0.8888888888888888, \"#fdca26\"], [1.0, \"#f0f921\"]], \"type\": \"histogram2dcontour\"}], \"mesh3d\": [{\"colorbar\": {\"outlinewidth\": 0, \"ticks\": \"\"}, \"type\": \"mesh3d\"}], \"parcoords\": [{\"line\": {\"colorbar\": {\"outlinewidth\": 0, \"ticks\": \"\"}}, \"type\": \"parcoords\"}], \"pie\": [{\"automargin\": true, \"type\": \"pie\"}], \"scatter\": [{\"marker\": {\"colorbar\": {\"outlinewidth\": 0, \"ticks\": \"\"}}, \"type\": \"scatter\"}], \"scatter3d\": [{\"line\": {\"colorbar\": {\"outlinewidth\": 0, \"ticks\": \"\"}}, \"marker\": {\"colorbar\": {\"outlinewidth\": 0, \"ticks\": \"\"}}, \"type\": \"scatter3d\"}], \"scattercarpet\": [{\"marker\": {\"colorbar\": {\"outlinewidth\": 0, \"ticks\": \"\"}}, \"type\": \"scattercarpet\"}], \"scattergeo\": [{\"marker\": {\"colorbar\": {\"outlinewidth\": 0, \"ticks\": \"\"}}, \"type\": \"scattergeo\"}], \"scattergl\": [{\"marker\": {\"colorbar\": {\"outlinewidth\": 0, \"ticks\": \"\"}}, \"type\": \"scattergl\"}], \"scattermapbox\": [{\"marker\": {\"colorbar\": {\"outlinewidth\": 0, \"ticks\": \"\"}}, \"type\": \"scattermapbox\"}], \"scatterpolar\": [{\"marker\": {\"colorbar\": {\"outlinewidth\": 0, \"ticks\": \"\"}}, \"type\": \"scatterpolar\"}], \"scatterpolargl\": [{\"marker\": {\"colorbar\": {\"outlinewidth\": 0, \"ticks\": \"\"}}, \"type\": \"scatterpolargl\"}], \"scatterternary\": [{\"marker\": {\"colorbar\": {\"outlinewidth\": 0, \"ticks\": \"\"}}, \"type\": \"scatterternary\"}], \"surface\": [{\"colorbar\": {\"outlinewidth\": 0, \"ticks\": \"\"}, \"colorscale\": [[0.0, \"#0d0887\"], [0.1111111111111111, \"#46039f\"], [0.2222222222222222, \"#7201a8\"], [0.3333333333333333, \"#9c179e\"], [0.4444444444444444, \"#bd3786\"], [0.5555555555555556, \"#d8576b\"], [0.6666666666666666, \"#ed7953\"], [0.7777777777777778, \"#fb9f3a\"], [0.8888888888888888, \"#fdca26\"], [1.0, \"#f0f921\"]], \"type\": \"surface\"}], \"table\": [{\"cells\": {\"fill\": {\"color\": \"#EBF0F8\"}, \"line\": {\"color\": \"white\"}}, \"header\": {\"fill\": {\"color\": \"#C8D4E3\"}, \"line\": {\"color\": \"white\"}}, \"type\": \"table\"}]}, \"layout\": {\"annotationdefaults\": {\"arrowcolor\": \"#2a3f5f\", \"arrowhead\": 0, \"arrowwidth\": 1}, \"autotypenumbers\": \"strict\", \"coloraxis\": {\"colorbar\": {\"outlinewidth\": 0, \"ticks\": \"\"}}, \"colorscale\": {\"diverging\": [[0, \"#8e0152\"], [0.1, \"#c51b7d\"], [0.2, \"#de77ae\"], [0.3, \"#f1b6da\"], [0.4, \"#fde0ef\"], [0.5, \"#f7f7f7\"], [0.6, \"#e6f5d0\"], [0.7, \"#b8e186\"], [0.8, \"#7fbc41\"], [0.9, \"#4d9221\"], [1, \"#276419\"]], \"sequential\": [[0.0, \"#0d0887\"], [0.1111111111111111, \"#46039f\"], [0.2222222222222222, \"#7201a8\"], [0.3333333333333333, \"#9c179e\"], [0.4444444444444444, \"#bd3786\"], [0.5555555555555556, \"#d8576b\"], [0.6666666666666666, \"#ed7953\"], [0.7777777777777778, \"#fb9f3a\"], [0.8888888888888888, \"#fdca26\"], [1.0, \"#f0f921\"]], \"sequentialminus\": [[0.0, \"#0d0887\"], [0.1111111111111111, \"#46039f\"], [0.2222222222222222, \"#7201a8\"], [0.3333333333333333, \"#9c179e\"], [0.4444444444444444, \"#bd3786\"], [0.5555555555555556, \"#d8576b\"], [0.6666666666666666, \"#ed7953\"], [0.7777777777777778, \"#fb9f3a\"], [0.8888888888888888, \"#fdca26\"], [1.0, \"#f0f921\"]]}, \"colorway\": [\"#636efa\", \"#EF553B\", \"#00cc96\", \"#ab63fa\", \"#FFA15A\", \"#19d3f3\", \"#FF6692\", \"#B6E880\", \"#FF97FF\", \"#FECB52\"], \"font\": {\"color\": \"#2a3f5f\"}, \"geo\": {\"bgcolor\": \"white\", \"lakecolor\": \"white\", \"landcolor\": \"#E5ECF6\", \"showlakes\": true, \"showland\": true, \"subunitcolor\": \"white\"}, \"hoverlabel\": {\"align\": \"left\"}, \"hovermode\": \"closest\", \"mapbox\": {\"style\": \"light\"}, \"paper_bgcolor\": \"white\", \"plot_bgcolor\": \"#E5ECF6\", \"polar\": {\"angularaxis\": {\"gridcolor\": \"white\", \"linecolor\": \"white\", \"ticks\": \"\"}, \"bgcolor\": \"#E5ECF6\", \"radialaxis\": {\"gridcolor\": \"white\", \"linecolor\": \"white\", \"ticks\": \"\"}}, \"scene\": {\"xaxis\": {\"backgroundcolor\": \"#E5ECF6\", \"gridcolor\": \"white\", \"gridwidth\": 2, \"linecolor\": \"white\", \"showbackground\": true, \"ticks\": \"\", \"zerolinecolor\": \"white\"}, \"yaxis\": {\"backgroundcolor\": \"#E5ECF6\", \"gridcolor\": \"white\", \"gridwidth\": 2, \"linecolor\": \"white\", \"showbackground\": true, \"ticks\": \"\", \"zerolinecolor\": \"white\"}, \"zaxis\": {\"backgroundcolor\": \"#E5ECF6\", \"gridcolor\": \"white\", \"gridwidth\": 2, \"linecolor\": \"white\", \"showbackground\": true, \"ticks\": \"\", \"zerolinecolor\": \"white\"}}, \"shapedefaults\": {\"line\": {\"color\": \"#2a3f5f\"}}, \"ternary\": {\"aaxis\": {\"gridcolor\": \"white\", \"linecolor\": \"white\", \"ticks\": \"\"}, \"baxis\": {\"gridcolor\": \"white\", \"linecolor\": \"white\", \"ticks\": \"\"}, \"bgcolor\": \"#E5ECF6\", \"caxis\": {\"gridcolor\": \"white\", \"linecolor\": \"white\", \"ticks\": \"\"}}, \"title\": {\"x\": 0.05}, \"xaxis\": {\"automargin\": true, \"gridcolor\": \"white\", \"linecolor\": \"white\", \"ticks\": \"\", \"title\": {\"standoff\": 15}, \"zerolinecolor\": \"white\", \"zerolinewidth\": 2}, \"yaxis\": {\"automargin\": true, \"gridcolor\": \"white\", \"linecolor\": \"white\", \"ticks\": \"\", \"title\": {\"standoff\": 15}, \"zerolinecolor\": \"white\", \"zerolinewidth\": 2}}}, \"xaxis\": {\"anchor\": \"y\", \"domain\": [0.0, 1.0], \"title\": {\"text\": \"ticker\"}}, \"yaxis\": {\"anchor\": \"x\", \"domain\": [0.0, 1.0], \"title\": {\"text\": \"value\"}}},                        {\"responsive\": true}                    ).then(function(){\n",
       "                            \n",
       "var gd = document.getElementById('d5b98bd4-c054-4429-bd2e-541cf9f80b0e');\n",
       "var x = new MutationObserver(function (mutations, observer) {{\n",
       "        var display = window.getComputedStyle(gd).display;\n",
       "        if (!display || display === 'none') {{\n",
       "            console.log([gd, 'removed!']);\n",
       "            Plotly.purge(gd);\n",
       "            observer.disconnect();\n",
       "        }}\n",
       "}});\n",
       "\n",
       "// Listen for the removal of the full notebook cells\n",
       "var notebookContainer = gd.closest('#notebook-container');\n",
       "if (notebookContainer) {{\n",
       "    x.observe(notebookContainer, {childList: true});\n",
       "}}\n",
       "\n",
       "// Listen for the clearing of the current output cell\n",
       "var outputEl = gd.closest('.output');\n",
       "if (outputEl) {{\n",
       "    x.observe(outputEl, {childList: true});\n",
       "}}\n",
       "\n",
       "                        })                };                });            </script>        </div>"
      ]
     },
     "metadata": {},
     "output_type": "display_data"
    }
   ],
   "source": [
    "fig1=px.treemap(data_out.loc[data_out['value new']>0], path=['ticker'], values='value new',\n",
    "               color='delta shares %',\n",
    "               color_continuous_scale=['red','white','green'],\n",
    "               color_continuous_midpoint=0)\n",
    "fig1.show()\n",
    "\n",
    "fig2=px.bar(data_out,x='ticker',y=['delta shares %'])\n",
    "fig2.show()"
   ]
  },
  {
   "cell_type": "code",
   "execution_count": 40,
   "metadata": {},
   "outputs": [
    {
     "data": {
      "application/vnd.plotly.v1+json": {
       "config": {
        "plotlyServerURL": "https://plot.ly"
       },
       "data": [
        {
         "alignmentgroup": "True",
         "hovertemplate": "variable=value invest<br>ticker=%{x}<br>value=%{y}<extra></extra>",
         "legendgroup": "value invest",
         "marker": {
          "color": "#636efa"
         },
         "name": "value invest",
         "offsetgroup": "value invest",
         "orientation": "v",
         "showlegend": true,
         "textposition": "auto",
         "type": "bar",
         "x": [
          "TSLA",
          "ROKU",
          "CRSP",
          "SQ",
          "NVTA",
          "TDOC",
          "Z",
          "EDIT",
          "PRLB",
          "PSTG",
          "SPOT",
          "IOVA",
          "TWLO",
          "NTLA",
          "TWST",
          "EXAS",
          "DOCU",
          "PYPL",
          "SHOP",
          "PD",
          "TSM",
          "MTLS",
          "TREE UW",
          "TWOU",
          "MORGA",
          "ICE",
          "VCYT",
          "U",
          "BEKE",
          "NTDOY",
          "ZM",
          "MCRB",
          "PACB",
          "BIDU",
          "SPLK",
          "IRDM",
          "NSTG",
          "SNPS",
          "SE",
          "TCEHY",
          "PINS",
          "CERS",
          "SSYS",
          "CGEN",
          "HUYA",
          "SYRS",
          "ONVO ",
          "XONE"
         ],
         "xaxis": "x",
         "y": [
          7815114,
          5592584.699999999,
          0,
          4155423.8400000003,
          0,
          3420764.52,
          2488604.04,
          0,
          0,
          2232853.92,
          2147608.44,
          1809311.2799999998,
          1755854.88,
          0,
          1742654.3999999997,
          1605925.44,
          1557890.28,
          1540373.76,
          18119148.22,
          0,
          1447137,
          0,
          0,
          0,
          96641436.07000002,
          1233187.08,
          0,
          1098471,
          1961656.6500000001,
          1363542.36,
          906305.7,
          0,
          0,
          862548.72,
          807481.5,
          782774.1000000002,
          747527.7600000001,
          708218.2799999999,
          698850,
          21881405.999999996,
          676652.9399999998,
          0,
          0,
          0,
          511795.26,
          0,
          0,
          -15188.6
         ],
         "yaxis": "y"
        },
        {
         "alignmentgroup": "True",
         "hovertemplate": "variable=value grow<br>ticker=%{x}<br>value=%{y}<extra></extra>",
         "legendgroup": "value grow",
         "marker": {
          "color": "#EF553B"
         },
         "name": "value grow",
         "offsetgroup": "value grow",
         "orientation": "v",
         "showlegend": true,
         "textposition": "auto",
         "type": "bar",
         "x": [
          "TSLA",
          "ROKU",
          "CRSP",
          "SQ",
          "NVTA",
          "TDOC",
          "Z",
          "EDIT",
          "PRLB",
          "PSTG",
          "SPOT",
          "IOVA",
          "TWLO",
          "NTLA",
          "TWST",
          "EXAS",
          "DOCU",
          "PYPL",
          "SHOP",
          "PD",
          "TSM",
          "MTLS",
          "TREE UW",
          "TWOU",
          "MORGA",
          "ICE",
          "VCYT",
          "U",
          "BEKE",
          "NTDOY",
          "ZM",
          "MCRB",
          "PACB",
          "BIDU",
          "SPLK",
          "IRDM",
          "NSTG",
          "SNPS",
          "SE",
          "TCEHY",
          "PINS",
          "CERS",
          "SSYS",
          "CGEN",
          "HUYA",
          "SYRS",
          "ONVO ",
          "XONE"
         ],
         "xaxis": "x",
         "y": [
          44670652.130000114,
          -13169037.420000028,
          -30434078.180000067,
          -10285967.999999966,
          -68986065.12,
          -5705391.929999966,
          -10899377.859999932,
          13172722.850000024,
          -51262969.79999995,
          -4826486.499999983,
          -3698649.5999999666,
          -1380709.7600000189,
          -457588.3999999808,
          -8052098.670000017,
          -6782458.719999992,
          -3903076.8000000142,
          1326985.439999969,
          -1219900.0000000095,
          7730704.020000011,
          -1370507.9399999976,
          7214010.180000007,
          -14412530.299999952,
          1764867.3900000453,
          -4710032.099999964,
          0,
          1323649.4100000095,
          -5887706.76000005,
          -4729699.710000008,
          -9916388.700000012,
          1212875.6199999892,
          -4924294.3100000145,
          -10626463.75,
          -10436253.110000014,
          -2488224.9600000093,
          -2475278.5,
          -1653506.750000006,
          -1911577.2200000086,
          1037328.4600000096,
          -1611965.8799999952,
          -8356877.09999999,
          -4336911.150000008,
          -1921800.900000006,
          -10091965.560000002,
          -4157269.9200000167,
          -6058829.520000005,
          -8054121.1000000015,
          317402.98000000045,
          -858202.2599999994
         ],
         "yaxis": "y"
        }
       ],
       "layout": {
        "autosize": true,
        "barmode": "relative",
        "legend": {
         "title": {
          "text": "variable"
         },
         "tracegroupgap": 0
        },
        "margin": {
         "t": 60
        },
        "template": {
         "data": {
          "bar": [
           {
            "error_x": {
             "color": "#2a3f5f"
            },
            "error_y": {
             "color": "#2a3f5f"
            },
            "marker": {
             "line": {
              "color": "#E5ECF6",
              "width": 0.5
             }
            },
            "type": "bar"
           }
          ],
          "barpolar": [
           {
            "marker": {
             "line": {
              "color": "#E5ECF6",
              "width": 0.5
             }
            },
            "type": "barpolar"
           }
          ],
          "carpet": [
           {
            "aaxis": {
             "endlinecolor": "#2a3f5f",
             "gridcolor": "white",
             "linecolor": "white",
             "minorgridcolor": "white",
             "startlinecolor": "#2a3f5f"
            },
            "baxis": {
             "endlinecolor": "#2a3f5f",
             "gridcolor": "white",
             "linecolor": "white",
             "minorgridcolor": "white",
             "startlinecolor": "#2a3f5f"
            },
            "type": "carpet"
           }
          ],
          "choropleth": [
           {
            "colorbar": {
             "outlinewidth": 0,
             "ticks": ""
            },
            "type": "choropleth"
           }
          ],
          "contour": [
           {
            "colorbar": {
             "outlinewidth": 0,
             "ticks": ""
            },
            "colorscale": [
             [
              0,
              "#0d0887"
             ],
             [
              0.1111111111111111,
              "#46039f"
             ],
             [
              0.2222222222222222,
              "#7201a8"
             ],
             [
              0.3333333333333333,
              "#9c179e"
             ],
             [
              0.4444444444444444,
              "#bd3786"
             ],
             [
              0.5555555555555556,
              "#d8576b"
             ],
             [
              0.6666666666666666,
              "#ed7953"
             ],
             [
              0.7777777777777778,
              "#fb9f3a"
             ],
             [
              0.8888888888888888,
              "#fdca26"
             ],
             [
              1,
              "#f0f921"
             ]
            ],
            "type": "contour"
           }
          ],
          "contourcarpet": [
           {
            "colorbar": {
             "outlinewidth": 0,
             "ticks": ""
            },
            "type": "contourcarpet"
           }
          ],
          "heatmap": [
           {
            "colorbar": {
             "outlinewidth": 0,
             "ticks": ""
            },
            "colorscale": [
             [
              0,
              "#0d0887"
             ],
             [
              0.1111111111111111,
              "#46039f"
             ],
             [
              0.2222222222222222,
              "#7201a8"
             ],
             [
              0.3333333333333333,
              "#9c179e"
             ],
             [
              0.4444444444444444,
              "#bd3786"
             ],
             [
              0.5555555555555556,
              "#d8576b"
             ],
             [
              0.6666666666666666,
              "#ed7953"
             ],
             [
              0.7777777777777778,
              "#fb9f3a"
             ],
             [
              0.8888888888888888,
              "#fdca26"
             ],
             [
              1,
              "#f0f921"
             ]
            ],
            "type": "heatmap"
           }
          ],
          "heatmapgl": [
           {
            "colorbar": {
             "outlinewidth": 0,
             "ticks": ""
            },
            "colorscale": [
             [
              0,
              "#0d0887"
             ],
             [
              0.1111111111111111,
              "#46039f"
             ],
             [
              0.2222222222222222,
              "#7201a8"
             ],
             [
              0.3333333333333333,
              "#9c179e"
             ],
             [
              0.4444444444444444,
              "#bd3786"
             ],
             [
              0.5555555555555556,
              "#d8576b"
             ],
             [
              0.6666666666666666,
              "#ed7953"
             ],
             [
              0.7777777777777778,
              "#fb9f3a"
             ],
             [
              0.8888888888888888,
              "#fdca26"
             ],
             [
              1,
              "#f0f921"
             ]
            ],
            "type": "heatmapgl"
           }
          ],
          "histogram": [
           {
            "marker": {
             "colorbar": {
              "outlinewidth": 0,
              "ticks": ""
             }
            },
            "type": "histogram"
           }
          ],
          "histogram2d": [
           {
            "colorbar": {
             "outlinewidth": 0,
             "ticks": ""
            },
            "colorscale": [
             [
              0,
              "#0d0887"
             ],
             [
              0.1111111111111111,
              "#46039f"
             ],
             [
              0.2222222222222222,
              "#7201a8"
             ],
             [
              0.3333333333333333,
              "#9c179e"
             ],
             [
              0.4444444444444444,
              "#bd3786"
             ],
             [
              0.5555555555555556,
              "#d8576b"
             ],
             [
              0.6666666666666666,
              "#ed7953"
             ],
             [
              0.7777777777777778,
              "#fb9f3a"
             ],
             [
              0.8888888888888888,
              "#fdca26"
             ],
             [
              1,
              "#f0f921"
             ]
            ],
            "type": "histogram2d"
           }
          ],
          "histogram2dcontour": [
           {
            "colorbar": {
             "outlinewidth": 0,
             "ticks": ""
            },
            "colorscale": [
             [
              0,
              "#0d0887"
             ],
             [
              0.1111111111111111,
              "#46039f"
             ],
             [
              0.2222222222222222,
              "#7201a8"
             ],
             [
              0.3333333333333333,
              "#9c179e"
             ],
             [
              0.4444444444444444,
              "#bd3786"
             ],
             [
              0.5555555555555556,
              "#d8576b"
             ],
             [
              0.6666666666666666,
              "#ed7953"
             ],
             [
              0.7777777777777778,
              "#fb9f3a"
             ],
             [
              0.8888888888888888,
              "#fdca26"
             ],
             [
              1,
              "#f0f921"
             ]
            ],
            "type": "histogram2dcontour"
           }
          ],
          "mesh3d": [
           {
            "colorbar": {
             "outlinewidth": 0,
             "ticks": ""
            },
            "type": "mesh3d"
           }
          ],
          "parcoords": [
           {
            "line": {
             "colorbar": {
              "outlinewidth": 0,
              "ticks": ""
             }
            },
            "type": "parcoords"
           }
          ],
          "pie": [
           {
            "automargin": true,
            "type": "pie"
           }
          ],
          "scatter": [
           {
            "marker": {
             "colorbar": {
              "outlinewidth": 0,
              "ticks": ""
             }
            },
            "type": "scatter"
           }
          ],
          "scatter3d": [
           {
            "line": {
             "colorbar": {
              "outlinewidth": 0,
              "ticks": ""
             }
            },
            "marker": {
             "colorbar": {
              "outlinewidth": 0,
              "ticks": ""
             }
            },
            "type": "scatter3d"
           }
          ],
          "scattercarpet": [
           {
            "marker": {
             "colorbar": {
              "outlinewidth": 0,
              "ticks": ""
             }
            },
            "type": "scattercarpet"
           }
          ],
          "scattergeo": [
           {
            "marker": {
             "colorbar": {
              "outlinewidth": 0,
              "ticks": ""
             }
            },
            "type": "scattergeo"
           }
          ],
          "scattergl": [
           {
            "marker": {
             "colorbar": {
              "outlinewidth": 0,
              "ticks": ""
             }
            },
            "type": "scattergl"
           }
          ],
          "scattermapbox": [
           {
            "marker": {
             "colorbar": {
              "outlinewidth": 0,
              "ticks": ""
             }
            },
            "type": "scattermapbox"
           }
          ],
          "scatterpolar": [
           {
            "marker": {
             "colorbar": {
              "outlinewidth": 0,
              "ticks": ""
             }
            },
            "type": "scatterpolar"
           }
          ],
          "scatterpolargl": [
           {
            "marker": {
             "colorbar": {
              "outlinewidth": 0,
              "ticks": ""
             }
            },
            "type": "scatterpolargl"
           }
          ],
          "scatterternary": [
           {
            "marker": {
             "colorbar": {
              "outlinewidth": 0,
              "ticks": ""
             }
            },
            "type": "scatterternary"
           }
          ],
          "surface": [
           {
            "colorbar": {
             "outlinewidth": 0,
             "ticks": ""
            },
            "colorscale": [
             [
              0,
              "#0d0887"
             ],
             [
              0.1111111111111111,
              "#46039f"
             ],
             [
              0.2222222222222222,
              "#7201a8"
             ],
             [
              0.3333333333333333,
              "#9c179e"
             ],
             [
              0.4444444444444444,
              "#bd3786"
             ],
             [
              0.5555555555555556,
              "#d8576b"
             ],
             [
              0.6666666666666666,
              "#ed7953"
             ],
             [
              0.7777777777777778,
              "#fb9f3a"
             ],
             [
              0.8888888888888888,
              "#fdca26"
             ],
             [
              1,
              "#f0f921"
             ]
            ],
            "type": "surface"
           }
          ],
          "table": [
           {
            "cells": {
             "fill": {
              "color": "#EBF0F8"
             },
             "line": {
              "color": "white"
             }
            },
            "header": {
             "fill": {
              "color": "#C8D4E3"
             },
             "line": {
              "color": "white"
             }
            },
            "type": "table"
           }
          ]
         },
         "layout": {
          "annotationdefaults": {
           "arrowcolor": "#2a3f5f",
           "arrowhead": 0,
           "arrowwidth": 1
          },
          "autotypenumbers": "strict",
          "coloraxis": {
           "colorbar": {
            "outlinewidth": 0,
            "ticks": ""
           }
          },
          "colorscale": {
           "diverging": [
            [
             0,
             "#8e0152"
            ],
            [
             0.1,
             "#c51b7d"
            ],
            [
             0.2,
             "#de77ae"
            ],
            [
             0.3,
             "#f1b6da"
            ],
            [
             0.4,
             "#fde0ef"
            ],
            [
             0.5,
             "#f7f7f7"
            ],
            [
             0.6,
             "#e6f5d0"
            ],
            [
             0.7,
             "#b8e186"
            ],
            [
             0.8,
             "#7fbc41"
            ],
            [
             0.9,
             "#4d9221"
            ],
            [
             1,
             "#276419"
            ]
           ],
           "sequential": [
            [
             0,
             "#0d0887"
            ],
            [
             0.1111111111111111,
             "#46039f"
            ],
            [
             0.2222222222222222,
             "#7201a8"
            ],
            [
             0.3333333333333333,
             "#9c179e"
            ],
            [
             0.4444444444444444,
             "#bd3786"
            ],
            [
             0.5555555555555556,
             "#d8576b"
            ],
            [
             0.6666666666666666,
             "#ed7953"
            ],
            [
             0.7777777777777778,
             "#fb9f3a"
            ],
            [
             0.8888888888888888,
             "#fdca26"
            ],
            [
             1,
             "#f0f921"
            ]
           ],
           "sequentialminus": [
            [
             0,
             "#0d0887"
            ],
            [
             0.1111111111111111,
             "#46039f"
            ],
            [
             0.2222222222222222,
             "#7201a8"
            ],
            [
             0.3333333333333333,
             "#9c179e"
            ],
            [
             0.4444444444444444,
             "#bd3786"
            ],
            [
             0.5555555555555556,
             "#d8576b"
            ],
            [
             0.6666666666666666,
             "#ed7953"
            ],
            [
             0.7777777777777778,
             "#fb9f3a"
            ],
            [
             0.8888888888888888,
             "#fdca26"
            ],
            [
             1,
             "#f0f921"
            ]
           ]
          },
          "colorway": [
           "#636efa",
           "#EF553B",
           "#00cc96",
           "#ab63fa",
           "#FFA15A",
           "#19d3f3",
           "#FF6692",
           "#B6E880",
           "#FF97FF",
           "#FECB52"
          ],
          "font": {
           "color": "#2a3f5f"
          },
          "geo": {
           "bgcolor": "white",
           "lakecolor": "white",
           "landcolor": "#E5ECF6",
           "showlakes": true,
           "showland": true,
           "subunitcolor": "white"
          },
          "hoverlabel": {
           "align": "left"
          },
          "hovermode": "closest",
          "mapbox": {
           "style": "light"
          },
          "paper_bgcolor": "white",
          "plot_bgcolor": "#E5ECF6",
          "polar": {
           "angularaxis": {
            "gridcolor": "white",
            "linecolor": "white",
            "ticks": ""
           },
           "bgcolor": "#E5ECF6",
           "radialaxis": {
            "gridcolor": "white",
            "linecolor": "white",
            "ticks": ""
           }
          },
          "scene": {
           "xaxis": {
            "backgroundcolor": "#E5ECF6",
            "gridcolor": "white",
            "gridwidth": 2,
            "linecolor": "white",
            "showbackground": true,
            "ticks": "",
            "zerolinecolor": "white"
           },
           "yaxis": {
            "backgroundcolor": "#E5ECF6",
            "gridcolor": "white",
            "gridwidth": 2,
            "linecolor": "white",
            "showbackground": true,
            "ticks": "",
            "zerolinecolor": "white"
           },
           "zaxis": {
            "backgroundcolor": "#E5ECF6",
            "gridcolor": "white",
            "gridwidth": 2,
            "linecolor": "white",
            "showbackground": true,
            "ticks": "",
            "zerolinecolor": "white"
           }
          },
          "shapedefaults": {
           "line": {
            "color": "#2a3f5f"
           }
          },
          "ternary": {
           "aaxis": {
            "gridcolor": "white",
            "linecolor": "white",
            "ticks": ""
           },
           "baxis": {
            "gridcolor": "white",
            "linecolor": "white",
            "ticks": ""
           },
           "bgcolor": "#E5ECF6",
           "caxis": {
            "gridcolor": "white",
            "linecolor": "white",
            "ticks": ""
           }
          },
          "title": {
           "x": 0.05
          },
          "xaxis": {
           "automargin": true,
           "gridcolor": "white",
           "linecolor": "white",
           "ticks": "",
           "title": {
            "standoff": 15
           },
           "zerolinecolor": "white",
           "zerolinewidth": 2
          },
          "yaxis": {
           "automargin": true,
           "gridcolor": "white",
           "linecolor": "white",
           "ticks": "",
           "title": {
            "standoff": 15
           },
           "zerolinecolor": "white",
           "zerolinewidth": 2
          }
         }
        },
        "xaxis": {
         "anchor": "y",
         "autorange": true,
         "domain": [
          0,
          1
         ],
         "range": [
          -0.5,
          47.5
         ],
         "title": {
          "text": "ticker"
         },
         "type": "category"
        },
        "yaxis": {
         "anchor": "x",
         "autorange": true,
         "domain": [
          0,
          1
         ],
         "range": [
          -78187592.9638889,
          105842963.91388892
         ],
         "title": {
          "text": "value"
         },
         "type": "linear"
        }
       }
      },
      "image/png": "[encoded data removed]",
      "text/html": [
       "<div>                            <div id=\"cc080434-45b0-43a3-b7f2-a846c179156e\" class=\"plotly-graph-div\" style=\"height:525px; width:100%;\"></div>            <script type=\"text/javascript\">                require([\"plotly\"], function(Plotly) {                    window.PLOTLYENV=window.PLOTLYENV || {};                                    if (document.getElementById(\"cc080434-45b0-43a3-b7f2-a846c179156e\")) {                    Plotly.newPlot(                        \"cc080434-45b0-43a3-b7f2-a846c179156e\",                        [{\"alignmentgroup\": \"True\", \"hovertemplate\": \"variable=value invest<br>ticker=%{x}<br>value=%{y}<extra></extra>\", \"legendgroup\": \"value invest\", \"marker\": {\"color\": \"#636efa\"}, \"name\": \"value invest\", \"offsetgroup\": \"value invest\", \"orientation\": \"v\", \"showlegend\": true, \"textposition\": \"auto\", \"type\": \"bar\", \"x\": [\"TSLA\", \"ROKU\", \"CRSP\", \"SQ\", \"NVTA\", \"TDOC\", \"Z\", \"EDIT\", \"PRLB\", \"PSTG\", \"SPOT\", \"IOVA\", \"TWLO\", \"NTLA\", \"TWST\", \"EXAS\", \"DOCU\", \"PYPL\", \"SHOP\", \"PD\", \"TSM\", \"MTLS\", \"TREE UW\", \"TWOU\", \"MORGA\", \"ICE\", \"VCYT\", \"U\", \"BEKE\", \"NTDOY\", \"ZM\", \"MCRB\", \"PACB\", \"BIDU\", \"SPLK\", \"IRDM\", \"NSTG\", \"SNPS\", \"SE\", \"TCEHY\", \"PINS\", \"CERS\", \"SSYS\", \"CGEN\", \"HUYA\", \"SYRS\", \"ONVO \", \"XONE\"], \"xaxis\": \"x\", \"y\": [7815114.0, 5592584.699999999, 0.0, 4155423.8400000003, 0.0, 3420764.52, 2488604.04, 0.0, 0.0, 2232853.92, 2147608.44, 1809311.2799999998, 1755854.88, 0.0, 1742654.3999999997, 1605925.44, 1557890.28, 1540373.76, 18119148.22, 0.0, 1447137.0, 0.0, 0.0, 0.0, 96641436.07000002, 1233187.08, 0.0, 1098471.0, 1961656.6500000001, 1363542.36, 906305.7, 0.0, 0.0, 862548.72, 807481.5, 782774.1000000002, 747527.7600000001, 708218.2799999999, 698850.0, 21881405.999999996, 676652.9399999998, 0.0, 0.0, 0.0, 511795.26, 0.0, 0.0, -15188.6], \"yaxis\": \"y\"}, {\"alignmentgroup\": \"True\", \"hovertemplate\": \"variable=value grow<br>ticker=%{x}<br>value=%{y}<extra></extra>\", \"legendgroup\": \"value grow\", \"marker\": {\"color\": \"#EF553B\"}, \"name\": \"value grow\", \"offsetgroup\": \"value grow\", \"orientation\": \"v\", \"showlegend\": true, \"textposition\": \"auto\", \"type\": \"bar\", \"x\": [\"TSLA\", \"ROKU\", \"CRSP\", \"SQ\", \"NVTA\", \"TDOC\", \"Z\", \"EDIT\", \"PRLB\", \"PSTG\", \"SPOT\", \"IOVA\", \"TWLO\", \"NTLA\", \"TWST\", \"EXAS\", \"DOCU\", \"PYPL\", \"SHOP\", \"PD\", \"TSM\", \"MTLS\", \"TREE UW\", \"TWOU\", \"MORGA\", \"ICE\", \"VCYT\", \"U\", \"BEKE\", \"NTDOY\", \"ZM\", \"MCRB\", \"PACB\", \"BIDU\", \"SPLK\", \"IRDM\", \"NSTG\", \"SNPS\", \"SE\", \"TCEHY\", \"PINS\", \"CERS\", \"SSYS\", \"CGEN\", \"HUYA\", \"SYRS\", \"ONVO \", \"XONE\"], \"xaxis\": \"x\", \"y\": [44670652.130000114, -13169037.420000028, -30434078.180000067, -10285967.999999966, -68986065.12, -5705391.929999966, -10899377.859999932, 13172722.850000024, -51262969.79999995, -4826486.499999983, -3698649.5999999666, -1380709.7600000189, -457588.3999999808, -8052098.670000017, -6782458.719999992, -3903076.8000000142, 1326985.439999969, -1219900.0000000095, 7730704.020000011, -1370507.9399999976, 7214010.180000007, -14412530.299999952, 1764867.3900000453, -4710032.099999964, 0.0, 1323649.4100000095, -5887706.76000005, -4729699.710000008, -9916388.700000012, 1212875.6199999892, -4924294.3100000145, -10626463.75, -10436253.110000014, -2488224.9600000093, -2475278.5, -1653506.750000006, -1911577.2200000086, 1037328.4600000096, -1611965.8799999952, -8356877.09999999, -4336911.150000008, -1921800.900000006, -10091965.560000002, -4157269.9200000167, -6058829.520000005, -8054121.1000000015, 317402.98000000045, -858202.2599999994], \"yaxis\": \"y\"}],                        {\"barmode\": \"relative\", \"legend\": {\"title\": {\"text\": \"variable\"}, \"tracegroupgap\": 0}, \"margin\": {\"t\": 60}, \"template\": {\"data\": {\"bar\": [{\"error_x\": {\"color\": \"#2a3f5f\"}, \"error_y\": {\"color\": \"#2a3f5f\"}, \"marker\": {\"line\": {\"color\": \"#E5ECF6\", \"width\": 0.5}}, \"type\": \"bar\"}], \"barpolar\": [{\"marker\": {\"line\": {\"color\": \"#E5ECF6\", \"width\": 0.5}}, \"type\": \"barpolar\"}], \"carpet\": [{\"aaxis\": {\"endlinecolor\": \"#2a3f5f\", \"gridcolor\": \"white\", \"linecolor\": \"white\", \"minorgridcolor\": \"white\", \"startlinecolor\": \"#2a3f5f\"}, \"baxis\": {\"endlinecolor\": \"#2a3f5f\", \"gridcolor\": \"white\", \"linecolor\": \"white\", \"minorgridcolor\": \"white\", \"startlinecolor\": \"#2a3f5f\"}, \"type\": \"carpet\"}], \"choropleth\": [{\"colorbar\": {\"outlinewidth\": 0, \"ticks\": \"\"}, \"type\": \"choropleth\"}], \"contour\": [{\"colorbar\": {\"outlinewidth\": 0, \"ticks\": \"\"}, \"colorscale\": [[0.0, \"#0d0887\"], [0.1111111111111111, \"#46039f\"], [0.2222222222222222, \"#7201a8\"], [0.3333333333333333, \"#9c179e\"], [0.4444444444444444, \"#bd3786\"], [0.5555555555555556, \"#d8576b\"], [0.6666666666666666, \"#ed7953\"], [0.7777777777777778, \"#fb9f3a\"], [0.8888888888888888, \"#fdca26\"], [1.0, \"#f0f921\"]], \"type\": \"contour\"}], \"contourcarpet\": [{\"colorbar\": {\"outlinewidth\": 0, \"ticks\": \"\"}, \"type\": \"contourcarpet\"}], \"heatmap\": [{\"colorbar\": {\"outlinewidth\": 0, \"ticks\": \"\"}, \"colorscale\": [[0.0, \"#0d0887\"], [0.1111111111111111, \"#46039f\"], [0.2222222222222222, \"#7201a8\"], [0.3333333333333333, \"#9c179e\"], [0.4444444444444444, \"#bd3786\"], [0.5555555555555556, \"#d8576b\"], [0.6666666666666666, \"#ed7953\"], [0.7777777777777778, \"#fb9f3a\"], [0.8888888888888888, \"#fdca26\"], [1.0, \"#f0f921\"]], \"type\": \"heatmap\"}], \"heatmapgl\": [{\"colorbar\": {\"outlinewidth\": 0, \"ticks\": \"\"}, \"colorscale\": [[0.0, \"#0d0887\"], [0.1111111111111111, \"#46039f\"], [0.2222222222222222, \"#7201a8\"], [0.3333333333333333, \"#9c179e\"], [0.4444444444444444, \"#bd3786\"], [0.5555555555555556, \"#d8576b\"], [0.6666666666666666, \"#ed7953\"], [0.7777777777777778, \"#fb9f3a\"], [0.8888888888888888, \"#fdca26\"], [1.0, \"#f0f921\"]], \"type\": \"heatmapgl\"}], \"histogram\": [{\"marker\": {\"colorbar\": {\"outlinewidth\": 0, \"ticks\": \"\"}}, \"type\": \"histogram\"}], \"histogram2d\": [{\"colorbar\": {\"outlinewidth\": 0, \"ticks\": \"\"}, \"colorscale\": [[0.0, \"#0d0887\"], [0.1111111111111111, \"#46039f\"], [0.2222222222222222, \"#7201a8\"], [0.3333333333333333, \"#9c179e\"], [0.4444444444444444, \"#bd3786\"], [0.5555555555555556, \"#d8576b\"], [0.6666666666666666, \"#ed7953\"], [0.7777777777777778, \"#fb9f3a\"], [0.8888888888888888, \"#fdca26\"], [1.0, \"#f0f921\"]], \"type\": \"histogram2d\"}], \"histogram2dcontour\": [{\"colorbar\": {\"outlinewidth\": 0, \"ticks\": \"\"}, \"colorscale\": [[0.0, \"#0d0887\"], [0.1111111111111111, \"#46039f\"], [0.2222222222222222, \"#7201a8\"], [0.3333333333333333, \"#9c179e\"], [0.4444444444444444, \"#bd3786\"], [0.5555555555555556, \"#d8576b\"], [0.6666666666666666, \"#ed7953\"], [0.7777777777777778, \"#fb9f3a\"], [0.8888888888888888, \"#fdca26\"], [1.0, \"#f0f921\"]], \"type\": \"histogram2dcontour\"}], \"mesh3d\": [{\"colorbar\": {\"outlinewidth\": 0, \"ticks\": \"\"}, \"type\": \"mesh3d\"}], \"parcoords\": [{\"line\": {\"colorbar\": {\"outlinewidth\": 0, \"ticks\": \"\"}}, \"type\": \"parcoords\"}], \"pie\": [{\"automargin\": true, \"type\": \"pie\"}], \"scatter\": [{\"marker\": {\"colorbar\": {\"outlinewidth\": 0, \"ticks\": \"\"}}, \"type\": \"scatter\"}], \"scatter3d\": [{\"line\": {\"colorbar\": {\"outlinewidth\": 0, \"ticks\": \"\"}}, \"marker\": {\"colorbar\": {\"outlinewidth\": 0, \"ticks\": \"\"}}, \"type\": \"scatter3d\"}], \"scattercarpet\": [{\"marker\": {\"colorbar\": {\"outlinewidth\": 0, \"ticks\": \"\"}}, \"type\": \"scattercarpet\"}], \"scattergeo\": [{\"marker\": {\"colorbar\": {\"outlinewidth\": 0, \"ticks\": \"\"}}, \"type\": \"scattergeo\"}], \"scattergl\": [{\"marker\": {\"colorbar\": {\"outlinewidth\": 0, \"ticks\": \"\"}}, \"type\": \"scattergl\"}], \"scattermapbox\": [{\"marker\": {\"colorbar\": {\"outlinewidth\": 0, \"ticks\": \"\"}}, \"type\": \"scattermapbox\"}], \"scatterpolar\": [{\"marker\": {\"colorbar\": {\"outlinewidth\": 0, \"ticks\": \"\"}}, \"type\": \"scatterpolar\"}], \"scatterpolargl\": [{\"marker\": {\"colorbar\": {\"outlinewidth\": 0, \"ticks\": \"\"}}, \"type\": \"scatterpolargl\"}], \"scatterternary\": [{\"marker\": {\"colorbar\": {\"outlinewidth\": 0, \"ticks\": \"\"}}, \"type\": \"scatterternary\"}], \"surface\": [{\"colorbar\": {\"outlinewidth\": 0, \"ticks\": \"\"}, \"colorscale\": [[0.0, \"#0d0887\"], [0.1111111111111111, \"#46039f\"], [0.2222222222222222, \"#7201a8\"], [0.3333333333333333, \"#9c179e\"], [0.4444444444444444, \"#bd3786\"], [0.5555555555555556, \"#d8576b\"], [0.6666666666666666, \"#ed7953\"], [0.7777777777777778, \"#fb9f3a\"], [0.8888888888888888, \"#fdca26\"], [1.0, \"#f0f921\"]], \"type\": \"surface\"}], \"table\": [{\"cells\": {\"fill\": {\"color\": \"#EBF0F8\"}, \"line\": {\"color\": \"white\"}}, \"header\": {\"fill\": {\"color\": \"#C8D4E3\"}, \"line\": {\"color\": \"white\"}}, \"type\": \"table\"}]}, \"layout\": {\"annotationdefaults\": {\"arrowcolor\": \"#2a3f5f\", \"arrowhead\": 0, \"arrowwidth\": 1}, \"autotypenumbers\": \"strict\", \"coloraxis\": {\"colorbar\": {\"outlinewidth\": 0, \"ticks\": \"\"}}, \"colorscale\": {\"diverging\": [[0, \"#8e0152\"], [0.1, \"#c51b7d\"], [0.2, \"#de77ae\"], [0.3, \"#f1b6da\"], [0.4, \"#fde0ef\"], [0.5, \"#f7f7f7\"], [0.6, \"#e6f5d0\"], [0.7, \"#b8e186\"], [0.8, \"#7fbc41\"], [0.9, \"#4d9221\"], [1, \"#276419\"]], \"sequential\": [[0.0, \"#0d0887\"], [0.1111111111111111, \"#46039f\"], [0.2222222222222222, \"#7201a8\"], [0.3333333333333333, \"#9c179e\"], [0.4444444444444444, \"#bd3786\"], [0.5555555555555556, \"#d8576b\"], [0.6666666666666666, \"#ed7953\"], [0.7777777777777778, \"#fb9f3a\"], [0.8888888888888888, \"#fdca26\"], [1.0, \"#f0f921\"]], \"sequentialminus\": [[0.0, \"#0d0887\"], [0.1111111111111111, \"#46039f\"], [0.2222222222222222, \"#7201a8\"], [0.3333333333333333, \"#9c179e\"], [0.4444444444444444, \"#bd3786\"], [0.5555555555555556, \"#d8576b\"], [0.6666666666666666, \"#ed7953\"], [0.7777777777777778, \"#fb9f3a\"], [0.8888888888888888, \"#fdca26\"], [1.0, \"#f0f921\"]]}, \"colorway\": [\"#636efa\", \"#EF553B\", \"#00cc96\", \"#ab63fa\", \"#FFA15A\", \"#19d3f3\", \"#FF6692\", \"#B6E880\", \"#FF97FF\", \"#FECB52\"], \"font\": {\"color\": \"#2a3f5f\"}, \"geo\": {\"bgcolor\": \"white\", \"lakecolor\": \"white\", \"landcolor\": \"#E5ECF6\", \"showlakes\": true, \"showland\": true, \"subunitcolor\": \"white\"}, \"hoverlabel\": {\"align\": \"left\"}, \"hovermode\": \"closest\", \"mapbox\": {\"style\": \"light\"}, \"paper_bgcolor\": \"white\", \"plot_bgcolor\": \"#E5ECF6\", \"polar\": {\"angularaxis\": {\"gridcolor\": \"white\", \"linecolor\": \"white\", \"ticks\": \"\"}, \"bgcolor\": \"#E5ECF6\", \"radialaxis\": {\"gridcolor\": \"white\", \"linecolor\": \"white\", \"ticks\": \"\"}}, \"scene\": {\"xaxis\": {\"backgroundcolor\": \"#E5ECF6\", \"gridcolor\": \"white\", \"gridwidth\": 2, \"linecolor\": \"white\", \"showbackground\": true, \"ticks\": \"\", \"zerolinecolor\": \"white\"}, \"yaxis\": {\"backgroundcolor\": \"#E5ECF6\", \"gridcolor\": \"white\", \"gridwidth\": 2, \"linecolor\": \"white\", \"showbackground\": true, \"ticks\": \"\", \"zerolinecolor\": \"white\"}, \"zaxis\": {\"backgroundcolor\": \"#E5ECF6\", \"gridcolor\": \"white\", \"gridwidth\": 2, \"linecolor\": \"white\", \"showbackground\": true, \"ticks\": \"\", \"zerolinecolor\": \"white\"}}, \"shapedefaults\": {\"line\": {\"color\": \"#2a3f5f\"}}, \"ternary\": {\"aaxis\": {\"gridcolor\": \"white\", \"linecolor\": \"white\", \"ticks\": \"\"}, \"baxis\": {\"gridcolor\": \"white\", \"linecolor\": \"white\", \"ticks\": \"\"}, \"bgcolor\": \"#E5ECF6\", \"caxis\": {\"gridcolor\": \"white\", \"linecolor\": \"white\", \"ticks\": \"\"}}, \"title\": {\"x\": 0.05}, \"xaxis\": {\"automargin\": true, \"gridcolor\": \"white\", \"linecolor\": \"white\", \"ticks\": \"\", \"title\": {\"standoff\": 15}, \"zerolinecolor\": \"white\", \"zerolinewidth\": 2}, \"yaxis\": {\"automargin\": true, \"gridcolor\": \"white\", \"linecolor\": \"white\", \"ticks\": \"\", \"title\": {\"standoff\": 15}, \"zerolinecolor\": \"white\", \"zerolinewidth\": 2}}}, \"xaxis\": {\"anchor\": \"y\", \"domain\": [0.0, 1.0], \"title\": {\"text\": \"ticker\"}}, \"yaxis\": {\"anchor\": \"x\", \"domain\": [0.0, 1.0], \"title\": {\"text\": \"value\"}}},                        {\"responsive\": true}                    ).then(function(){\n",
       "                            \n",
       "var gd = document.getElementById('cc080434-45b0-43a3-b7f2-a846c179156e');\n",
       "var x = new MutationObserver(function (mutations, observer) {{\n",
       "        var display = window.getComputedStyle(gd).display;\n",
       "        if (!display || display === 'none') {{\n",
       "            console.log([gd, 'removed!']);\n",
       "            Plotly.purge(gd);\n",
       "            observer.disconnect();\n",
       "        }}\n",
       "}});\n",
       "\n",
       "// Listen for the removal of the full notebook cells\n",
       "var notebookContainer = gd.closest('#notebook-container');\n",
       "if (notebookContainer) {{\n",
       "    x.observe(notebookContainer, {childList: true});\n",
       "}}\n",
       "\n",
       "// Listen for the clearing of the current output cell\n",
       "var outputEl = gd.closest('.output');\n",
       "if (outputEl) {{\n",
       "    x.observe(outputEl, {childList: true});\n",
       "}}\n",
       "\n",
       "                        })                };                });            </script>        </div>"
      ]
     },
     "metadata": {},
     "output_type": "display_data"
    },
    {
     "data": {
      "application/vnd.plotly.v1+json": {
       "config": {
        "plotlyServerURL": "https://plot.ly"
       },
       "data": [
        {
         "alignmentgroup": "True",
         "hovertemplate": "variable=value invest %<br>ticker=%{x}<br>value=%{y}<extra></extra>",
         "legendgroup": "value invest %",
         "marker": {
          "color": "#636efa"
         },
         "name": "value invest %",
         "offsetgroup": "value invest %",
         "orientation": "v",
         "showlegend": true,
         "textposition": "auto",
         "type": "bar",
         "x": [
          "TSLA",
          "ROKU",
          "CRSP",
          "SQ",
          "NVTA",
          "TDOC",
          "Z",
          "EDIT",
          "PRLB",
          "PSTG",
          "SPOT",
          "IOVA",
          "TWLO",
          "NTLA",
          "TWST",
          "EXAS",
          "DOCU",
          "PYPL",
          "SHOP",
          "PD",
          "TSM",
          "MTLS",
          "TREE UW",
          "TWOU",
          "MORGA",
          "ICE",
          "VCYT",
          "U",
          "BEKE",
          "NTDOY",
          "ZM",
          "MCRB",
          "PACB",
          "BIDU",
          "SPLK",
          "IRDM",
          "NSTG",
          "SNPS",
          "SE",
          "TCEHY",
          "PINS",
          "CERS",
          "SSYS",
          "CGEN",
          "HUYA",
          "SYRS",
          "ONVO ",
          "XONE"
         ],
         "xaxis": "x",
         "y": [
          0.041576934435420786,
          0.029752928414919787,
          0,
          0.022107135551325867,
          0,
          0.01819869833850839,
          0.013239541612163725,
          0,
          0,
          0.011878933696387832,
          0.011425421983970589,
          0.009625658238872428,
          0.009341266579588428,
          0,
          0.009271039134220888,
          0.008543631830201617,
          0.008288081533953226,
          0.008194892464212627,
          0.09639509258196505,
          0,
          0.0076988666023389465,
          0,
          0,
          0,
          0.5141389685713222,
          0.006560638574404419,
          0,
          0.005843939927966644,
          0.01043614589906906,
          0.00725413747024534,
          0.004821607550107157,
          0,
          0,
          0.004588817460474169,
          0.004295856129970111,
          0.00416441109284465,
          0.003976898182953822,
          0.0037677690937747647,
          0.0037179292112941437,
          0.11641055813348634,
          0.0035998393525564325,
          0,
          0,
          0,
          0.0027227853578820653,
          0,
          0,
          -8.080437807635719e-05
         ],
         "yaxis": "y"
        },
        {
         "alignmentgroup": "True",
         "hovertemplate": "variable=value grow %<br>ticker=%{x}<br>value=%{y}<extra></extra>",
         "legendgroup": "value grow %",
         "marker": {
          "color": "#EF553B"
         },
         "name": "value grow %",
         "offsetgroup": "value grow %",
         "orientation": "v",
         "showlegend": true,
         "textposition": "auto",
         "type": "bar",
         "x": [
          "TSLA",
          "ROKU",
          "CRSP",
          "SQ",
          "NVTA",
          "TDOC",
          "Z",
          "EDIT",
          "PRLB",
          "PSTG",
          "SPOT",
          "IOVA",
          "TWLO",
          "NTLA",
          "TWST",
          "EXAS",
          "DOCU",
          "PYPL",
          "SHOP",
          "PD",
          "TSM",
          "MTLS",
          "TREE UW",
          "TWOU",
          "MORGA",
          "ICE",
          "VCYT",
          "U",
          "BEKE",
          "NTDOY",
          "ZM",
          "MCRB",
          "PACB",
          "BIDU",
          "SPLK",
          "IRDM",
          "NSTG",
          "SNPS",
          "SE",
          "TCEHY",
          "PINS",
          "CERS",
          "SSYS",
          "CGEN",
          "HUYA",
          "SYRS",
          "ONVO ",
          "XONE"
         ],
         "xaxis": "x",
         "y": [
          0.23765088708833995,
          -0.07006016871781322,
          -0.16191135191275946,
          -0.05472204463566813,
          -0.3670105268396481,
          -0.0303530704992899,
          -0.05798542653019446,
          0.07007977545438497,
          -0.27272246244130977,
          -0.02567723423662699,
          -0.019677065736826607,
          -0.007345469198000996,
          -0.0024344012007001185,
          -0.04283770888948384,
          -0.0360831385840805,
          -0.02076463225104747,
          0.007059652186217209,
          -0.006489950411186608,
          0.04112786763944638,
          -0.007291194826409891,
          0.038379021505037345,
          -0.07667563484443266,
          0.009389213741635002,
          -0.02505768896146951,
          0,
          0.007041904281249615,
          -0.03132299771129453,
          -0.02516232197532871,
          -0.05275585779248366,
          0.00645258023504966,
          -0.02619757839330127,
          -0.05653350502809373,
          -0.055521571573482725,
          -0.013237524880954763,
          -0.013168648839147673,
          -0.008796767613789891,
          -0.010169719948318643,
          0.005518657484640201,
          -0.008575767379067685,
          -0.04445915072660092,
          -0.02307266030102641,
          -0.01022411061658639,
          -0.05368993854889957,
          -0.022116956821639163,
          -0.032233382354810464,
          -0.042848468353710416,
          0.0016886052959774092,
          -0.00456569399964606
         ],
         "yaxis": "y"
        }
       ],
       "layout": {
        "autosize": true,
        "barmode": "relative",
        "legend": {
         "title": {
          "text": "variable"
         },
         "tracegroupgap": 0
        },
        "margin": {
         "t": 60
        },
        "template": {
         "data": {
          "bar": [
           {
            "error_x": {
             "color": "#2a3f5f"
            },
            "error_y": {
             "color": "#2a3f5f"
            },
            "marker": {
             "line": {
              "color": "#E5ECF6",
              "width": 0.5
             }
            },
            "type": "bar"
           }
          ],
          "barpolar": [
           {
            "marker": {
             "line": {
              "color": "#E5ECF6",
              "width": 0.5
             }
            },
            "type": "barpolar"
           }
          ],
          "carpet": [
           {
            "aaxis": {
             "endlinecolor": "#2a3f5f",
             "gridcolor": "white",
             "linecolor": "white",
             "minorgridcolor": "white",
             "startlinecolor": "#2a3f5f"
            },
            "baxis": {
             "endlinecolor": "#2a3f5f",
             "gridcolor": "white",
             "linecolor": "white",
             "minorgridcolor": "white",
             "startlinecolor": "#2a3f5f"
            },
            "type": "carpet"
           }
          ],
          "choropleth": [
           {
            "colorbar": {
             "outlinewidth": 0,
             "ticks": ""
            },
            "type": "choropleth"
           }
          ],
          "contour": [
           {
            "colorbar": {
             "outlinewidth": 0,
             "ticks": ""
            },
            "colorscale": [
             [
              0,
              "#0d0887"
             ],
             [
              0.1111111111111111,
              "#46039f"
             ],
             [
              0.2222222222222222,
              "#7201a8"
             ],
             [
              0.3333333333333333,
              "#9c179e"
             ],
             [
              0.4444444444444444,
              "#bd3786"
             ],
             [
              0.5555555555555556,
              "#d8576b"
             ],
             [
              0.6666666666666666,
              "#ed7953"
             ],
             [
              0.7777777777777778,
              "#fb9f3a"
             ],
             [
              0.8888888888888888,
              "#fdca26"
             ],
             [
              1,
              "#f0f921"
             ]
            ],
            "type": "contour"
           }
          ],
          "contourcarpet": [
           {
            "colorbar": {
             "outlinewidth": 0,
             "ticks": ""
            },
            "type": "contourcarpet"
           }
          ],
          "heatmap": [
           {
            "colorbar": {
             "outlinewidth": 0,
             "ticks": ""
            },
            "colorscale": [
             [
              0,
              "#0d0887"
             ],
             [
              0.1111111111111111,
              "#46039f"
             ],
             [
              0.2222222222222222,
              "#7201a8"
             ],
             [
              0.3333333333333333,
              "#9c179e"
             ],
             [
              0.4444444444444444,
              "#bd3786"
             ],
             [
              0.5555555555555556,
              "#d8576b"
             ],
             [
              0.6666666666666666,
              "#ed7953"
             ],
             [
              0.7777777777777778,
              "#fb9f3a"
             ],
             [
              0.8888888888888888,
              "#fdca26"
             ],
             [
              1,
              "#f0f921"
             ]
            ],
            "type": "heatmap"
           }
          ],
          "heatmapgl": [
           {
            "colorbar": {
             "outlinewidth": 0,
             "ticks": ""
            },
            "colorscale": [
             [
              0,
              "#0d0887"
             ],
             [
              0.1111111111111111,
              "#46039f"
             ],
             [
              0.2222222222222222,
              "#7201a8"
             ],
             [
              0.3333333333333333,
              "#9c179e"
             ],
             [
              0.4444444444444444,
              "#bd3786"
             ],
             [
              0.5555555555555556,
              "#d8576b"
             ],
             [
              0.6666666666666666,
              "#ed7953"
             ],
             [
              0.7777777777777778,
              "#fb9f3a"
             ],
             [
              0.8888888888888888,
              "#fdca26"
             ],
             [
              1,
              "#f0f921"
             ]
            ],
            "type": "heatmapgl"
           }
          ],
          "histogram": [
           {
            "marker": {
             "colorbar": {
              "outlinewidth": 0,
              "ticks": ""
             }
            },
            "type": "histogram"
           }
          ],
          "histogram2d": [
           {
            "colorbar": {
             "outlinewidth": 0,
             "ticks": ""
            },
            "colorscale": [
             [
              0,
              "#0d0887"
             ],
             [
              0.1111111111111111,
              "#46039f"
             ],
             [
              0.2222222222222222,
              "#7201a8"
             ],
             [
              0.3333333333333333,
              "#9c179e"
             ],
             [
              0.4444444444444444,
              "#bd3786"
             ],
             [
              0.5555555555555556,
              "#d8576b"
             ],
             [
              0.6666666666666666,
              "#ed7953"
             ],
             [
              0.7777777777777778,
              "#fb9f3a"
             ],
             [
              0.8888888888888888,
              "#fdca26"
             ],
             [
              1,
              "#f0f921"
             ]
            ],
            "type": "histogram2d"
           }
          ],
          "histogram2dcontour": [
           {
            "colorbar": {
             "outlinewidth": 0,
             "ticks": ""
            },
            "colorscale": [
             [
              0,
              "#0d0887"
             ],
             [
              0.1111111111111111,
              "#46039f"
             ],
             [
              0.2222222222222222,
              "#7201a8"
             ],
             [
              0.3333333333333333,
              "#9c179e"
             ],
             [
              0.4444444444444444,
              "#bd3786"
             ],
             [
              0.5555555555555556,
              "#d8576b"
             ],
             [
              0.6666666666666666,
              "#ed7953"
             ],
             [
              0.7777777777777778,
              "#fb9f3a"
             ],
             [
              0.8888888888888888,
              "#fdca26"
             ],
             [
              1,
              "#f0f921"
             ]
            ],
            "type": "histogram2dcontour"
           }
          ],
          "mesh3d": [
           {
            "colorbar": {
             "outlinewidth": 0,
             "ticks": ""
            },
            "type": "mesh3d"
           }
          ],
          "parcoords": [
           {
            "line": {
             "colorbar": {
              "outlinewidth": 0,
              "ticks": ""
             }
            },
            "type": "parcoords"
           }
          ],
          "pie": [
           {
            "automargin": true,
            "type": "pie"
           }
          ],
          "scatter": [
           {
            "marker": {
             "colorbar": {
              "outlinewidth": 0,
              "ticks": ""
             }
            },
            "type": "scatter"
           }
          ],
          "scatter3d": [
           {
            "line": {
             "colorbar": {
              "outlinewidth": 0,
              "ticks": ""
             }
            },
            "marker": {
             "colorbar": {
              "outlinewidth": 0,
              "ticks": ""
             }
            },
            "type": "scatter3d"
           }
          ],
          "scattercarpet": [
           {
            "marker": {
             "colorbar": {
              "outlinewidth": 0,
              "ticks": ""
             }
            },
            "type": "scattercarpet"
           }
          ],
          "scattergeo": [
           {
            "marker": {
             "colorbar": {
              "outlinewidth": 0,
              "ticks": ""
             }
            },
            "type": "scattergeo"
           }
          ],
          "scattergl": [
           {
            "marker": {
             "colorbar": {
              "outlinewidth": 0,
              "ticks": ""
             }
            },
            "type": "scattergl"
           }
          ],
          "scattermapbox": [
           {
            "marker": {
             "colorbar": {
              "outlinewidth": 0,
              "ticks": ""
             }
            },
            "type": "scattermapbox"
           }
          ],
          "scatterpolar": [
           {
            "marker": {
             "colorbar": {
              "outlinewidth": 0,
              "ticks": ""
             }
            },
            "type": "scatterpolar"
           }
          ],
          "scatterpolargl": [
           {
            "marker": {
             "colorbar": {
              "outlinewidth": 0,
              "ticks": ""
             }
            },
            "type": "scatterpolargl"
           }
          ],
          "scatterternary": [
           {
            "marker": {
             "colorbar": {
              "outlinewidth": 0,
              "ticks": ""
             }
            },
            "type": "scatterternary"
           }
          ],
          "surface": [
           {
            "colorbar": {
             "outlinewidth": 0,
             "ticks": ""
            },
            "colorscale": [
             [
              0,
              "#0d0887"
             ],
             [
              0.1111111111111111,
              "#46039f"
             ],
             [
              0.2222222222222222,
              "#7201a8"
             ],
             [
              0.3333333333333333,
              "#9c179e"
             ],
             [
              0.4444444444444444,
              "#bd3786"
             ],
             [
              0.5555555555555556,
              "#d8576b"
             ],
             [
              0.6666666666666666,
              "#ed7953"
             ],
             [
              0.7777777777777778,
              "#fb9f3a"
             ],
             [
              0.8888888888888888,
              "#fdca26"
             ],
             [
              1,
              "#f0f921"
             ]
            ],
            "type": "surface"
           }
          ],
          "table": [
           {
            "cells": {
             "fill": {
              "color": "#EBF0F8"
             },
             "line": {
              "color": "white"
             }
            },
            "header": {
             "fill": {
              "color": "#C8D4E3"
             },
             "line": {
              "color": "white"
             }
            },
            "type": "table"
           }
          ]
         },
         "layout": {
          "annotationdefaults": {
           "arrowcolor": "#2a3f5f",
           "arrowhead": 0,
           "arrowwidth": 1
          },
          "autotypenumbers": "strict",
          "coloraxis": {
           "colorbar": {
            "outlinewidth": 0,
            "ticks": ""
           }
          },
          "colorscale": {
           "diverging": [
            [
             0,
             "#8e0152"
            ],
            [
             0.1,
             "#c51b7d"
            ],
            [
             0.2,
             "#de77ae"
            ],
            [
             0.3,
             "#f1b6da"
            ],
            [
             0.4,
             "#fde0ef"
            ],
            [
             0.5,
             "#f7f7f7"
            ],
            [
             0.6,
             "#e6f5d0"
            ],
            [
             0.7,
             "#b8e186"
            ],
            [
             0.8,
             "#7fbc41"
            ],
            [
             0.9,
             "#4d9221"
            ],
            [
             1,
             "#276419"
            ]
           ],
           "sequential": [
            [
             0,
             "#0d0887"
            ],
            [
             0.1111111111111111,
             "#46039f"
            ],
            [
             0.2222222222222222,
             "#7201a8"
            ],
            [
             0.3333333333333333,
             "#9c179e"
            ],
            [
             0.4444444444444444,
             "#bd3786"
            ],
            [
             0.5555555555555556,
             "#d8576b"
            ],
            [
             0.6666666666666666,
             "#ed7953"
            ],
            [
             0.7777777777777778,
             "#fb9f3a"
            ],
            [
             0.8888888888888888,
             "#fdca26"
            ],
            [
             1,
             "#f0f921"
            ]
           ],
           "sequentialminus": [
            [
             0,
             "#0d0887"
            ],
            [
             0.1111111111111111,
             "#46039f"
            ],
            [
             0.2222222222222222,
             "#7201a8"
            ],
            [
             0.3333333333333333,
             "#9c179e"
            ],
            [
             0.4444444444444444,
             "#bd3786"
            ],
            [
             0.5555555555555556,
             "#d8576b"
            ],
            [
             0.6666666666666666,
             "#ed7953"
            ],
            [
             0.7777777777777778,
             "#fb9f3a"
            ],
            [
             0.8888888888888888,
             "#fdca26"
            ],
            [
             1,
             "#f0f921"
            ]
           ]
          },
          "colorway": [
           "#636efa",
           "#EF553B",
           "#00cc96",
           "#ab63fa",
           "#FFA15A",
           "#19d3f3",
           "#FF6692",
           "#B6E880",
           "#FF97FF",
           "#FECB52"
          ],
          "font": {
           "color": "#2a3f5f"
          },
          "geo": {
           "bgcolor": "white",
           "lakecolor": "white",
           "landcolor": "#E5ECF6",
           "showlakes": true,
           "showland": true,
           "subunitcolor": "white"
          },
          "hoverlabel": {
           "align": "left"
          },
          "hovermode": "closest",
          "mapbox": {
           "style": "light"
          },
          "paper_bgcolor": "white",
          "plot_bgcolor": "#E5ECF6",
          "polar": {
           "angularaxis": {
            "gridcolor": "white",
            "linecolor": "white",
            "ticks": ""
           },
           "bgcolor": "#E5ECF6",
           "radialaxis": {
            "gridcolor": "white",
            "linecolor": "white",
            "ticks": ""
           }
          },
          "scene": {
           "xaxis": {
            "backgroundcolor": "#E5ECF6",
            "gridcolor": "white",
            "gridwidth": 2,
            "linecolor": "white",
            "showbackground": true,
            "ticks": "",
            "zerolinecolor": "white"
           },
           "yaxis": {
            "backgroundcolor": "#E5ECF6",
            "gridcolor": "white",
            "gridwidth": 2,
            "linecolor": "white",
            "showbackground": true,
            "ticks": "",
            "zerolinecolor": "white"
           },
           "zaxis": {
            "backgroundcolor": "#E5ECF6",
            "gridcolor": "white",
            "gridwidth": 2,
            "linecolor": "white",
            "showbackground": true,
            "ticks": "",
            "zerolinecolor": "white"
           }
          },
          "shapedefaults": {
           "line": {
            "color": "#2a3f5f"
           }
          },
          "ternary": {
           "aaxis": {
            "gridcolor": "white",
            "linecolor": "white",
            "ticks": ""
           },
           "baxis": {
            "gridcolor": "white",
            "linecolor": "white",
            "ticks": ""
           },
           "bgcolor": "#E5ECF6",
           "caxis": {
            "gridcolor": "white",
            "linecolor": "white",
            "ticks": ""
           }
          },
          "title": {
           "x": 0.05
          },
          "xaxis": {
           "automargin": true,
           "gridcolor": "white",
           "linecolor": "white",
           "ticks": "",
           "title": {
            "standoff": 15
           },
           "zerolinecolor": "white",
           "zerolinewidth": 2
          },
          "yaxis": {
           "automargin": true,
           "gridcolor": "white",
           "linecolor": "white",
           "ticks": "",
           "title": {
            "standoff": 15
           },
           "zerolinecolor": "white",
           "zerolinewidth": 2
          }
         }
        },
        "xaxis": {
         "anchor": "y",
         "autorange": true,
         "domain": [
          0,
          1
         ],
         "range": [
          -0.5,
          47.5
         ],
         "title": {
          "text": "ticker"
         },
         "type": "category"
        },
        "yaxis": {
         "anchor": "x",
         "autorange": true,
         "domain": [
          0,
          1
         ],
         "range": [
          -0.415963276584702,
          0.5630917183163762
         ],
         "title": {
          "text": "value"
         },
         "type": "linear"
        }
       }
      },
      "image/png": "[encoded data removed]",
      "text/html": [
       "<div>                            <div id=\"7aa9b5f9-fbab-4cb9-88a4-a53bf4708cfb\" class=\"plotly-graph-div\" style=\"height:525px; width:100%;\"></div>            <script type=\"text/javascript\">                require([\"plotly\"], function(Plotly) {                    window.PLOTLYENV=window.PLOTLYENV || {};                                    if (document.getElementById(\"7aa9b5f9-fbab-4cb9-88a4-a53bf4708cfb\")) {                    Plotly.newPlot(                        \"7aa9b5f9-fbab-4cb9-88a4-a53bf4708cfb\",                        [{\"alignmentgroup\": \"True\", \"hovertemplate\": \"variable=value invest %<br>ticker=%{x}<br>value=%{y}<extra></extra>\", \"legendgroup\": \"value invest %\", \"marker\": {\"color\": \"#636efa\"}, \"name\": \"value invest %\", \"offsetgroup\": \"value invest %\", \"orientation\": \"v\", \"showlegend\": true, \"textposition\": \"auto\", \"type\": \"bar\", \"x\": [\"TSLA\", \"ROKU\", \"CRSP\", \"SQ\", \"NVTA\", \"TDOC\", \"Z\", \"EDIT\", \"PRLB\", \"PSTG\", \"SPOT\", \"IOVA\", \"TWLO\", \"NTLA\", \"TWST\", \"EXAS\", \"DOCU\", \"PYPL\", \"SHOP\", \"PD\", \"TSM\", \"MTLS\", \"TREE UW\", \"TWOU\", \"MORGA\", \"ICE\", \"VCYT\", \"U\", \"BEKE\", \"NTDOY\", \"ZM\", \"MCRB\", \"PACB\", \"BIDU\", \"SPLK\", \"IRDM\", \"NSTG\", \"SNPS\", \"SE\", \"TCEHY\", \"PINS\", \"CERS\", \"SSYS\", \"CGEN\", \"HUYA\", \"SYRS\", \"ONVO \", \"XONE\"], \"xaxis\": \"x\", \"y\": [0.041576934435420786, 0.029752928414919787, 0.0, 0.022107135551325867, 0.0, 0.01819869833850839, 0.013239541612163725, 0.0, 0.0, 0.011878933696387832, 0.011425421983970589, 0.009625658238872428, 0.009341266579588428, 0.0, 0.009271039134220888, 0.008543631830201617, 0.008288081533953226, 0.008194892464212627, 0.09639509258196505, 0.0, 0.0076988666023389465, 0.0, 0.0, 0.0, 0.5141389685713222, 0.006560638574404419, 0.0, 0.005843939927966644, 0.01043614589906906, 0.00725413747024534, 0.004821607550107157, 0.0, 0.0, 0.004588817460474169, 0.004295856129970111, 0.00416441109284465, 0.003976898182953822, 0.0037677690937747647, 0.0037179292112941437, 0.11641055813348634, 0.0035998393525564325, 0.0, 0.0, 0.0, 0.0027227853578820653, 0.0, 0.0, -8.080437807635719e-05], \"yaxis\": \"y\"}, {\"alignmentgroup\": \"True\", \"hovertemplate\": \"variable=value grow %<br>ticker=%{x}<br>value=%{y}<extra></extra>\", \"legendgroup\": \"value grow %\", \"marker\": {\"color\": \"#EF553B\"}, \"name\": \"value grow %\", \"offsetgroup\": \"value grow %\", \"orientation\": \"v\", \"showlegend\": true, \"textposition\": \"auto\", \"type\": \"bar\", \"x\": [\"TSLA\", \"ROKU\", \"CRSP\", \"SQ\", \"NVTA\", \"TDOC\", \"Z\", \"EDIT\", \"PRLB\", \"PSTG\", \"SPOT\", \"IOVA\", \"TWLO\", \"NTLA\", \"TWST\", \"EXAS\", \"DOCU\", \"PYPL\", \"SHOP\", \"PD\", \"TSM\", \"MTLS\", \"TREE UW\", \"TWOU\", \"MORGA\", \"ICE\", \"VCYT\", \"U\", \"BEKE\", \"NTDOY\", \"ZM\", \"MCRB\", \"PACB\", \"BIDU\", \"SPLK\", \"IRDM\", \"NSTG\", \"SNPS\", \"SE\", \"TCEHY\", \"PINS\", \"CERS\", \"SSYS\", \"CGEN\", \"HUYA\", \"SYRS\", \"ONVO \", \"XONE\"], \"xaxis\": \"x\", \"y\": [0.23765088708833995, -0.07006016871781322, -0.16191135191275946, -0.05472204463566813, -0.3670105268396481, -0.0303530704992899, -0.05798542653019446, 0.07007977545438497, -0.27272246244130977, -0.02567723423662699, -0.019677065736826607, -0.007345469198000996, -0.0024344012007001185, -0.04283770888948384, -0.0360831385840805, -0.02076463225104747, 0.007059652186217209, -0.006489950411186608, 0.04112786763944638, -0.007291194826409891, 0.038379021505037345, -0.07667563484443266, 0.009389213741635002, -0.02505768896146951, 0.0, 0.007041904281249615, -0.03132299771129453, -0.02516232197532871, -0.05275585779248366, 0.00645258023504966, -0.02619757839330127, -0.05653350502809373, -0.055521571573482725, -0.013237524880954763, -0.013168648839147673, -0.008796767613789891, -0.010169719948318643, 0.005518657484640201, -0.008575767379067685, -0.04445915072660092, -0.02307266030102641, -0.01022411061658639, -0.05368993854889957, -0.022116956821639163, -0.032233382354810464, -0.042848468353710416, 0.0016886052959774092, -0.00456569399964606], \"yaxis\": \"y\"}],                        {\"barmode\": \"relative\", \"legend\": {\"title\": {\"text\": \"variable\"}, \"tracegroupgap\": 0}, \"margin\": {\"t\": 60}, \"template\": {\"data\": {\"bar\": [{\"error_x\": {\"color\": \"#2a3f5f\"}, \"error_y\": {\"color\": \"#2a3f5f\"}, \"marker\": {\"line\": {\"color\": \"#E5ECF6\", \"width\": 0.5}}, \"type\": \"bar\"}], \"barpolar\": [{\"marker\": {\"line\": {\"color\": \"#E5ECF6\", \"width\": 0.5}}, \"type\": \"barpolar\"}], \"carpet\": [{\"aaxis\": {\"endlinecolor\": \"#2a3f5f\", \"gridcolor\": \"white\", \"linecolor\": \"white\", \"minorgridcolor\": \"white\", \"startlinecolor\": \"#2a3f5f\"}, \"baxis\": {\"endlinecolor\": \"#2a3f5f\", \"gridcolor\": \"white\", \"linecolor\": \"white\", \"minorgridcolor\": \"white\", \"startlinecolor\": \"#2a3f5f\"}, \"type\": \"carpet\"}], \"choropleth\": [{\"colorbar\": {\"outlinewidth\": 0, \"ticks\": \"\"}, \"type\": \"choropleth\"}], \"contour\": [{\"colorbar\": {\"outlinewidth\": 0, \"ticks\": \"\"}, \"colorscale\": [[0.0, \"#0d0887\"], [0.1111111111111111, \"#46039f\"], [0.2222222222222222, \"#7201a8\"], [0.3333333333333333, \"#9c179e\"], [0.4444444444444444, \"#bd3786\"], [0.5555555555555556, \"#d8576b\"], [0.6666666666666666, \"#ed7953\"], [0.7777777777777778, \"#fb9f3a\"], [0.8888888888888888, \"#fdca26\"], [1.0, \"#f0f921\"]], \"type\": \"contour\"}], \"contourcarpet\": [{\"colorbar\": {\"outlinewidth\": 0, \"ticks\": \"\"}, \"type\": \"contourcarpet\"}], \"heatmap\": [{\"colorbar\": {\"outlinewidth\": 0, \"ticks\": \"\"}, \"colorscale\": [[0.0, \"#0d0887\"], [0.1111111111111111, \"#46039f\"], [0.2222222222222222, \"#7201a8\"], [0.3333333333333333, \"#9c179e\"], [0.4444444444444444, \"#bd3786\"], [0.5555555555555556, \"#d8576b\"], [0.6666666666666666, \"#ed7953\"], [0.7777777777777778, \"#fb9f3a\"], [0.8888888888888888, \"#fdca26\"], [1.0, \"#f0f921\"]], \"type\": \"heatmap\"}], \"heatmapgl\": [{\"colorbar\": {\"outlinewidth\": 0, \"ticks\": \"\"}, \"colorscale\": [[0.0, \"#0d0887\"], [0.1111111111111111, \"#46039f\"], [0.2222222222222222, \"#7201a8\"], [0.3333333333333333, \"#9c179e\"], [0.4444444444444444, \"#bd3786\"], [0.5555555555555556, \"#d8576b\"], [0.6666666666666666, \"#ed7953\"], [0.7777777777777778, \"#fb9f3a\"], [0.8888888888888888, \"#fdca26\"], [1.0, \"#f0f921\"]], \"type\": \"heatmapgl\"}], \"histogram\": [{\"marker\": {\"colorbar\": {\"outlinewidth\": 0, \"ticks\": \"\"}}, \"type\": \"histogram\"}], \"histogram2d\": [{\"colorbar\": {\"outlinewidth\": 0, \"ticks\": \"\"}, \"colorscale\": [[0.0, \"#0d0887\"], [0.1111111111111111, \"#46039f\"], [0.2222222222222222, \"#7201a8\"], [0.3333333333333333, \"#9c179e\"], [0.4444444444444444, \"#bd3786\"], [0.5555555555555556, \"#d8576b\"], [0.6666666666666666, \"#ed7953\"], [0.7777777777777778, \"#fb9f3a\"], [0.8888888888888888, \"#fdca26\"], [1.0, \"#f0f921\"]], \"type\": \"histogram2d\"}], \"histogram2dcontour\": [{\"colorbar\": {\"outlinewidth\": 0, \"ticks\": \"\"}, \"colorscale\": [[0.0, \"#0d0887\"], [0.1111111111111111, \"#46039f\"], [0.2222222222222222, \"#7201a8\"], [0.3333333333333333, \"#9c179e\"], [0.4444444444444444, \"#bd3786\"], [0.5555555555555556, \"#d8576b\"], [0.6666666666666666, \"#ed7953\"], [0.7777777777777778, \"#fb9f3a\"], [0.8888888888888888, \"#fdca26\"], [1.0, \"#f0f921\"]], \"type\": \"histogram2dcontour\"}], \"mesh3d\": [{\"colorbar\": {\"outlinewidth\": 0, \"ticks\": \"\"}, \"type\": \"mesh3d\"}], \"parcoords\": [{\"line\": {\"colorbar\": {\"outlinewidth\": 0, \"ticks\": \"\"}}, \"type\": \"parcoords\"}], \"pie\": [{\"automargin\": true, \"type\": \"pie\"}], \"scatter\": [{\"marker\": {\"colorbar\": {\"outlinewidth\": 0, \"ticks\": \"\"}}, \"type\": \"scatter\"}], \"scatter3d\": [{\"line\": {\"colorbar\": {\"outlinewidth\": 0, \"ticks\": \"\"}}, \"marker\": {\"colorbar\": {\"outlinewidth\": 0, \"ticks\": \"\"}}, \"type\": \"scatter3d\"}], \"scattercarpet\": [{\"marker\": {\"colorbar\": {\"outlinewidth\": 0, \"ticks\": \"\"}}, \"type\": \"scattercarpet\"}], \"scattergeo\": [{\"marker\": {\"colorbar\": {\"outlinewidth\": 0, \"ticks\": \"\"}}, \"type\": \"scattergeo\"}], \"scattergl\": [{\"marker\": {\"colorbar\": {\"outlinewidth\": 0, \"ticks\": \"\"}}, \"type\": \"scattergl\"}], \"scattermapbox\": [{\"marker\": {\"colorbar\": {\"outlinewidth\": 0, \"ticks\": \"\"}}, \"type\": \"scattermapbox\"}], \"scatterpolar\": [{\"marker\": {\"colorbar\": {\"outlinewidth\": 0, \"ticks\": \"\"}}, \"type\": \"scatterpolar\"}], \"scatterpolargl\": [{\"marker\": {\"colorbar\": {\"outlinewidth\": 0, \"ticks\": \"\"}}, \"type\": \"scatterpolargl\"}], \"scatterternary\": [{\"marker\": {\"colorbar\": {\"outlinewidth\": 0, \"ticks\": \"\"}}, \"type\": \"scatterternary\"}], \"surface\": [{\"colorbar\": {\"outlinewidth\": 0, \"ticks\": \"\"}, \"colorscale\": [[0.0, \"#0d0887\"], [0.1111111111111111, \"#46039f\"], [0.2222222222222222, \"#7201a8\"], [0.3333333333333333, \"#9c179e\"], [0.4444444444444444, \"#bd3786\"], [0.5555555555555556, \"#d8576b\"], [0.6666666666666666, \"#ed7953\"], [0.7777777777777778, \"#fb9f3a\"], [0.8888888888888888, \"#fdca26\"], [1.0, \"#f0f921\"]], \"type\": \"surface\"}], \"table\": [{\"cells\": {\"fill\": {\"color\": \"#EBF0F8\"}, \"line\": {\"color\": \"white\"}}, \"header\": {\"fill\": {\"color\": \"#C8D4E3\"}, \"line\": {\"color\": \"white\"}}, \"type\": \"table\"}]}, \"layout\": {\"annotationdefaults\": {\"arrowcolor\": \"#2a3f5f\", \"arrowhead\": 0, \"arrowwidth\": 1}, \"autotypenumbers\": \"strict\", \"coloraxis\": {\"colorbar\": {\"outlinewidth\": 0, \"ticks\": \"\"}}, \"colorscale\": {\"diverging\": [[0, \"#8e0152\"], [0.1, \"#c51b7d\"], [0.2, \"#de77ae\"], [0.3, \"#f1b6da\"], [0.4, \"#fde0ef\"], [0.5, \"#f7f7f7\"], [0.6, \"#e6f5d0\"], [0.7, \"#b8e186\"], [0.8, \"#7fbc41\"], [0.9, \"#4d9221\"], [1, \"#276419\"]], \"sequential\": [[0.0, \"#0d0887\"], [0.1111111111111111, \"#46039f\"], [0.2222222222222222, \"#7201a8\"], [0.3333333333333333, \"#9c179e\"], [0.4444444444444444, \"#bd3786\"], [0.5555555555555556, \"#d8576b\"], [0.6666666666666666, \"#ed7953\"], [0.7777777777777778, \"#fb9f3a\"], [0.8888888888888888, \"#fdca26\"], [1.0, \"#f0f921\"]], \"sequentialminus\": [[0.0, \"#0d0887\"], [0.1111111111111111, \"#46039f\"], [0.2222222222222222, \"#7201a8\"], [0.3333333333333333, \"#9c179e\"], [0.4444444444444444, \"#bd3786\"], [0.5555555555555556, \"#d8576b\"], [0.6666666666666666, \"#ed7953\"], [0.7777777777777778, \"#fb9f3a\"], [0.8888888888888888, \"#fdca26\"], [1.0, \"#f0f921\"]]}, \"colorway\": [\"#636efa\", \"#EF553B\", \"#00cc96\", \"#ab63fa\", \"#FFA15A\", \"#19d3f3\", \"#FF6692\", \"#B6E880\", \"#FF97FF\", \"#FECB52\"], \"font\": {\"color\": \"#2a3f5f\"}, \"geo\": {\"bgcolor\": \"white\", \"lakecolor\": \"white\", \"landcolor\": \"#E5ECF6\", \"showlakes\": true, \"showland\": true, \"subunitcolor\": \"white\"}, \"hoverlabel\": {\"align\": \"left\"}, \"hovermode\": \"closest\", \"mapbox\": {\"style\": \"light\"}, \"paper_bgcolor\": \"white\", \"plot_bgcolor\": \"#E5ECF6\", \"polar\": {\"angularaxis\": {\"gridcolor\": \"white\", \"linecolor\": \"white\", \"ticks\": \"\"}, \"bgcolor\": \"#E5ECF6\", \"radialaxis\": {\"gridcolor\": \"white\", \"linecolor\": \"white\", \"ticks\": \"\"}}, \"scene\": {\"xaxis\": {\"backgroundcolor\": \"#E5ECF6\", \"gridcolor\": \"white\", \"gridwidth\": 2, \"linecolor\": \"white\", \"showbackground\": true, \"ticks\": \"\", \"zerolinecolor\": \"white\"}, \"yaxis\": {\"backgroundcolor\": \"#E5ECF6\", \"gridcolor\": \"white\", \"gridwidth\": 2, \"linecolor\": \"white\", \"showbackground\": true, \"ticks\": \"\", \"zerolinecolor\": \"white\"}, \"zaxis\": {\"backgroundcolor\": \"#E5ECF6\", \"gridcolor\": \"white\", \"gridwidth\": 2, \"linecolor\": \"white\", \"showbackground\": true, \"ticks\": \"\", \"zerolinecolor\": \"white\"}}, \"shapedefaults\": {\"line\": {\"color\": \"#2a3f5f\"}}, \"ternary\": {\"aaxis\": {\"gridcolor\": \"white\", \"linecolor\": \"white\", \"ticks\": \"\"}, \"baxis\": {\"gridcolor\": \"white\", \"linecolor\": \"white\", \"ticks\": \"\"}, \"bgcolor\": \"#E5ECF6\", \"caxis\": {\"gridcolor\": \"white\", \"linecolor\": \"white\", \"ticks\": \"\"}}, \"title\": {\"x\": 0.05}, \"xaxis\": {\"automargin\": true, \"gridcolor\": \"white\", \"linecolor\": \"white\", \"ticks\": \"\", \"title\": {\"standoff\": 15}, \"zerolinecolor\": \"white\", \"zerolinewidth\": 2}, \"yaxis\": {\"automargin\": true, \"gridcolor\": \"white\", \"linecolor\": \"white\", \"ticks\": \"\", \"title\": {\"standoff\": 15}, \"zerolinecolor\": \"white\", \"zerolinewidth\": 2}}}, \"xaxis\": {\"anchor\": \"y\", \"domain\": [0.0, 1.0], \"title\": {\"text\": \"ticker\"}}, \"yaxis\": {\"anchor\": \"x\", \"domain\": [0.0, 1.0], \"title\": {\"text\": \"value\"}}},                        {\"responsive\": true}                    ).then(function(){\n",
       "                            \n",
       "var gd = document.getElementById('7aa9b5f9-fbab-4cb9-88a4-a53bf4708cfb');\n",
       "var x = new MutationObserver(function (mutations, observer) {{\n",
       "        var display = window.getComputedStyle(gd).display;\n",
       "        if (!display || display === 'none') {{\n",
       "            console.log([gd, 'removed!']);\n",
       "            Plotly.purge(gd);\n",
       "            observer.disconnect();\n",
       "        }}\n",
       "}});\n",
       "\n",
       "// Listen for the removal of the full notebook cells\n",
       "var notebookContainer = gd.closest('#notebook-container');\n",
       "if (notebookContainer) {{\n",
       "    x.observe(notebookContainer, {childList: true});\n",
       "}}\n",
       "\n",
       "// Listen for the clearing of the current output cell\n",
       "var outputEl = gd.closest('.output');\n",
       "if (outputEl) {{\n",
       "    x.observe(outputEl, {childList: true});\n",
       "}}\n",
       "\n",
       "                        })                };                });            </script>        </div>"
      ]
     },
     "metadata": {},
     "output_type": "display_data"
    }
   ],
   "source": [
    "fig1=px.bar(data_out,x='ticker',y=['value invest','value grow'])\n",
    "fig1.show()\n",
    "\n",
    "fig2=px.bar(data_out,x='ticker',y=['value invest %','value grow %'])\n",
    "fig2.show()\n"
   ]
  }
 ],
 "metadata": {
  "kernelspec": {
   "display_name": "Python 3",
   "language": "python",
   "name": "python3"
  },
  "language_info": {
   "codemirror_mode": {
    "name": "ipython",
    "version": 3
   },
   "file_extension": ".py",
   "mimetype": "text/x-python",
   "name": "python",
   "nbconvert_exporter": "python",
   "pygments_lexer": "ipython3",
   "version": "3.8.6"
  }
 },
 "nbformat": 4,
 "nbformat_minor": 4
}
